{
  "nbformat": 4,
  "nbformat_minor": 0,
  "metadata": {
    "colab": {
      "name": "19A21A0566-Mounika Sri Valli Addala.ipynb",
      "provenance": [],
      "collapsed_sections": [],
      "authorship_tag": "ABX9TyOhplBL6IMQDBLw5AptjJQS",
      "include_colab_link": true
    },
    "kernelspec": {
      "display_name": "Python 3",
      "name": "python3"
    },
    "language_info": {
      "name": "python"
    }
  },
  "cells": [
    {
      "cell_type": "markdown",
      "metadata": {
        "id": "view-in-github",
        "colab_type": "text"
      },
      "source": [
        "<a href=\"https://colab.research.google.com/github/MounikaAddala/LabExercises/blob/main/19A21A0566_Mounika_Sri_Valli_Addala.ipynb\" target=\"_parent\"><img src=\"https://colab.research.google.com/assets/colab-badge.svg\" alt=\"Open In Colab\"/></a>"
      ]
    },
    {
      "cell_type": "code",
      "metadata": {
        "id": "hcxVvQoW--h4"
      },
      "source": [
        ""
      ],
      "execution_count": null,
      "outputs": []
    },
    {
      "cell_type": "markdown",
      "metadata": {
        "id": "GiwsFuk8_RFw"
      },
      "source": [
        "# EXERCISE 1-Basics\n",
        "\n",
        "# a)Running instructions in Interactive interpreter and a python script\n",
        "# AIM:\n",
        "  \n",
        "  TO run instructions in interactive interpreter and a python script.\n",
        "\n",
        "# DESCRIPTION:\n",
        "\n",
        "   Interactive mode(REPL) provides us with a quick way of running blocks or a single line of python code.The code executes via the python shell which comes with python installation.To access the python shell,open the terminal of your os & type \"python\" press the enter key & and the python shell will appear.\n",
        "\n",
        "\n",
        "\n"
      ]
    },
    {
      "cell_type": "code",
      "metadata": {
        "colab": {
          "base_uri": "https://localhost:8080/"
        },
        "id": "HT6IXLGgDxS-",
        "outputId": "4142926f-57e1-4ab9-867f-fcdb266b9109"
      },
      "source": [
        "print(\"Hello,Mounika\")"
      ],
      "execution_count": null,
      "outputs": [
        {
          "name": "stdout",
          "output_type": "stream",
          "text": [
            "Hello,Mounika\n"
          ]
        }
      ]
    },
    {
      "cell_type": "markdown",
      "metadata": {
        "id": "sME0in5JEGtP"
      },
      "source": [
        "# b)Write a program to purposefully raise indentation error and correct it.\n",
        "\n",
        "# AIM:\n",
        "\n",
        "  To write a program to purposefully raise indentation error and correct it.\n",
        "\n",
        "# DESCRIPTION:\n",
        "\n",
        "  Indentation is a way of telling a python interpreter that the group of statements belongs to a particular block of code.\n",
        "\n",
        "  Whitespace is used for indentation.All the statements with the same distance to the right belong to the same block of code. "
      ]
    },
    {
      "cell_type": "code",
      "metadata": {
        "colab": {
          "base_uri": "https://localhost:8080/",
          "height": 129
        },
        "id": "buH0Yl7DEWdm",
        "outputId": "113b3f9e-5386-45ad-fa52-08c5d88cd57a"
      },
      "source": [
        "if True:\n",
        "print(\"True\")\n",
        "else:\n",
        "  print(\"False\")"
      ],
      "execution_count": null,
      "outputs": [
        {
          "ename": "IndentationError",
          "evalue": "ignored",
          "output_type": "error",
          "traceback": [
            "\u001b[0;36m  File \u001b[0;32m\"<ipython-input-2-0f41a9d4bf14>\"\u001b[0;36m, line \u001b[0;32m2\u001b[0m\n\u001b[0;31m    print(\"True\")\u001b[0m\n\u001b[0m        ^\u001b[0m\n\u001b[0;31mIndentationError\u001b[0m\u001b[0;31m:\u001b[0m expected an indented block\n"
          ]
        }
      ]
    },
    {
      "cell_type": "code",
      "metadata": {
        "colab": {
          "base_uri": "https://localhost:8080/"
        },
        "id": "5LIo0q60Em0l",
        "outputId": "ccae043b-5f71-4e85-8ed3-667971a718da"
      },
      "source": [
        "if True:\n",
        "  print(\"True\")\n",
        "else:\n",
        "  print(\"False\")"
      ],
      "execution_count": null,
      "outputs": [
        {
          "name": "stdout",
          "output_type": "stream",
          "text": [
            "True\n"
          ]
        }
      ]
    },
    {
      "cell_type": "code",
      "metadata": {
        "colab": {
          "base_uri": "https://localhost:8080/"
        },
        "id": "MjRy4rH_Ezw1",
        "outputId": "8d7fc017-1e81-4bc7-d8d7-160c2d121299"
      },
      "source": [
        "if True:\n",
        "  print(\"True1\")\n",
        "  print(\"True2\")\n",
        "else:\n",
        "  print(\"False\")"
      ],
      "execution_count": null,
      "outputs": [
        {
          "name": "stdout",
          "output_type": "stream",
          "text": [
            "True1\n",
            "True2\n"
          ]
        }
      ]
    },
    {
      "cell_type": "markdown",
      "metadata": {
        "id": "sKcpXRcnFn_k"
      },
      "source": [
        "\n",
        "# EXERCISE 2-Operations\n",
        "\n",
        "# a)Write a program to compute distance between two points taking input from the user.\n",
        "\n",
        "# AIM:\n",
        "\n",
        "  To write a program to compute distance between two points taking input from the user.\n",
        "\n",
        "# DESCRIPTION:\n",
        "\n",
        "  Let p1(x1,y1), p2(x2,y2) are the points and d be the distance between p1 & p2.\n",
        "\n",
        "  d=sqrt(((x2-x1)**2)+((y2-y1)**2)).\n",
        "\n",
        "\n",
        "\n"
      ]
    },
    {
      "cell_type": "code",
      "metadata": {
        "colab": {
          "base_uri": "https://localhost:8080/"
        },
        "id": "XdbTunSzGS5q",
        "outputId": "d5f72004-3558-40d5-e62b-acbe7f4bce26"
      },
      "source": [
        "import math\n",
        "x1=int(input(\"Enter x1 value:\"))\n",
        "x2=int(input(\"Enter x2 value:\"))\n",
        "y1=int(input(\"Enter y1 value:\"))\n",
        "y2=int(input(\"Enter y2 value:\"))\n",
        "\n",
        "d=math.sqrt((x2-x1)**2+((y2-y1)**2))\n",
        "print(\"Distance of two points:\",d)"
      ],
      "execution_count": null,
      "outputs": [
        {
          "name": "stdout",
          "output_type": "stream",
          "text": [
            "Enter x1 value:10\n",
            "Enter x2 value:3\n",
            "Enter y1 value:4\n",
            "Enter y2 value:5\n",
            "Distance of two points: 7.0710678118654755\n"
          ]
        }
      ]
    },
    {
      "cell_type": "markdown",
      "metadata": {
        "id": "NQdvzPr6HCD8"
      },
      "source": [
        "# b)Write a program add.py that takes 2 numbers as command line arguments and print its sum.\n",
        "\n",
        "# AIM:\n",
        "\n",
        "  To write a program add.py that takes 2 numbers as command line arguments and to print it's sum.\n",
        "\n",
        "# DESCRIPTION:\n",
        "\n",
        "  Step1: Open notepad and write the code after that save file with add.py extension.\n",
        "\n",
        "  Step2: Open command prompt and type as follows:\n",
        "\n",
        "   >python add.py n1 n2 ....then it prints the output.\n"
      ]
    },
    {
      "cell_type": "code",
      "metadata": {
        "colab": {
          "base_uri": "https://localhost:8080/"
        },
        "id": "najlQNkdHuuX",
        "outputId": "98ced753-b194-4f36-f0e3-df135f3ee179"
      },
      "source": [
        "!python3 /content/sample_data/add.py 10 20"
      ],
      "execution_count": null,
      "outputs": [
        {
          "output_type": "stream",
          "name": "stdout",
          "text": [
            "sum is 30\n"
          ]
        }
      ]
    },
    {
      "cell_type": "markdown",
      "metadata": {
        "id": "JGNsIqrgLmak"
      },
      "source": [
        "# EXERCISE 3- Control flow\n",
        "\n",
        "# a)Write a program for checking whether the given number is an even number or not.\n",
        "\n",
        "# AIM:\n",
        "\n",
        "  To write a program for checking whether the given number is an even number or not.\n",
        "\n",
        "# DESCRIPTION:\n",
        "  \n",
        "  If given number%2==0 or !=1 then it is even number.\n",
        "\n",
        "  If given number%2==1 then it is odd number.\n",
        "\n",
        "  In this program we use if-else control statements.\n"
      ]
    },
    {
      "cell_type": "code",
      "metadata": {
        "colab": {
          "base_uri": "https://localhost:8080/"
        },
        "id": "sZNTinkhMFUL",
        "outputId": "df7e150a-76b5-49d0-a38b-c603d6a3c136"
      },
      "source": [
        "#To check given number is even or odd\n",
        "n=int(input(\"Enter a number\"))\n",
        "if n%2==0:\n",
        "  print(\"Given number is even\")\n",
        "else:\n",
        "  print(\"Given number is odd\")"
      ],
      "execution_count": null,
      "outputs": [
        {
          "name": "stdout",
          "output_type": "stream",
          "text": [
            "Enter a number5\n",
            "Given number is odd\n"
          ]
        }
      ]
    },
    {
      "cell_type": "markdown",
      "metadata": {
        "id": "VQGTjyMyVCJk"
      },
      "source": [
        "# b)Using a for loop, write a program that prints out the decimal equivalents of 1/2,1/3,1/4,....1/10.\n",
        "\n",
        "# AIM:\n",
        "\n",
        "To write a program that prints out the decimal equivalenta of 1/2,1/3,1/4,....1/10.\n",
        "\n",
        "# DESCRIPTION: \n",
        "  \n",
        "A for loop is a programming concept that, when it's implemented, executes a piece of code over and over again \"for\" a certain number of times, based on a sequence. In contrast to the while loop, there isn't any condition actively involved - you just execute a piece of code repeatedly for a number of times.\n",
        " "
      ]
    },
    {
      "cell_type": "code",
      "metadata": {
        "colab": {
          "base_uri": "https://localhost:8080/"
        },
        "id": "pWpLgd-4VazL",
        "outputId": "4def0bcd-1bc5-4cd9-fff1-c511029c986f"
      },
      "source": [
        "#prints out the decimal equivalents of 1/2,1/3,1/4,....1/10\n",
        "n=int(input(\"Enter a number:\"))\n",
        "for i in range(2,n):\n",
        "  de=1/i\n",
        "  print(\"1/\"+str(i)+\"=\",de)"
      ],
      "execution_count": null,
      "outputs": [
        {
          "name": "stdout",
          "output_type": "stream",
          "text": [
            "Enter a number:10\n",
            "1/2= 0.5\n",
            "1/3= 0.3333333333333333\n",
            "1/4= 0.25\n",
            "1/5= 0.2\n",
            "1/6= 0.16666666666666666\n",
            "1/7= 0.14285714285714285\n",
            "1/8= 0.125\n",
            "1/9= 0.1111111111111111\n"
          ]
        }
      ]
    },
    {
      "cell_type": "markdown",
      "metadata": {
        "id": "J90lQcHWWUOe"
      },
      "source": [
        "# c)Write a program using a for loop that loops over a sequence.What is sequence.\n",
        "\n",
        "# AIM:\n",
        "\n",
        "  To Write a program using a for loop that loops over a sequence.\n",
        "\n",
        "# DESCRIPTION:\n",
        "\n",
        "Sequence:\n",
        "\n",
        "In Python, sequence is the generic term for an ordered set. There are several types of sequences in Python, the following three are the most important.\n",
        "\n",
        "Lists are the most versatile sequence type. The elements of a list can be any object, and lists are mutable - they can be changed. Elements can be reassigned or removed, and new elements can be inserted.\n",
        "\n",
        "Tuples are like lists, but they are immutable - they can't be changed.\n",
        "\n",
        "Strings are a special type of sequence that can only store characters, and they have a special notation. However, all of the sequence operations described below can also be used on strings.\n",
        "\n"
      ]
    },
    {
      "cell_type": "code",
      "metadata": {
        "colab": {
          "base_uri": "https://localhost:8080/"
        },
        "id": "cCOBOf2lWrJO",
        "outputId": "75c84245-117c-414c-dbf3-de0f873e677c"
      },
      "source": [
        "arr=[4,\"abc\",-45,'C',10.5,True,5,10.6,'xyz']\n",
        "print(\"Given Array:\",arr)\n",
        "for x in arr:\n",
        "  print(x)"
      ],
      "execution_count": null,
      "outputs": [
        {
          "name": "stdout",
          "output_type": "stream",
          "text": [
            "Given Array: [4, 'abc', -45, 'C', 10.5, True, 5, 10.6, 'xyz']\n",
            "4\n",
            "abc\n",
            "-45\n",
            "C\n",
            "10.5\n",
            "True\n",
            "5\n",
            "10.6\n",
            "xyz\n"
          ]
        }
      ]
    },
    {
      "cell_type": "markdown",
      "metadata": {
        "id": "-0SZMESSXspC"
      },
      "source": [
        "# d)Write a program using a while loop that asks the user for a number,and prints a countdown from that number to zero.\n",
        "\n",
        "# AIM:\n",
        " \n",
        "  To Write a program using a while loop that asks the user for a number,and prints a countdown from that number to zero.\n",
        "\n",
        "# DESCRIPTION:\n",
        "\n",
        "While Loop is used to execute a block of statements repeatedly until a given condition is satisfied. And when the condition becomes false, the line immediately after the loop in the program is executed. While loop falls under the category of indefinite iteration.\n",
        "\n",
        "\n"
      ]
    },
    {
      "cell_type": "code",
      "metadata": {
        "colab": {
          "base_uri": "https://localhost:8080/"
        },
        "id": "lIfhDFSQX_uC",
        "outputId": "e69e8a47-e199-4cee-9fcb-e6b865f9ae6f"
      },
      "source": [
        "n=int(input(\"ENter value of n:\"))\n",
        "while n>=0:\n",
        "  print(n)\n",
        "  n=n-1"
      ],
      "execution_count": null,
      "outputs": [
        {
          "name": "stdout",
          "output_type": "stream",
          "text": [
            "ENter value of n:10\n",
            "10\n",
            "9\n",
            "8\n",
            "7\n",
            "6\n",
            "5\n",
            "4\n",
            "3\n",
            "2\n",
            "1\n",
            "0\n"
          ]
        }
      ]
    },
    {
      "cell_type": "markdown",
      "metadata": {
        "id": "nu1RbbDhYaqd"
      },
      "source": [
        "## EXERCISE 4-Control Flow-Continued\n",
        "\n",
        "# a)Find the sum of all the primes below two million.\n",
        "\n",
        "# AIM:\n",
        "\n",
        " To find the sum of all the primes below two million.\n",
        "\n",
        "# DESCRIPTION:\n",
        "\n",
        "A prime number is a natural number greater than 1 that is not a product of two smaller natural numbers. A natural number greater than 1 that is not prime is called a composite number. For example, 5 is prime because the only ways of writing it as a product, 1 × 5 or 5 × 1, involve 5 itself.\n"
      ]
    },
    {
      "cell_type": "code",
      "metadata": {
        "colab": {
          "base_uri": "https://localhost:8080/"
        },
        "id": "wx7S1t6VY2Kn",
        "outputId": "60538459-7c8b-4685-cdde-c260696bf5bd"
      },
      "source": [
        "#sum of all the primes of given number below two million\n",
        "n=int(input(\"Enter an ending number:\"))\n",
        "st=\"\"\n",
        "sum=0\n",
        "for i in range(2,n):\n",
        "  state=True\n",
        "  for j in range(2,i):\n",
        "    if(i%j)==0:\n",
        "      state=False\n",
        "      break;\n",
        "  if state==True:\n",
        "    st+=\" \"+str(i)\n",
        "    sum+=i\n",
        "print(\"Prime numbers:\")\n",
        "print(st)\n",
        "print(\"Sum of the prime numbes:\",sum)"
      ],
      "execution_count": null,
      "outputs": [
        {
          "output_type": "stream",
          "name": "stdout",
          "text": [
            "Enter an ending number:100\n",
            "Prime numbers:\n",
            " 2 3 5 7 11 13 17 19 23 29 31 37 41 43 47 53 59 61 67 71 73 79 83 89 97\n",
            "Sum of the prime numbes: 1060\n"
          ]
        }
      ]
    },
    {
      "cell_type": "markdown",
      "metadata": {
        "id": "iHMY-4X_aifc"
      },
      "source": [
        "# b)Each new term in the fibonacci sequence is generated by adding the previous two terms.By starting with 1 and 2 ,the first 10 terms will be :1,2,3,5,8,13,21,34,55,89,...\n",
        "\n",
        "# AIM:\n",
        "\n",
        "To find Each new term in the fibonacci sequence is generated by adding the previous two terms.By starting with 1 and 2 ,the first 10 terms will be :1,2,3,5,8,13,21,34,55,89,...\n",
        "\n",
        "# DESCRIPTION:\n",
        "\n",
        "The Fibonacci sequence is one of the most famous formulas in mathematics. Each number in the sequence is the sum of the two numbers that precede it. So, the sequence goes: 0, 1, 1, 2, 3, 5, 8, 13, 21, 34, and so on. The mathematical equation describing it is Xn+2= Xn+1 + Xn.\n",
        "\n"
      ]
    },
    {
      "cell_type": "code",
      "metadata": {
        "colab": {
          "base_uri": "https://localhost:8080/"
        },
        "id": "a5GQ7OCfbUDj",
        "outputId": "fddcf993-c679-48f2-884c-8458c7a33b87"
      },
      "source": [
        "#Fibonacci series\n",
        "n=int(input(\"Enter value of n:\"))\n",
        "a=0\n",
        "b=1\n",
        "c=a+b\n",
        "while c<n:\n",
        "  print(c,end=\" \")\n",
        "  a=b\n",
        "  b=c\n",
        "  c=a+b\n"
      ],
      "execution_count": null,
      "outputs": [
        {
          "name": "stdout",
          "output_type": "stream",
          "text": [
            "Enter value of n:100\n",
            "1 2 3 5 8 13 21 34 55 89 "
          ]
        }
      ]
    },
    {
      "cell_type": "markdown",
      "metadata": {
        "id": "B3wGLA-OcSj2"
      },
      "source": [
        "# c)By considering the terms in the fibonacci sequence whose values do not exceed four million, find the sum of the even-valued terms.\n",
        "\n",
        "# AIM:\n",
        "\n",
        "By considering the terms in the fibonacci sequence whose values do not exceed four million, find the sum of the even-valued terms.\n",
        "\n",
        "# DESCRIPTION:\n",
        "\n",
        "The Fibonacci sequence is one of the most famous formulas in mathematics. Each number in the sequence is the sum of the two numbers that precede it. So, the sequence goes: 0, 1, 1, 2, 3, 5, 8, 13, 21, 34, and so on. The mathematical equation describing it is Xn+2= Xn+1 + Xn.\n",
        "\n",
        "\n"
      ]
    },
    {
      "cell_type": "code",
      "metadata": {
        "colab": {
          "base_uri": "https://localhost:8080/"
        },
        "id": "U0-1KVdwehNY",
        "outputId": "eff00f3e-d63e-4713-eca9-de6ec077e540"
      },
      "source": [
        "n=int(input(\"Enter value of n:\"))\n",
        "a=0\n",
        "b=1\n",
        "c=a+b\n",
        "sum=0\n",
        "print(\"Even numbers in Fibonacci series:\",end=\" \")\n",
        "while c<=n:\n",
        "  if c%2==0:\n",
        "    print(c,end=' ')\n",
        "    sum+=c\n",
        "  a=b\n",
        "  b=c\n",
        "  c=a+b\n",
        "print(\"\\nSum of Fibonacci series is:\",sum)"
      ],
      "execution_count": null,
      "outputs": [
        {
          "name": "stdout",
          "output_type": "stream",
          "text": [
            "Enter value of n:200000\n",
            "Even numbers in Fibonacci series: 2 8 34 144 610 2584 10946 46368 196418 \n",
            "Sum of Fibonacci series is: 257114\n"
          ]
        }
      ]
    },
    {
      "cell_type": "markdown",
      "metadata": {
        "id": "tY9sjFKHfpKe"
      },
      "source": [
        "# EXERCISE 5-DS\n",
        "\n",
        "# a)Write a program to count the numbers of characters in the string and store them in a dictionary data structure.\n",
        "\n",
        "# AIM:\n",
        "\n",
        "To Write a program to count the numbers of characters in the string and store them in a dictionary data structure.\n",
        "\n",
        "# DESCRIPTION:\n",
        "\n",
        "Dictionary in Python is an unordered collection of data values, used to store data values like a map, which, unlike other Data Types that hold only a single value as an element, Dictionary holds key:value pair. Key-value is provided in the dictionary to make it more optimized."
      ]
    },
    {
      "cell_type": "code",
      "metadata": {
        "colab": {
          "base_uri": "https://localhost:8080/"
        },
        "id": "OeZ0I6AVgG58",
        "outputId": "c324a471-83e3-4b21-c174-56745fd0e900"
      },
      "source": [
        "name=input(\"Enter a name:\")\n",
        "dic={}\n",
        "\n",
        "for ch in name:\n",
        "  keys=dic.keys()\n",
        "\n",
        "  if(ch in keys):\n",
        "    dic[ch]=dic[ch]+1\n",
        "  else:\n",
        "    dic[ch]=1\n",
        "print(\"Dictionary is :\",dic)\n",
        "\n"
      ],
      "execution_count": null,
      "outputs": [
        {
          "name": "stdout",
          "output_type": "stream",
          "text": [
            "Enter a name:mounikasrivalli\n",
            "Dictionary is : {'m': 1, 'o': 1, 'u': 1, 'n': 1, 'i': 3, 'k': 1, 'a': 2, 's': 1, 'r': 1, 'v': 1, 'l': 2}\n"
          ]
        }
      ]
    },
    {
      "cell_type": "markdown",
      "metadata": {
        "id": "barKfIc1YijQ"
      },
      "source": [
        "# b)Write a program to use split and join methods in the string and trace a birthday with a dictionary data structure.\n",
        "\n",
        "# AIM:\n",
        "\n",
        "To Write a program to use split and join methods in the string and trace a birthday with a dictionary data structure.\n",
        "\n",
        "# DESCRIPTION:\n",
        "Split a string can be quite useful sometimes, especially when you need only certain parts of strings. A simple yet effective example is splitting the First-name and Last-name of a person. Another application is CSV(Comma Separated Files). We use split to get data from CSV and join to write data to CSV.\n",
        "\n",
        "In Python, we can use the function split() to split a string and join() to join a string. "
      ]
    },
    {
      "cell_type": "code",
      "metadata": {
        "colab": {
          "base_uri": "https://localhost:8080/"
        },
        "id": "5mPCoYeGZlZM",
        "outputId": "dc75b559-d90a-4c88-aa40-4097b3c84a40"
      },
      "source": [
        "dob={\"Mounika\":\"20-May-2002\",\"Navya\":\"20-Sep-2002\"}\n",
        "\n",
        "name=input(\"Which person DOB you want:\")\n",
        "l=name.split()\n",
        "birth=\"\"\n",
        "\n",
        "for i in l:\n",
        "  if i in dob.keys():\n",
        "    pers=i\n",
        "print(\" \".join([pers,\"Birthday is\",dob[pers]]) )"
      ],
      "execution_count": null,
      "outputs": [
        {
          "output_type": "stream",
          "name": "stdout",
          "text": [
            "Which person DOB you want:Navya\n",
            "Navya Birthday is 20-Sep-2002\n"
          ]
        }
      ]
    },
    {
      "cell_type": "markdown",
      "metadata": {
        "id": "UTfwzDvybw64"
      },
      "source": [
        "# EXERCISE 6-DS (CONTINUED)\n",
        "\n",
        "# a)Write a program combine lists that combines these lists into a dicitonary.\n",
        "\n",
        "# AIM:\n",
        "\n",
        "To Write a program combine lists that combines these lists into a dicitonary.\n",
        "\n",
        "# DESCRIPTION:\n",
        "\n",
        "Lists are mutable data types in Python. Lists is a 0 based index datatype meaning the index of the first element starts at 0. Lists are used to store multiple items in a single variable. Lists are one of the 4 data types present in Python i.e. Lists, Dictionary, Tuple & Set.\n"
      ]
    },
    {
      "cell_type": "code",
      "metadata": {
        "colab": {
          "base_uri": "https://localhost:8080/"
        },
        "id": "eyhRqjSr6R0g",
        "outputId": "aaa6b464-c1d7-48f9-bd21-998143cbcc99"
      },
      "source": [
        "subj=[\"DAA\",\"OS\",\"DBMS\",\"P&S\",\"PPL\",\"SE\"]\n",
        "marks=[85,96,78,68,98,56]\n",
        "print(\"Given lists are:\")\n",
        "print(\"Subject Names:\",subj)\n",
        "print(\"Marks values:\",marks)\n",
        "dic=dict(zip(subj,marks))\n",
        "print(\"\\n Dictionary:\",dic)"
      ],
      "execution_count": null,
      "outputs": [
        {
          "output_type": "stream",
          "name": "stdout",
          "text": [
            "Given lists are:\n",
            "Subject Names: ['DAA', 'OS', 'DBMS', 'P&S', 'PPL', 'SE']\n",
            "Marks values: [85, 96, 78, 68, 98, 56]\n",
            "<zip object at 0x7fa031fee690>\n",
            "\n",
            " Dictionary: {'DAA': 85, 'OS': 96, 'DBMS': 78, 'P&S': 68, 'PPL': 98, 'SE': 56}\n"
          ]
        }
      ]
    },
    {
      "cell_type": "markdown",
      "metadata": {
        "id": "6_SnzANt7LeK"
      },
      "source": [
        "# b) Write a program to count frequency of characters in a given file.Can you use character frequency to tell whether the given file is a Python program file,C program file or a text file? \n",
        "\n",
        "# AIM:\n",
        "\n",
        "To Write a program to count frequency of characters in a given file.Can you use character frequency to tell whether the given file is a Python program file,C program file or a text file\n",
        "\n",
        "# DESCRIPTION:\n",
        "\n",
        "Approaches to count the number of times a letter appears in a text file in Python.\n",
        "Method 1: Using the in-built count() method.\n",
        "Approach:\n",
        "1. Read the file.\n",
        "2. Store the content of the file in a variable.\n",
        "3. Use the count() method with the argument as a letter whose frequency is required.\n",
        "4. Display the count of the letter."
      ]
    },
    {
      "cell_type": "code",
      "metadata": {
        "colab": {
          "base_uri": "https://localhost:8080/"
        },
        "id": "p499y_fE7uFV",
        "outputId": "545253e6-22f4-4624-a00b-6aa6131c5677"
      },
      "source": [
        "filetypes=['.py','.c','.txt']\n",
        "fn=input(\"Enter the file name:\")\n",
        "f=open(fn,\"r\")\n",
        "count=dict()\n",
        "\n",
        "print(\"Given file is\",end=\"\")\n",
        "for ft in filetypes:\n",
        "  if(ft in fn):\n",
        "    if(ft=='.py'):\n",
        "      print(\"Python file\")\n",
        "    elif(ft=='.c'):\n",
        "      print(\"C File\")\n",
        "    elif(ft=='.txt'):\n",
        "       print(\"Text File\")\n",
        "for line in f:\n",
        "  for ch in line:\n",
        "    if ch in count:\n",
        "      count[ch]=count[ch]+1\n",
        "    else:\n",
        "      count[ch]=1\n",
        "print(count)\n",
        "f.close()\n",
        "\n",
        "    "
      ],
      "execution_count": null,
      "outputs": [
        {
          "name": "stdout",
          "output_type": "stream",
          "text": [
            "Enter the file name:data.txt\n",
            "Given file isText File\n",
            "{'M': 2, 'y': 1, ' ': 5, 'n': 2, 'a': 3, 'm': 1, 'e': 1, 'i': 4, 's': 1, 'o': 1, 'u': 1, 'k': 1, 'S': 1, 'r': 1, 'V': 1, 'l': 2}\n"
          ]
        }
      ]
    },
    {
      "cell_type": "markdown",
      "metadata": {
        "id": "rR2-38nojb-T"
      },
      "source": [
        "# EXERCISE 7-Files\n",
        "\n",
        "# a) Write a program to print each line of a file in reverse order.\n",
        "\n",
        "# AIM\n",
        "\n",
        "To Write a program to print each line of a file in reverse order.\n",
        "\n",
        "# DESCRIPTION:\n",
        "\n",
        "The file handling plays an important role when the data needs to be stored permanently into the\n",
        "file. A file is a named location on disk to store related information. We can access the stored\n",
        "information (non-volatile) after the program termination. In Python, files are treated in two\n",
        "modes as text or binary. The file may be in the text or binary format, and each line of a file is\n",
        "ended with the special character. Hence, a file operation can be done in the following order.\n",
        "□ Open a file\n",
        "□ Read or write - Performing operation\n",
        "□ Close the file\n"
      ]
    },
    {
      "cell_type": "code",
      "metadata": {
        "colab": {
          "base_uri": "https://localhost:8080/"
        },
        "id": "V_V5j7kLjyNx",
        "outputId": "d0fb7669-cc86-4b72-b34f-9a75d4667420"
      },
      "source": [
        "obj=open(\"/content/data/data.txt\",\"r\")\n",
        "if obj:\n",
        "  st=obj.read()\n",
        "  print(\"File content is:\\n\",st)\n",
        "obj.close()\n",
        "print()\n",
        "lines=st.split('\\n')\n",
        "\n",
        "for ln in lines:\n",
        "  i=len(ln)-1\n",
        "  while(i>=0):\n",
        "    print(ln[i],end=\"\")\n",
        "    i=i-1\n",
        "  print()\n"
      ],
      "execution_count": null,
      "outputs": [
        {
          "output_type": "stream",
          "name": "stdout",
          "text": [
            "File content is:\n",
            " My name is Mounika Sri Valli\n",
            "\n",
            "illaV irS akinuoM si eman yM\n"
          ]
        }
      ]
    },
    {
      "cell_type": "markdown",
      "metadata": {
        "id": "2dPfoPD6ksMx"
      },
      "source": [
        "\n",
        "# b) Write a program to compute the number of characters,words and lines in a file.\n",
        "\n",
        "# AIM:\n",
        "\n",
        "To Write a program to compute the number of characters,words and lines in a file.\n",
        "\n",
        "# DESCRIPTION:\n",
        "\n",
        "Given a text file fname, the task is to count the total number of characters, words, spaces and lines in the file.\n"
      ]
    },
    {
      "cell_type": "code",
      "metadata": {
        "colab": {
          "base_uri": "https://localhost:8080/"
        },
        "id": "WwYIOKVwk6Rx",
        "outputId": "bef1a8c4-27b6-4c52-f41e-1fd41f02ec15"
      },
      "source": [
        "nc=nw=nl=0\n",
        "file=open(\"data.txt\",\"r\")\n",
        "\n",
        "nl=nw=nc=0\n",
        "print(\"File Content:\\n\")\n",
        "for line in file:\n",
        "  ln=line.strip(\"\\n\")\n",
        "  print(ln)\n",
        "  words=ln.split()\n",
        "  nl+=1\n",
        "  nw+=len(words)\n",
        "  nc+=len(line)\n",
        "file.close()\n",
        "print(\"\\n No.of lines:\",nl,\"words:\",nw,\"characters:\",nc)"
      ],
      "execution_count": null,
      "outputs": [
        {
          "name": "stdout",
          "output_type": "stream",
          "text": [
            "File Content:\n",
            "\n",
            "My name is Mounika Sri Valli\n",
            "\n",
            " No.of lines: 1 words: 6 characters: 28\n"
          ]
        }
      ]
    },
    {
      "cell_type": "markdown",
      "metadata": {
        "id": "V_JcTrijmWll"
      },
      "source": [
        "# EXERCISE 8-Functions\n",
        "\n",
        "# a) Write a function ball collide that takes two balls as parameters and computes if they are colliding.Your function should return a Boolean representing whether or not the balls are colliding.\n",
        "Hint: Represent a ball on a plane as a tuple of (x,y,r),r being the radius.If (distance betweem two balls centers)<=(sum of their radii) then (they are colliding).\n",
        "\n",
        "# 𝐀𝐈𝐌:\n",
        "\n",
        "To write a function ball collide that takes two balls as parameters and computes if they arecolliding. Your function should return a Boolean representing whether or not the balls arecolliding. Hint: Represent a ball on a plane as a tuple of (x, y, r), r being the radius If (distance between two balls centers) <= (sum of their radii) then (they are colliding) \n",
        "\n",
        "# 𝐃𝐄𝐒𝐂𝐑𝐈𝐏𝐓𝐈𝐎𝐍:\n",
        "\n",
        " A function in python is a block of code that is defined for doing frequent operations in a particular task. The general format is def Functionname(arguments): Statements Calling a Function: A function can be called by its name followed by arguments within parenthesis. function()"
      ]
    },
    {
      "cell_type": "code",
      "metadata": {
        "colab": {
          "base_uri": "https://localhost:8080/"
        },
        "id": "Rv9OizqGm70f",
        "outputId": "dcbc4fed-ce89-42c7-8f70-0c71d930b823"
      },
      "source": [
        "import math\n",
        "def collide(ball_tup1,ball_tup2):\n",
        "  x1,y1,r1=ball_tup1\n",
        "  x2,y2,r2=ball_tup2\n",
        "\n",
        "  print(\"Ball-01:\",ball_tup1)\n",
        "  print(\"Ball-02:\",ball_tup2)\n",
        "\n",
        "  d=math.sqrt((x2-x1)**2+(y2-y1)**2)\n",
        "  print(\"Centroid Distance of two balls:\",d)\n",
        "  print(\"Sum of Radius Ball-01 & Ball-02 is:{}+{}={}\".format(r1,r2,r1+r2))\n",
        "\n",
        "  if d<=r1+r2:\n",
        "    return True\n",
        "  else:\n",
        "    return False\n",
        "\n",
        "b1=(-2,-4,3)\n",
        "b2=(4,6,3)\n",
        "\n",
        "if collide(b1,b2):\n",
        "  print(\"Balls are Collide...!\")\n",
        "else:\n",
        "  print(\"Balls are not Collide...!\")"
      ],
      "execution_count": null,
      "outputs": [
        {
          "name": "stdout",
          "output_type": "stream",
          "text": [
            "Ball-01: (-2, -4, 3)\n",
            "Ball-02: (4, 6, 3)\n",
            "Centroid Distance of two balls: 11.661903789690601\n",
            "Sum of Radius Ball-01 & Ball-02 is:3+3=6\n",
            "Balls are not Collide...!\n"
          ]
        }
      ]
    },
    {
      "cell_type": "markdown",
      "metadata": {
        "id": "ee-WNbeXm-3t"
      },
      "source": [
        "\n",
        "# b) Find mean,median,mode for the given set of numbers in a list.\n",
        "\n",
        "# 𝐀𝐈𝐌: \n",
        "\n",
        "To Find mean,median,mode for the given set of numbers in a list.\n",
        "\n",
        "\n",
        "# 𝐃𝐄𝐒𝐂𝐑𝐈𝐏𝐓𝐈𝐎𝐍: \n",
        "\n",
        "Mean : The mean is the average of all numbers and is sometimes called the arithmetic mean. This code calculates Mean or Average of a list containing numbers: Median : The median is the middle number in a group of numbers. This code calculates Median of a list containing numbers: Mode : The mode is the number that occurs most often within a set of numbers. This code calculates Mode of a list containing numbers:\n"
      ]
    },
    {
      "cell_type": "code",
      "metadata": {
        "colab": {
          "base_uri": "https://localhost:8080/"
        },
        "id": "6hrQMtONqTtO",
        "outputId": "92b3b988-1503-4586-88d2-fcb461938e23"
      },
      "source": [
        "def list_mean(num_list):\n",
        "  sum=0\n",
        "  for i in num_list:\n",
        "    sum+=i\n",
        "  return sum/len(num_list)\n",
        "  # return sum(num_list)/len(num_list)\n",
        "\n",
        "def list_median(num_list):\n",
        "  num_list.sort()\n",
        "  \n",
        "  n=len(num_list)\n",
        "  mid=n//2\n",
        "  if(n%2==1):\n",
        "    return num_list[mid]\n",
        "  else:\n",
        "    return (num_list[mid-1]+num_list[mid])/2\n",
        "\n",
        "def list_mode(num_list):\n",
        "  num_list.sort()\n",
        "  temp=[]\n",
        "\n",
        "  i=0\n",
        "  while i<len(num_list):\n",
        "    temp.append(num_list.count(num_list[i]))\n",
        "    i+=1\n",
        "\n",
        "  dic=dict(zip(num_list,temp))\n",
        "  mode={k for(k,v) in dic.items()if v==max(temp)}\n",
        "  return mode\n",
        "  \n",
        "lst=[1,1,2,2,2,3,4,5,3]\n",
        "\n",
        "print(\"Given list is:\",lst)\n",
        "print(\"Mean of the given list:\",list_mean(lst))\n",
        "print(\"Median of the givem list:\",list_median(lst))\n",
        "print(\"Mode of the given list:\",list_mode(lst))"
      ],
      "execution_count": null,
      "outputs": [
        {
          "output_type": "stream",
          "name": "stdout",
          "text": [
            "Given list is: [1, 1, 2, 2, 2, 3, 4, 5, 3]\n",
            "Mean of the given list: 2.5555555555555554\n",
            "Median of the givem list: 2\n",
            "Mode of the given list: {2}\n"
          ]
        }
      ]
    },
    {
      "cell_type": "markdown",
      "metadata": {
        "id": "G_005BCJzCLa"
      },
      "source": [
        "# EXERCISE 9-Functions-Continued\n",
        "\n",
        "# a) Write a function nearly equal to test whether two strings are nearly equal.Two strings a and b are nearly equal when a can be generated by a single mutuation on b.\n",
        "\n",
        "# 𝐀𝐈𝐌:\n",
        "\n",
        "To Write a function nearly equal to test whether two strings are nearly equal.Two strings a and b are nearly equal when a can be generated by a single mutuation on b.\n",
        "\n",
        "# 𝐃𝐄𝐒𝐂𝐑𝐈𝐏𝐓𝐈𝐎𝐍:\n",
        " \n",
        "  strlen() function is used to check wether the two string are nearly equal or not by basis of the Length of those Stringslen() is a built-in function in python.You can use the len() to get the length of the given string, array, list, tuple, dictionary, etc."
      ]
    },
    {
      "cell_type": "code",
      "metadata": {
        "colab": {
          "base_uri": "https://localhost:8080/"
        },
        "id": "CtxLezX4z_zp",
        "outputId": "58e562d0-a32d-4aed-f714-edf8ad8a8f13"
      },
      "source": [
        "def nearly_eq(str1,str2):\n",
        "  count=0\n",
        "  i=j=0\n",
        "  while(i<len(str1)and j<len(str2)):\n",
        "    if(str1[i]!=str2[j]):\n",
        "      count+=1\n",
        "      if(len(str1)>len(str2)):\n",
        "        i+=1\n",
        "      elif(len(str1)==len(str2)):\n",
        "        pass\n",
        "      else:\n",
        "        i-=1\n",
        "    if(count>1):\n",
        "      return False\n",
        "    i+=1\n",
        "    j+=1\n",
        "  if(count<2):\n",
        "    return True\n",
        "s1=input(\"Enter String1:\")\n",
        "s2=input(\"Enter String2:\")\n",
        "bln=nearly_eq(s1,s2)\n",
        "if(bln):\n",
        "  print(\"Strings are nearly equal\")\n",
        "else:\n",
        "  print(\"Strings are not equal\")"
      ],
      "execution_count": null,
      "outputs": [
        {
          "output_type": "stream",
          "name": "stdout",
          "text": [
            "Enter String1:Mounika\n",
            "Enter String2:Muonika\n",
            "Strings are not equal\n"
          ]
        }
      ]
    },
    {
      "cell_type": "markdown",
      "metadata": {
        "id": "j05TMapj1tS8"
      },
      "source": [
        "# b) Write a function dup to find all duplicates in the list.\n",
        "\n",
        "# 𝐀𝐈𝐌:\n",
        "\n",
        "To Write a function dup to find all duplicates in the list.\n",
        "\n",
        "# 𝐃𝐄𝐒𝐂𝐑𝐈𝐏𝐓𝐈𝐎𝐍:\n",
        " \n",
        "  Duplicates are nothing but repeated values."
      ]
    },
    {
      "cell_type": "code",
      "metadata": {
        "colab": {
          "base_uri": "https://localhost:8080/"
        },
        "id": "bbQZyuRJ2qj9",
        "outputId": "6848e998-af28-418a-d4e3-52f948fdc5e2"
      },
      "source": [
        "def dups(numlist):\n",
        "  temp=[]\n",
        "  for i in numlist:\n",
        "    cnt=numlist.count(i)\n",
        "    if(cnt>1 and (i not in temp)):\n",
        "      temp.append(i)\n",
        "  print(\"Duplicates in the list:\",temp)\n",
        "lst=[1,2,6,9,1,3,5,2,1]\n",
        "print(\"Given elements in the list:\",lst)\n",
        "dups(lst)"
      ],
      "execution_count": null,
      "outputs": [
        {
          "name": "stdout",
          "output_type": "stream",
          "text": [
            "Given elements in the list: [1, 2, 6, 9, 1, 3, 5, 2, 1]\n",
            "Duplicates in the list: [1, 2]\n"
          ]
        }
      ]
    },
    {
      "cell_type": "markdown",
      "metadata": {
        "id": "seyRHf3S3niW"
      },
      "source": [
        "# c) Write a function unique to find all the unique elements of a list.\n",
        "\n",
        "# 𝐀𝐈𝐌:\n",
        "\n",
        "To Write a function unique to find all the unique elements of a list. \n",
        "\n",
        "# 𝐃𝐄𝐒𝐂𝐑𝐈𝐏𝐓𝐈𝐎𝐍:\n",
        "\n",
        "unique elements are which are not repeated\n"
      ]
    },
    {
      "cell_type": "code",
      "metadata": {
        "colab": {
          "base_uri": "https://localhost:8080/"
        },
        "id": "gl7wKbIZ3xs6",
        "outputId": "96078fac-3581-4469-8e36-967db7a0772b"
      },
      "source": [
        "def unique(numlist):\n",
        "  temp=[]\n",
        "  for i in numlist:\n",
        "    cnt=numlist.count(i)\n",
        "    if cnt==1:\n",
        "      temp.append(i)\n",
        "  print(\"Unique ELements in the list:\",temp)\n",
        "\n",
        "lst=[1,2,6,9,1,3,5,2,1]\n",
        "print(\"Given elements in the list:\",lst)\n",
        "unique(lst)"
      ],
      "execution_count": null,
      "outputs": [
        {
          "name": "stdout",
          "output_type": "stream",
          "text": [
            "Given elements in the list: [1, 2, 6, 9, 1, 3, 5, 2, 1]\n",
            "Unique ELements in the list: [6, 9, 3, 5]\n"
          ]
        }
      ]
    },
    {
      "cell_type": "markdown",
      "metadata": {
        "id": "7W88xpFc4oIN"
      },
      "source": [
        "# EXERCISE 10-Functions-Problem Solving\n",
        "\n",
        "# a) Write a function cumulative product to compute cumulative product of a list of numbers.\n",
        "\n",
        "# 𝐀𝐈𝐌: \n",
        "\n",
        "To Write a function cumulative product to compute cumulative product of a list of numbers.\n",
        "\n",
        "\n",
        "# 𝐃𝐄𝐒𝐂𝐑𝐈𝐏𝐓𝐈𝐎𝐍:\n",
        "\n",
        " cumulative product is a sequence of partial products of a given sequence\n"
      ]
    },
    {
      "cell_type": "code",
      "metadata": {
        "colab": {
          "base_uri": "https://localhost:8080/"
        },
        "id": "x6q1kGEw5ZmG",
        "outputId": "469d9e47-ff58-4452-c014-9f11a5125458"
      },
      "source": [
        "def cum_prod(numlist):\n",
        "  prod=1\n",
        "  temp=[]\n",
        "  for i in numlist:\n",
        "    prod*=i\n",
        "    temp.append(prod)\n",
        "  return temp\n",
        "\n",
        "lst=[1,2,4,5,3]\n",
        "print(\"Given list is:\",lst)\n",
        "print(\"Cumulative Product list is:\",cum_prod(lst))"
      ],
      "execution_count": null,
      "outputs": [
        {
          "name": "stdout",
          "output_type": "stream",
          "text": [
            "Given list is: [1, 2, 4, 5, 3]\n",
            "Cumulative Product list is: [1, 2, 8, 40, 120]\n"
          ]
        }
      ]
    },
    {
      "cell_type": "markdown",
      "metadata": {
        "id": "u5jqp12t6VjW"
      },
      "source": [
        "# b) Write a function reverse to reverse a list. Without using the reverse function.\n",
        "\n",
        "# 𝐀𝐈𝐌:\n",
        "\n",
        "To write a function reverse to reverse a list. Without using the reverse function.\n",
        "\n",
        "# 𝐃𝐄𝐒𝐂𝐑𝐈𝐏𝐓𝐈𝐎𝐍:\n",
        " \n",
        " We can use a for loop to swap the first and last items, the second and the one before the last item and so on until the list is reversed in place. The number of iterations needed is half the list size. If the list has an odd number of items then the middle item will stay in its place."
      ]
    },
    {
      "cell_type": "code",
      "metadata": {
        "colab": {
          "base_uri": "https://localhost:8080/"
        },
        "id": "Y_ZnZXIC6iKD",
        "outputId": "dd43e736-332a-4099-d88c-72235b27f0c0"
      },
      "source": [
        "def reverse_list(numlist):\n",
        "  i=0\n",
        "  j=len(numlist)-1\n",
        "  while(i<=j):\n",
        "    temp=numlist[i]\n",
        "    numlist[i]=numlist[j]#swap\n",
        "    numlist[j]=temp\n",
        "    j-=1\n",
        "    i+=1\n",
        "  return numlist\n",
        "lst=[1,2,3,4]\n",
        "print(\"Given list is:\",lst)\n",
        "reverse_list(lst)\n",
        "print(\"Reverse of the given list is:\",lst)"
      ],
      "execution_count": null,
      "outputs": [
        {
          "name": "stdout",
          "output_type": "stream",
          "text": [
            "Given list is: [1, 2, 3, 4]\n",
            "Reverse of the given list is: [4, 3, 2, 1]\n"
          ]
        }
      ]
    },
    {
      "cell_type": "markdown",
      "metadata": {
        "id": "-3D47fE77cHB"
      },
      "source": [
        "# c) Write function to compute gcd, lcm of two numbers.Each function shouldn't exceed one line.\n",
        "\n",
        "# 𝐀𝐈𝐌:\n",
        "\n",
        "To Write function to compute gcd, lcm of two numbers.Each function shouldn't exceed one line.\n",
        "\n",
        "\n",
        "# 𝐃𝐄𝐒𝐂𝐑𝐈𝐏𝐓𝐈𝐎𝐍:\n",
        " \n",
        "  Python provides you an anonymous function called lambda. It can take any number of arguments, but can only have one expression. It can be used to find LCM and GCD values without exceeding each from from one line. The general format is lambda arguments: expression The expression is executed during the function call and the result is returned.\n"
      ]
    },
    {
      "cell_type": "code",
      "metadata": {
        "colab": {
          "base_uri": "https://localhost:8080/"
        },
        "id": "LyJmML4x7qlu",
        "outputId": "24bbc192-cb00-4a6b-b6c1-3490d566b20b"
      },
      "source": [
        "gcd=lambda a,b:a if b==0 else gcd(a,a%b)\n",
        "\n",
        "lcm=lambda a,b:(a*b)/gcd(a,b)\n",
        "\n",
        "x=4\n",
        "y=24\n",
        "print(\"The Given numbers:\",x,y)\n",
        "print(\"GCD is :\",gcd(x,y))\n",
        "print(\"LCM is :\",lcm(x,y))"
      ],
      "execution_count": null,
      "outputs": [
        {
          "name": "stdout",
          "output_type": "stream",
          "text": [
            "The Given numbers: 4 24\n",
            "GCD is : 4\n",
            "LCM is : 24.0\n"
          ]
        }
      ]
    },
    {
      "cell_type": "markdown",
      "metadata": {
        "id": "v8MxaLJfl4Fb"
      },
      "source": [
        "\n",
        "# EXERCISE 11-Multi-D Lists\n",
        "\n",
        "# a)Write a program that defines a matrix and prints.\n",
        "\n",
        "# 𝐀𝐈𝐌:\n",
        "\n",
        "To Write a program that defines a matrix and prints.\n",
        "\n",
        "# 𝐃𝐄𝐒𝐂𝐑𝐈𝐏𝐓𝐈𝐎𝐍:\n",
        " \n",
        "  A Python matrix is a specialized two-dimensional rectangular array of data stored in rows and columns. The data in a matrix can be numbers, strings, expressions, symbols, etc. Matrix is one of the important data structures that can be used in mathematical and scientific calculations\n"
      ]
    },
    {
      "cell_type": "code",
      "metadata": {
        "colab": {
          "base_uri": "https://localhost:8080/"
        },
        "id": "JUMZr1_6miUZ",
        "outputId": "9d561402-776b-44bd-8428-c9870b33829d"
      },
      "source": [
        "matA=[[]]\n",
        "rows=int(input(\"Enter row size of matrix:\"))\n",
        "cols=int(input(\"Enter column size of matrix:\"))\n",
        "matA=[[int(input(\"Enter [%d,%d] value:\"%(i,j))) for j in range(cols)]for i in range(rows)]\n",
        "print(\"Matrix is:\")\n",
        "for i in range(rows):\n",
        "  for j in range(cols):\n",
        "    print(matA[i][j],end='\\t')\n"
      ],
      "execution_count": null,
      "outputs": [
        {
          "output_type": "stream",
          "name": "stdout",
          "text": [
            "Enter row size of matrix:2\n",
            "Enter column size of matrix:2\n",
            "Enter [0,0] value:1\n",
            "Enter [0,1] value:2\n",
            "Enter [1,0] value:3\n",
            "Enter [1,1] value:4\n",
            "Matrix is:\n",
            "1\t2\t3\t4\t\n"
          ]
        }
      ]
    },
    {
      "cell_type": "markdown",
      "metadata": {
        "id": "zImZrwvkoYwz"
      },
      "source": [
        "\n",
        "# b) Write a program to perform addition of two square matrices.\n",
        "\n",
        "# AIM:\n",
        "\n",
        "To a program to perform addition of two square matrices.\n",
        "\n",
        "# 𝐃𝐄𝐒𝐂𝐑𝐈𝐏𝐓𝐈𝐎𝐍:\n",
        " \n",
        "  At each point we add the corresponding elements in the two matrices and store it in the result. Using nested list comprehension : In Python, we can implement a matrix as nested list (list inside a list). We can treat each element as a row of the matrix\n"
      ]
    },
    {
      "cell_type": "code",
      "metadata": {
        "colab": {
          "base_uri": "https://localhost:8080/"
        },
        "id": "0Qz7tS1mojPq",
        "outputId": "c3c60645-ac15-4c96-a721-52edafc70391"
      },
      "source": [
        "def matRead(r,c):\n",
        "  return [[int(input(\"[%d,%d]value:\"%(i,j)))for j in range(c)]for i in range(r)]\n",
        "          \n",
        "def matDisp(mat,r,c):\n",
        "  for i in range(r):\n",
        "    for j in range(c):\n",
        "      print(mat[i][j],end='\\t')\n",
        "    print()\n",
        "\n",
        "matA=[[]]\n",
        "matB=[[]]\n",
        "matSum=[[]]\n",
        "rows=int(input(\"Enter row size of the matrix:\"))\n",
        "cols=int(input(\"Enter column size of the matrix:\"))\n",
        "\n",
        "if rows==cols:\n",
        "   print(\"Enter matrix-A elements:\")\n",
        "   matA=matRead(rows,cols)\n",
        "\n",
        "   print(\"Enter matrix-B elements:\")\n",
        "   matB=matRead(rows,cols)\n",
        "   \n",
        "   print(\"Matrix-A is:\")\n",
        "   matDisp(matA,rows,cols)\n",
        "\n",
        "   print(\"Matrix-B is:\")\n",
        "   matDisp(matB,rows,cols)\n",
        "\n",
        "   matSum=[[matA[i][j]+matB[i][j]for j in range(cols)]for i in range(rows)]\n",
        "   print(\"Sum of Matrices is:\")\n",
        "   matDisp(matSum,rows,cols)\n",
        "else:\n",
        "  print(\"Matrices Addition is Not Possible\")"
      ],
      "execution_count": null,
      "outputs": [
        {
          "name": "stdout",
          "output_type": "stream",
          "text": [
            "Enter row size of the matrix:2\n",
            "Enter column size of the matrix:2\n",
            "Enter matrix-A elements:\n",
            "[0,0]value:1\n",
            "[0,1]value:2\n",
            "[1,0]value:3\n",
            "[1,1]value:4\n",
            "Enter matrix-B elements:\n",
            "[0,0]value:9\n",
            "[0,1]value:6\n",
            "[1,0]value:5\n",
            "[1,1]value:4\n",
            "Matrix-A is:\n",
            "1\t2\t\n",
            "3\t4\t\n",
            "Matrix-B is:\n",
            "9\t6\t\n",
            "5\t4\t\n",
            "Sum of Matrices is:\n",
            "10\t8\t\n",
            "8\t8\t\n"
          ]
        }
      ]
    },
    {
      "cell_type": "markdown",
      "metadata": {
        "id": "rulTEvpMrBqA"
      },
      "source": [
        "# c)Write a program to perform multiplication of two square matrices.\n",
        "\n",
        "# 𝐀𝐈𝐌:\n",
        "\n",
        "To Write a program to perform multiplication of two square \n",
        " \n",
        "# 𝐃𝐄𝐒𝐂𝐑𝐈𝐏𝐓𝐈𝐎𝐍:\n",
        " \n",
        "  In Python, we can implement a matrix as nested list (list inside a list). We can treat each element as a row of the matrix. For example X = [[1, 2], [4, 5], [3, 6]] would represent a 3x2 matrix. The first row can be selected as X[0]. And, the element in first row, first column can be selected as X[0][0]. Multiplication of two matrices X and Y is defined only if the number of columns in X is equal to the number of rows Y. If X is a n x m matrix and Y is a m x l matrix then, XY is defined and has the dimension n x l (but YX is not defined). Here are a couple of ways to implement matrix multiplication in Python.\n"
      ]
    },
    {
      "cell_type": "code",
      "metadata": {
        "colab": {
          "base_uri": "https://localhost:8080/"
        },
        "id": "wHd_zxturEYk",
        "outputId": "f9ab97f3-dcb1-49ba-ae46-35d8de7ee834"
      },
      "source": [
        "def matRead(r,c):\n",
        "   return[[int(input(\"[%d,%d]value: \"%(i,j)))for j in range(c)] for i in range(r)]\n",
        "\n",
        "def matDisp(mat,r,c):\n",
        "    for i in range(r):\n",
        "        for j in range(c):\n",
        "            print(mat[i][j],end='\\t')\n",
        "        print()\n",
        "\n",
        "matA=[[]]\n",
        "matB=[[]]\n",
        "matMul=[[]]\n",
        "rows=int(input(\"Enter Row Size of the Matrix: \"))\n",
        "cols=int(input(\"Enter column size of the Matrix: \"))\n",
        "if rows==cols:\n",
        "    print(\"Enter Matrix-A: \")\n",
        "    matA=matRead(rows,cols)\n",
        "\n",
        "    print(\"Enter Matrix-B: \")\n",
        "    matB=matRead(rows,cols)\n",
        "\n",
        "    matMul=[[0 for j in range(cols)] for i in range(rows)]\n",
        "\n",
        "    for i in range(rows):\n",
        "        for j in range(cols):\n",
        "            for k in range(cols):\n",
        "                matMul[i][j]+=matA[i][k]*matB[k][j]\n",
        "                \n",
        "    print(\"Matrix-A is: \")\n",
        "    matDisp(matA,rows,cols)\n",
        "\n",
        "    print(\"Matrix-B is: \")\n",
        "    matDisp(matB,rows,cols)\n",
        "\n",
        "    print(\"Multiplication of Matrices is: \")\n",
        "    matDisp(matMul,rows,cols)\n",
        "else:\n",
        "    print(\"Matrices Multiplication is not possible\")"
      ],
      "execution_count": null,
      "outputs": [
        {
          "name": "stdout",
          "output_type": "stream",
          "text": [
            "Enter Row Size of the Matrix: 2\n",
            "Enter column size of the Matrix: 2\n",
            "Enter Matrix-A: \n",
            "[0,0]value: 4\n",
            "[0,1]value: 3\n",
            "[1,0]value: 2\n",
            "[1,1]value: 4\n",
            "Enter Matrix-B: \n",
            "[0,0]value: 1\n",
            "[0,1]value: 5\n",
            "[1,0]value: 6\n",
            "[1,1]value: 4\n",
            "Matrix-A is: \n",
            "4\t3\t\n",
            "2\t4\t\n",
            "Matrix-B is: \n",
            "1\t5\t\n",
            "6\t4\t\n",
            "Multiplication of Matrices is: \n",
            "22\t32\t\n",
            "26\t26\t\n"
          ]
        }
      ]
    },
    {
      "cell_type": "markdown",
      "metadata": {
        "id": "FLi4yrDa1EVL"
      },
      "source": [
        "\n",
        "# EXERCISE 12-Modules\n",
        "\n",
        "# a)Install packages reaquests,flask and explore them.using(pip)\n"
      ]
    },
    {
      "cell_type": "markdown",
      "metadata": {
        "id": "ILTsEKV3Eo37"
      },
      "source": [
        "Open cmd and set python installation path\n",
        "Check pip is installed or not by>pip\n",
        "#requests and flask\n",
        ">pip install requests\n",
        ">pip install flask\n",
        "#for exploration \n",
        ">pip show requests\n",
        ">pip show flask\n",
        "(It shows name, version and other properties)"
      ]
    },
    {
      "cell_type": "code",
      "metadata": {
        "colab": {
          "base_uri": "https://localhost:8080/"
        },
        "id": "wHzO4QkL1fom",
        "outputId": "169bcb62-0d6f-4aff-d4e7-6a35aa4ac031"
      },
      "source": [
        "!pip install requests"
      ],
      "execution_count": null,
      "outputs": [
        {
          "name": "stdout",
          "output_type": "stream",
          "text": [
            "Requirement already satisfied: requests in /usr/local/lib/python3.7/dist-packages (2.23.0)\n",
            "Requirement already satisfied: chardet<4,>=3.0.2 in /usr/local/lib/python3.7/dist-packages (from requests) (3.0.4)\n",
            "Requirement already satisfied: idna<3,>=2.5 in /usr/local/lib/python3.7/dist-packages (from requests) (2.10)\n",
            "Requirement already satisfied: urllib3!=1.25.0,!=1.25.1,<1.26,>=1.21.1 in /usr/local/lib/python3.7/dist-packages (from requests) (1.24.3)\n",
            "Requirement already satisfied: certifi>=2017.4.17 in /usr/local/lib/python3.7/dist-packages (from requests) (2021.5.30)\n"
          ]
        }
      ]
    },
    {
      "cell_type": "code",
      "metadata": {
        "colab": {
          "base_uri": "https://localhost:8080/"
        },
        "id": "jeN8r6IB3L3t",
        "outputId": "285d3135-0334-4194-9b28-ccc518fa898b"
      },
      "source": [
        "!pip show requests"
      ],
      "execution_count": null,
      "outputs": [
        {
          "name": "stdout",
          "output_type": "stream",
          "text": [
            "Name: requests\n",
            "Version: 2.23.0\n",
            "Summary: Python HTTP for Humans.\n",
            "Home-page: https://requests.readthedocs.io\n",
            "Author: Kenneth Reitz\n",
            "Author-email: me@kennethreitz.org\n",
            "License: Apache 2.0\n",
            "Location: /usr/local/lib/python3.7/dist-packages\n",
            "Requires: chardet, certifi, urllib3, idna\n",
            "Required-by: tweepy, torchtext, tensorflow-datasets, tensorboard, Sphinx, spacy, requests-oauthlib, pymystem3, pooch, panel, pandas-datareader, kaggle, gspread, google-colab, google-api-core, gdown, folium, fix-yahoo-finance, fastai, coveralls, community, CacheControl\n"
          ]
        }
      ]
    },
    {
      "cell_type": "code",
      "metadata": {
        "colab": {
          "base_uri": "https://localhost:8080/"
        },
        "id": "WCdyu5LY3RAd",
        "outputId": "9140d828-b325-4493-b688-bb3285aef33b"
      },
      "source": [
        "!pip install flask"
      ],
      "execution_count": null,
      "outputs": [
        {
          "name": "stdout",
          "output_type": "stream",
          "text": [
            "Requirement already satisfied: flask in /usr/local/lib/python3.7/dist-packages (1.1.4)\n",
            "Requirement already satisfied: click<8.0,>=5.1 in /usr/local/lib/python3.7/dist-packages (from flask) (7.1.2)\n",
            "Requirement already satisfied: Jinja2<3.0,>=2.10.1 in /usr/local/lib/python3.7/dist-packages (from flask) (2.11.3)\n",
            "Requirement already satisfied: Werkzeug<2.0,>=0.15 in /usr/local/lib/python3.7/dist-packages (from flask) (1.0.1)\n",
            "Requirement already satisfied: itsdangerous<2.0,>=0.24 in /usr/local/lib/python3.7/dist-packages (from flask) (1.1.0)\n",
            "Requirement already satisfied: MarkupSafe>=0.23 in /usr/local/lib/python3.7/dist-packages (from Jinja2<3.0,>=2.10.1->flask) (2.0.1)\n"
          ]
        }
      ]
    },
    {
      "cell_type": "code",
      "metadata": {
        "colab": {
          "base_uri": "https://localhost:8080/"
        },
        "id": "hpq1QZy93VMt",
        "outputId": "56d7a959-7d36-441c-ab7d-53ecc420c85b"
      },
      "source": [
        "!pip show flask"
      ],
      "execution_count": null,
      "outputs": [
        {
          "name": "stdout",
          "output_type": "stream",
          "text": [
            "Name: Flask\n",
            "Version: 1.1.4\n",
            "Summary: A simple framework for building complex web applications.\n",
            "Home-page: https://palletsprojects.com/p/flask/\n",
            "Author: Armin Ronacher\n",
            "Author-email: armin.ronacher@active-4.com\n",
            "License: BSD-3-Clause\n",
            "Location: /usr/local/lib/python3.7/dist-packages\n",
            "Requires: click, Werkzeug, Jinja2, itsdangerous\n",
            "Required-by: community\n"
          ]
        }
      ]
    },
    {
      "cell_type": "markdown",
      "metadata": {
        "id": "kRkWgC_vrXOs"
      },
      "source": [
        "# b) Write a script that imports requests and fetch content from the page.Eg.(Wiki).\n",
        "\n",
        "# 𝐀𝐈𝐌:\n",
        "\n",
        "Write a scripts that imports requests and fetch content from the page.Eg. (Wiki)code.\n",
        "\n",
        "# 𝐃𝐄𝐒𝐂𝐑𝐈𝐏𝐓𝐈𝐎𝐍: \n",
        "\n",
        "The Hypertext Transfer Protocol (HTTP) is an application protocol for distributed, collaborative, hypermedia information systems. HTTP is the foundation of data communication for the World Wide Web. Python requests Requests is a simple and elegant Python HTTP library. It provides methods for accessing Web resources via HTTP. Python requests reading a web page The get() method issues a GET request; it fetches documents identified by the given URL.\n",
        "\n",
        "[ ]\n",
        "\n"
      ]
    },
    {
      "cell_type": "code",
      "metadata": {
        "colab": {
          "base_uri": "https://localhost:8080/"
        },
        "id": "DegNMiNK3q6i",
        "outputId": "3a87d796-1c94-4863-9875-1c8472bfdb84"
      },
      "source": [
        "import requests\n",
        "r=requests.get('https://www.google.com')\n",
        "print(\"Status code:\",r.status_code)\n",
        "print(\"Header Content:\",r.headers['content-type'])\n",
        "print(r.text)"
      ],
      "execution_count": null,
      "outputs": [
        {
          "name": "stdout",
          "output_type": "stream",
          "text": [
            "Status code: 200\n",
            "Header Content: text/html; charset=ISO-8859-1\n",
            "<!doctype html><html itemscope=\"\" itemtype=\"http://schema.org/WebPage\" lang=\"en\"><head><meta content=\"Search the world's information, including webpages, images, videos and more. Google has many special features to help you find exactly what you're looking for.\" name=\"description\"><meta content=\"noodp\" name=\"robots\"><meta content=\"text/html; charset=UTF-8\" http-equiv=\"Content-Type\"><meta content=\"/images/branding/googleg/1x/googleg_standard_color_128dp.png\" itemprop=\"image\"><title>Google</title><script nonce=\"HhCvelmRC17KsG39rEjY9A==\">(function(){window.google={kEI:'AHnVYMHEO-KKwbkPwryU8A0',kEXPI:'0,772215,1,530320,92,56781,954,5104,207,4804,2316,383,246,5,1354,4936,314,16232,10,1106274,1197700,374,208,44,328941,51224,16114,19398,9286,17572,4859,1361,9290,3025,12743,4841,4020,978,13228,3847,3600,7022,1142,6290,7096,234,4282,2778,919,2370,2711,887,706,1279,2212,239,291,149,1103,840,1983,4314,4120,2023,2297,14670,3227,1990,855,7,4811,7543,5096,7876,4929,108,1483,1924,908,2,941,5011,1386,8927,432,3,346,1244,1,5445,148,5990,4055,1278,991,1661,4,1528,2304,1240,5222,577,74,1983,2627,2014,3791,276,7434,2110,1714,3050,2658,4243,2293,821,30,1677,8107,6149,638,37,1457,5586,5543,4222,770,665,5827,2530,992,1054,2048,18,3120,6,908,3,3370,171,1,5349,3277,6084,1,1813,283,912,5992,6754,432,552,4788,2,1394,756,633,109,35,1,1272,845,870,2,3035,22,2015,523,1,2,2,3620,619,4,32,4,675,667,901,2,3142,4,683,442,184,158,255,55,4,434,1453,924,93,30,2301,578,696,4172,407,2090,1606,3759,1864,100,3,1040,1160,1269,1802,1623,3,2003,213,1227,758,180,995,347,1,57,177,1142,2990,370,94,2,219,35,2,631,204,3,75,50,777,1485,390,343,1611,684,58,13,692,756,320,2067,787,586,241,1388,963,155,2,239,48,1,8,28,1,8,42,2696,72,570,172,204,1155,133,2139,93,1116,397,318,421,2,295,133,429,5621000,3494,399,99,95,32,63,155,2,58,5995640,651,520,46,80,2799246,1324,882,444,1,2,80,1,1796,1,9,2,2551,1,748,141,795,563,1,4265,1,1,2,1331,3299,843,2609,155,17,13,72,139,4,2,20,2,169,13,19,46,5,39,96,548,29,2,2,1,2,1,2,2,7,4,1,2,2,2,2,2,2,353,513,201,31,2,2,2,2,2,14,15,2,18,13,16,1,23955041,4010274,268,1835,24965,1502,2,192,7,2175,3,120,3,6,338,3,1010,1330,74,538,1242',kBL:'agTH'};google.sn='webhp';google.kHL='en';})();(function(){\n",
            "var f=this||self;var h,k=[];function l(a){for(var b;a&&(!a.getAttribute||!(b=a.getAttribute(\"eid\")));)a=a.parentNode;return b||h}function m(a){for(var b=null;a&&(!a.getAttribute||!(b=a.getAttribute(\"leid\")));)a=a.parentNode;return b}\n",
            "function n(a,b,c,d,g){var e=\"\";c||-1!==b.search(\"&ei=\")||(e=\"&ei=\"+l(d),-1===b.search(\"&lei=\")&&(d=m(d))&&(e+=\"&lei=\"+d));d=\"\";!c&&f._cshid&&-1===b.search(\"&cshid=\")&&\"slh\"!==a&&(d=\"&cshid=\"+f._cshid);c=c||\"/\"+(g||\"gen_204\")+\"?atyp=i&ct=\"+a+\"&cad=\"+b+e+\"&zx=\"+Date.now()+d;/^http:/i.test(c)&&\"https:\"===window.location.protocol&&(google.ml&&google.ml(Error(\"a\"),!1,{src:c,glmm:1}),c=\"\");return c};h=google.kEI;google.getEI=l;google.getLEI=m;google.ml=function(){return null};google.log=function(a,b,c,d,g){if(c=n(a,b,c,d,g)){a=new Image;var e=k.length;k[e]=a;a.onerror=a.onload=a.onabort=function(){delete k[e]};a.src=c}};google.logUrl=n;}).call(this);(function(){\n",
            "google.y={};google.sy=[];google.x=function(a,b){if(a)var c=a.id;else{do c=Math.random();while(google.y[c])}google.y[c]=[a,b];return!1};google.sx=function(a){google.sy.push(a)};google.lm=[];google.plm=function(a){google.lm.push.apply(google.lm,a)};google.lq=[];google.load=function(a,b,c){google.lq.push([[a],b,c])};google.loadAll=function(a,b){google.lq.push([a,b])};google.bx=!1;google.lx=function(){};}).call(this);google.f={};(function(){\n",
            "document.documentElement.addEventListener(\"submit\",function(b){var a;if(a=b.target){var c=a.getAttribute(\"data-submitfalse\");a=\"1\"==c||\"q\"==c&&!a.elements.q.value?!0:!1}else a=!1;a&&(b.preventDefault(),b.stopPropagation())},!0);document.documentElement.addEventListener(\"click\",function(b){var a;a:{for(a=b.target;a&&a!=document.documentElement;a=a.parentElement)if(\"A\"==a.tagName){a=\"1\"==a.getAttribute(\"data-nohref\");break a}a=!1}a&&b.preventDefault()},!0);}).call(this);</script><style>#gbar,#guser{font-size:13px;padding-top:1px !important;}#gbar{height:22px}#guser{padding-bottom:7px !important;text-align:right}.gbh,.gbd{border-top:1px solid #c9d7f1;font-size:1px}.gbh{height:0;position:absolute;top:24px;width:100%}@media all{.gb1{height:22px;margin-right:.5em;vertical-align:top}#gbar{float:left}}a.gb1,a.gb4{text-decoration:underline !important}a.gb1,a.gb4{color:#00c !important}.gbi .gb4{color:#dd8e27 !important}.gbf .gb4{color:#900 !important}\n",
            "</style><style>body,td,a,p,.h{font-family:arial,sans-serif}body{margin:0;overflow-y:scroll}#gog{padding:3px 8px 0}td{line-height:.8em}.gac_m td{line-height:17px}form{margin-bottom:20px}.h{color:#1558d6}em{font-weight:bold;font-style:normal}.lst{height:25px;width:496px}.gsfi,.lst{font:18px arial,sans-serif}.gsfs{font:17px arial,sans-serif}.ds{display:inline-box;display:inline-block;margin:3px 0 4px;margin-left:4px}input{font-family:inherit}body{background:#fff;color:#000}a{color:#4b11a8;text-decoration:none}a:hover,a:active{text-decoration:underline}.fl a{color:#1558d6}a:visited{color:#4b11a8}.sblc{padding-top:5px}.sblc a{display:block;margin:2px 0;margin-left:13px;font-size:11px}.lsbb{background:#f8f9fa;border:solid 1px;border-color:#dadce0 #70757a #70757a #dadce0;height:30px}.lsbb{display:block}#WqQANb a{display:inline-block;margin:0 12px}.lsb{background:url(/images/nav_logo229.png) 0 -261px repeat-x;border:none;color:#000;cursor:pointer;height:30px;margin:0;outline:0;font:15px arial,sans-serif;vertical-align:top}.lsb:active{background:#dadce0}.lst:focus{outline:none}</style><script nonce=\"HhCvelmRC17KsG39rEjY9A==\"></script></head><body bgcolor=\"#fff\"><script nonce=\"HhCvelmRC17KsG39rEjY9A==\">(function(){var src='/images/nav_logo229.png';var iesg=false;document.body.onload = function(){window.n && window.n();if (document.images){new Image().src=src;}\n",
            "if (!iesg){document.f&&document.f.q.focus();document.gbqf&&document.gbqf.q.focus();}\n",
            "}\n",
            "})();</script><div id=\"mngb\"><div id=gbar><nobr><b class=gb1>Search</b> <a class=gb1 href=\"https://www.google.com/imghp?hl=en&tab=wi\">Images</a> <a class=gb1 href=\"https://maps.google.com/maps?hl=en&tab=wl\">Maps</a> <a class=gb1 href=\"https://play.google.com/?hl=en&tab=w8\">Play</a> <a class=gb1 href=\"https://www.youtube.com/?gl=US&tab=w1\">YouTube</a> <a class=gb1 href=\"https://news.google.com/?tab=wn\">News</a> <a class=gb1 href=\"https://mail.google.com/mail/?tab=wm\">Gmail</a> <a class=gb1 href=\"https://drive.google.com/?tab=wo\">Drive</a> <a class=gb1 style=\"text-decoration:none\" href=\"https://www.google.com/intl/en/about/products?tab=wh\"><u>More</u> &raquo;</a></nobr></div><div id=guser width=100%><nobr><span id=gbn class=gbi></span><span id=gbf class=gbf></span><span id=gbe></span><a href=\"http://www.google.com/history/optout?hl=en\" class=gb4>Web History</a> | <a  href=\"/preferences?hl=en\" class=gb4>Settings</a> | <a target=_top id=gb_70 href=\"https://accounts.google.com/ServiceLogin?hl=en&passive=true&continue=https://www.google.com/&ec=GAZAAQ\" class=gb4>Sign in</a></nobr></div><div class=gbh style=left:0></div><div class=gbh style=right:0></div></div><center><br clear=\"all\" id=\"lgpd\"><div id=\"lga\"><img alt=\"Google\" height=\"92\" src=\"/images/branding/googlelogo/1x/googlelogo_white_background_color_272x92dp.png\" style=\"padding:28px 0 14px\" width=\"272\" id=\"hplogo\"><br><br></div><form action=\"/search\" name=\"f\"><table cellpadding=\"0\" cellspacing=\"0\"><tr valign=\"top\"><td width=\"25%\">&nbsp;</td><td align=\"center\" nowrap=\"\"><input name=\"ie\" value=\"ISO-8859-1\" type=\"hidden\"><input value=\"en\" name=\"hl\" type=\"hidden\"><input name=\"source\" type=\"hidden\" value=\"hp\"><input name=\"biw\" type=\"hidden\"><input name=\"bih\" type=\"hidden\"><div class=\"ds\" style=\"height:32px;margin:4px 0\"><input class=\"lst\" style=\"margin:0;padding:5px 8px 0 6px;vertical-align:top;color:#000\" autocomplete=\"off\" value=\"\" title=\"Google Search\" maxlength=\"2048\" name=\"q\" size=\"57\"></div><br style=\"line-height:0\"><span class=\"ds\"><span class=\"lsbb\"><input class=\"lsb\" value=\"Google Search\" name=\"btnG\" type=\"submit\"></span></span><span class=\"ds\"><span class=\"lsbb\"><input class=\"lsb\" id=\"tsuid1\" value=\"I'm Feeling Lucky\" name=\"btnI\" type=\"submit\"><script nonce=\"HhCvelmRC17KsG39rEjY9A==\">(function(){var id='tsuid1';document.getElementById(id).onclick = function(){if (this.form.q.value){this.checked = 1;if (this.form.iflsig)this.form.iflsig.disabled = false;}\n",
            "else top.location='/doodles/';};})();</script><input value=\"AINFCbYAAAAAYNWHEOSqtvrhaOe_wa9pQhITcBZ7cM78\" name=\"iflsig\" type=\"hidden\"></span></span></td><td class=\"fl sblc\" align=\"left\" nowrap=\"\" width=\"25%\"><a href=\"/advanced_search?hl=en&amp;authuser=0\">Advanced search</a></td></tr></table><input id=\"gbv\" name=\"gbv\" type=\"hidden\" value=\"1\"><script nonce=\"HhCvelmRC17KsG39rEjY9A==\">(function(){\n",
            "var a,b=\"1\";if(document&&document.getElementById)if(\"undefined\"!=typeof XMLHttpRequest)b=\"2\";else if(\"undefined\"!=typeof ActiveXObject){var c,d,e=[\"MSXML2.XMLHTTP.6.0\",\"MSXML2.XMLHTTP.3.0\",\"MSXML2.XMLHTTP\",\"Microsoft.XMLHTTP\"];for(c=0;d=e[c++];)try{new ActiveXObject(d),b=\"2\"}catch(h){}}a=b;if(\"2\"==a&&-1==location.search.indexOf(\"&gbv=2\")){var f=google.gbvu,g=document.getElementById(\"gbv\");g&&(g.value=a);f&&window.setTimeout(function(){location.href=f},0)};}).call(this);</script></form><div id=\"gac_scont\"></div><div style=\"font-size:83%;min-height:3.5em\"><br></div><span id=\"footer\"><div style=\"font-size:10pt\"><div style=\"margin:19px auto;text-align:center\" id=\"WqQANb\"><a href=\"/intl/en/ads/\">Advertising Programs</a><a href=\"/services/\">Business Solutions</a><a href=\"/intl/en/about.html\">About Google</a></div></div><p style=\"font-size:8pt;color:#70757a\">&copy; 2021 - <a href=\"/intl/en/policies/privacy/\">Privacy</a> - <a href=\"/intl/en/policies/terms/\">Terms</a></p></span></center><script nonce=\"HhCvelmRC17KsG39rEjY9A==\">(function(){window.google.cdo={height:0,width:0};(function(){\n",
            "var a=window.innerWidth,b=window.innerHeight;if(!a||!b){var c=window.document,d=\"CSS1Compat\"==c.compatMode?c.documentElement:c.body;a=d.clientWidth;b=d.clientHeight}a&&b&&(a!=google.cdo.width||b!=google.cdo.height)&&google.log(\"\",\"\",\"/client_204?&atyp=i&biw=\"+a+\"&bih=\"+b+\"&ei=\"+google.kEI);}).call(this);})();</script> <script nonce=\"HhCvelmRC17KsG39rEjY9A==\">(function(){google.xjs={ck:'',cs:'',excm:[],pml:false};})();</script>  <script nonce=\"HhCvelmRC17KsG39rEjY9A==\">(function(){var u='/xjs/_/js/k\\x3dxjs.hp.en_US.JRh4tN6N9QQ.O/m\\x3dsb_he,d/am\\x3dAHgCLA/d\\x3d1/ed\\x3d1/rs\\x3dACT90oGq1Ln_99CJXORDJChcIkowqosPIA';\n",
            "var e=this||self,f=function(a){return a};var g;var l=function(a,b){this.g=b===h?a:\"\"};l.prototype.toString=function(){return this.g+\"\"};var h={};function m(){var a=u;google.lx=function(){n(a);google.lx=function(){}};google.bx||google.lx()}\n",
            "function n(a){google.timers&&google.timers.load&&google.tick&&google.tick(\"load\",\"xjsls\");var b=document;var c=\"SCRIPT\";\"application/xhtml+xml\"===b.contentType&&(c=c.toLowerCase());c=b.createElement(c);if(void 0===g){b=null;var k=e.trustedTypes;if(k&&k.createPolicy){try{b=k.createPolicy(\"goog#html\",{createHTML:f,createScript:f,createScriptURL:f})}catch(p){e.console&&e.console.error(p.message)}g=b}else g=b}a=(b=g)?b.createScriptURL(a):a;a=new l(a,h);c.src=a instanceof l&&a.constructor===l?a.g:\"type_error:TrustedResourceUrl\";var d;a=(c.ownerDocument&&c.ownerDocument.defaultView||window).document;(d=(a=null===(d=a.querySelector)||void 0===d?void 0:d.call(a,\"script[nonce]\"))?a.nonce||a.getAttribute(\"nonce\")||\"\":\"\")&&c.setAttribute(\"nonce\",d);document.body.appendChild(c);google.psa=!0};setTimeout(function(){m()},0);})();(function(){window.google.xjsu='/xjs/_/js/k\\x3dxjs.hp.en_US.JRh4tN6N9QQ.O/m\\x3dsb_he,d/am\\x3dAHgCLA/d\\x3d1/ed\\x3d1/rs\\x3dACT90oGq1Ln_99CJXORDJChcIkowqosPIA';})();function _DumpException(e){throw e;}\n",
            "function _F_installCss(c){}\n",
            "(function(){google.jl={attn:false,blt:'none',dw:false,emtn:0,ine:false,lls:'default',pdt:0,snet:true,ubm:false,uwp:true};})();(function(){var pmc='{\\x22d\\x22:{},\\x22sb_he\\x22:{\\x22agen\\x22:true,\\x22cgen\\x22:true,\\x22client\\x22:\\x22heirloom-hp\\x22,\\x22dh\\x22:true,\\x22dhqt\\x22:true,\\x22ds\\x22:\\x22\\x22,\\x22ffql\\x22:\\x22en\\x22,\\x22fl\\x22:true,\\x22host\\x22:\\x22google.com\\x22,\\x22isbh\\x22:28,\\x22jsonp\\x22:true,\\x22msgs\\x22:{\\x22cibl\\x22:\\x22Clear Search\\x22,\\x22dym\\x22:\\x22Did you mean:\\x22,\\x22lcky\\x22:\\x22I\\\\u0026#39;m Feeling Lucky\\x22,\\x22lml\\x22:\\x22Learn more\\x22,\\x22oskt\\x22:\\x22Input tools\\x22,\\x22psrc\\x22:\\x22This search was removed from your \\\\u003Ca href\\x3d\\\\\\x22/history\\\\\\x22\\\\u003EWeb History\\\\u003C/a\\\\u003E\\x22,\\x22psrl\\x22:\\x22Remove\\x22,\\x22sbit\\x22:\\x22Search by image\\x22,\\x22srch\\x22:\\x22Google Search\\x22},\\x22nrft\\x22:false,\\x22ovr\\x22:{},\\x22pq\\x22:\\x22\\x22,\\x22refpd\\x22:true,\\x22rfs\\x22:[],\\x22sbas\\x22:\\x220 3px 8px 0 rgba(0,0,0,0.2),0 0 0 1px rgba(0,0,0,0.08)\\x22,\\x22sbpl\\x22:16,\\x22sbpr\\x22:16,\\x22scd\\x22:10,\\x22stok\\x22:\\x224JH-xyvY3c2OqOMNNEyxzaO8FyQ\\x22,\\x22uhde\\x22:false}}';google.pmc=JSON.parse(pmc);})();</script>        </body></html>\n"
          ]
        }
      ]
    },
    {
      "cell_type": "markdown",
      "metadata": {
        "id": "RFG4vyjc4UEB"
      },
      "source": [
        "# c) Write a simple script that serves a simple HTTPResonse nd a simple HTML Page.\n",
        "\n",
        " 𝐀𝐈𝐌:\n",
        "\n",
        "To Write a simple script that serves a simple HTTPResponse and Simple HTML page. \n",
        "\n",
        "𝐃𝐄𝐒𝐂𝐑𝐈𝐏𝐓𝐈𝐎𝐍:\n",
        "\n",
        "HTTP Protocol The most important part of a web server is HTTP protocol.So now we will see what exactly this is – It stands for Hyper Text Transfer Protocol. It is an application layer protocol that allows web based applications to communicate and exchange data. The HTTP is the messenger of web. The computer that communicate via the HTTP must speak the HTTP protocol. It is a TCP/IP based protocol. It is used to deliver contents, for eg. images, audios, videos, documents etc. Using HTTP is the most convenient way to quickly and reliably move data on the web. HTML stands for hypertext markup language. It is the standard markup language for web pages that define the structure of the content. These elements are the building blocks of any website"
      ]
    },
    {
      "cell_type": "code",
      "metadata": {
        "colab": {
          "base_uri": "https://localhost:8080/"
        },
        "id": "_tqF7H1W4iYa",
        "outputId": "7f5b93a3-227f-45d4-f731-fb4c270da1c2"
      },
      "source": [
        "from flask import Flask,render_template\n",
        "app=Flask(__name__)\n",
        "print(app)\n",
        "@app.route(\"/\")\n",
        "def main():\n",
        "  return render_template('login.html')\n",
        "if __name__==\"__main__\":\n",
        "  app.run(host=\"127.0.0.1\",port=2500)"
      ],
      "execution_count": null,
      "outputs": [
        {
          "name": "stdout",
          "output_type": "stream",
          "text": [
            "<Flask '__main__'>\n",
            " * Serving Flask app \"__main__\" (lazy loading)\n",
            " * Environment: production\n",
            "\u001b[31m   WARNING: This is a development server. Do not use it in a production deployment.\u001b[0m\n",
            "\u001b[2m   Use a production WSGI server instead.\u001b[0m\n",
            " * Debug mode: off\n"
          ]
        },
        {
          "name": "stderr",
          "output_type": "stream",
          "text": [
            " * Running on http://127.0.0.1:2500/ (Press CTRL+C to quit)\n"
          ]
        }
      ]
    },
    {
      "cell_type": "markdown",
      "metadata": {
        "id": "YrlPceBD6FPz"
      },
      "source": [
        "# EXERCISE 13-OOP\n",
        "\n",
        "# a)Class variables and instance variable and illustration of the self-variable\n",
        "\n",
        "# i) Robot\n",
        "\n",
        "𝐀𝐈𝐌:\n",
        "\n",
        "To write class variables and instance variable and illustration of the self -variable.\n",
        "\n",
        " 𝐃𝐄𝐒𝐂𝐑𝐈𝐏𝐓𝐈𝐎𝐍:\n",
        " \n",
        " class variableis shared by all object instances of a class.....They are not defined inside any methods of a class. Because a class variable is shared by instances of a class, the Python class owns the variable. As a result, all instances of the class will be able to access that variable Instance variables are owned by instances of the class. This means that for each object or instance of a class, the instance variables are different..... Instance variables, owned by objects of the class, allow for each object or instance to have different values assigned to those variables self variable is used to bind the instance of the class to the instance method. We have to explicitly declare it as the first method argument to access the instance variables and methods. This variable is used only with the instance methods.\n"
      ]
    },
    {
      "cell_type": "code",
      "metadata": {
        "colab": {
          "base_uri": "https://localhost:8080/"
        },
        "id": "a3QNi8Dp6cnY",
        "outputId": "6935bb3a-ae33-4a37-ac4f-f1639eefd6a1"
      },
      "source": [
        "class Robot:\n",
        "  what=\"Machine\"\n",
        "  name=\"Chitti\"\n",
        "  version=1.0\n",
        "  speed=\"1THZ\"\n",
        "  memory=\"1ZB\"\n",
        "  def update(upd):\n",
        "    upd.version=2.0\n",
        "    upd.speed=\"2THZ\"\n",
        "    upd.memory=\"2ZB\"\n",
        "  def disp(self):\n",
        "    print(\"Myself is a\",robj.what)\n",
        "    print(\"MyNmae is a\",robj.name)\n",
        "    print(\"Version\",robj.version)\n",
        "    print(\"Speed\",robj.speed)\n",
        "    print(\"Memory\",robj.memory)\n",
        "\n",
        "robj=Robot()\n",
        "robj.disp()\n",
        "\n",
        "print(\"--------Update--------\")\n",
        "robj.update()\n",
        "robj.disp()"
      ],
      "execution_count": null,
      "outputs": [
        {
          "name": "stdout",
          "output_type": "stream",
          "text": [
            "Myself is a Machine\n",
            "MyNmae is a Chitti\n",
            "Version 1.0\n",
            "Speed 1THZ\n",
            "Memory 1ZB\n",
            "--------Update--------\n",
            "Myself is a Machine\n",
            "MyNmae is a Chitti\n",
            "Version 2.0\n",
            "Speed 2THZ\n",
            "Memory 2ZB\n"
          ]
        }
      ]
    },
    {
      "cell_type": "markdown",
      "metadata": {
        "id": "Mc1PVGBK8eN2"
      },
      "source": [
        "# ii) ATM MACHINE"
      ]
    },
    {
      "cell_type": "code",
      "metadata": {
        "colab": {
          "base_uri": "https://localhost:8080/"
        },
        "id": "Kv-NSLZ172R8",
        "outputId": "c5cb46c9-1705-4099-9217-1f9cce33b2d3"
      },
      "source": [
        "class ATM:\n",
        "  def __init__(self):\n",
        "    self.balance=0\n",
        "  def enquire(self):\n",
        "    print(\"Balance:\",self.balance)\n",
        "  def deposit(self):\n",
        "    amount=int(input(\"Enter the Deposit Amount:\"))\n",
        "    self.balance+=amount\n",
        "    self.enquire()\n",
        "  def withdraw(self):\n",
        "    amount=int(input(\"Enter the Withdarw Amount:\"))\n",
        "    if self.balance<amount:\n",
        "      print(\"Insuffient Balnace....!\")\n",
        "    else:\n",
        "      self.balance-=amount\n",
        "      self.enquire()\n",
        "aobj=ATM()\n",
        "while(True):\n",
        "  print(\"****Menu****\")\n",
        "  print(\"1.Deposit\")\n",
        "  print(\"2.Withdarw\")\n",
        "  print(\"3.Balance\")\n",
        "  print(\"0.Exit\")\n",
        "  ch=int(input(\"Enter your choice:\"))\n",
        "  if ch==0:\n",
        "    break\n",
        "  elif ch==1:\n",
        "    aobj.deposit()\n",
        "  elif ch==2:\n",
        "    aobj.withdraw()\n",
        "  elif ch==3:\n",
        "    aobj.enquire()\n",
        "  else:\n",
        "    print(\"Invalid Choice\")\n",
        "    pass"
      ],
      "execution_count": null,
      "outputs": [
        {
          "name": "stdout",
          "output_type": "stream",
          "text": [
            "****Menu****\n",
            "1.Deposit\n",
            "2.Withdarw\n",
            "3.Balance\n",
            "0.Exit\n",
            "Enter your choice:1\n",
            "Enter the Deposit Amount:2000\n",
            "Balance: 2000\n",
            "****Menu****\n",
            "1.Deposit\n",
            "2.Withdarw\n",
            "3.Balance\n",
            "0.Exit\n",
            "Enter your choice:2\n",
            "Enter the Withdarw Amount:1000\n",
            "Balance: 1000\n",
            "****Menu****\n",
            "1.Deposit\n",
            "2.Withdarw\n",
            "3.Balance\n",
            "0.Exit\n",
            "Enter your choice:3\n",
            "Balance: 1000\n",
            "****Menu****\n",
            "1.Deposit\n",
            "2.Withdarw\n",
            "3.Balance\n",
            "0.Exit\n",
            "Enter your choice:0\n"
          ]
        }
      ]
    },
    {
      "cell_type": "markdown",
      "metadata": {
        "id": "hVKIwO7B0qH8"
      },
      "source": [
        "# EXERCISE 14-GUI,Graphics\n",
        "\n",
        "# a)Write a GUI for an Expression Calculaor using tk.\n",
        "\n",
        "𝐀𝐈𝐌:\n",
        "\n",
        "To write a program for calculator using gui.\n",
        "\n",
        " 𝐃𝐄𝐒𝐂𝐑𝐈𝐏𝐓𝐈𝐎𝐍:\n",
        " \n",
        "  Tkinter is a Python package which comes with many functions and methods that can be used to create an application. In order to create a tkinter application, we generally create an instance of tkinter frame, i.e., Tk(). It helps to display the root window and manages all the other components of the tkinter application. We can initialize the tkinter instance by assigning the variable to it.\n"
      ]
    },
    {
      "cell_type": "markdown",
      "metadata": {
        "id": "Cl-9AY_0D86J"
      },
      "source": [
        ""
      ]
    },
    {
      "cell_type": "code",
      "metadata": {
        "id": "3zFfD6-m1XWG"
      },
      "source": [
        "from tkinter import*\n",
        "win=Tk()\n",
        "win.geometry(\"312x324\")\n",
        "win.resizable(0,0)\n",
        "win.title(\"My Calculator\")\n",
        "\n",
        "#updates the input field whenever you enters a number \n",
        "def btn_click(item):\n",
        "  global expression\n",
        "  expression=expression+str(item)\n",
        "  input_text.set(expression)\n",
        "\n",
        "#'bt_clear' function:This is used to clear the input field\n",
        "def bt_clear():\n",
        "  global expression\n",
        "  expression=\"\"\n",
        "  input_text.self(\"\")\n",
        "\n",
        "#caLculates the expression present in input field\n",
        "def bt_equal():\n",
        "  global expression\n",
        "  result=str(eval(expression))\n",
        "  input_text.self(result)\n",
        "  expression=\"\"\n",
        "expression=\"\"\n",
        "\n",
        "#to get the instance of input field\n",
        "input_text=StringVar()\n",
        "\n",
        "#a frame for the input field\n",
        "input_frame =Frame(win,  width-312,   height-50,  bd-0,   highlightbackground=\"black\",    highlightcolor=\"black\",   highlightthickness=2)\n",
        "input_frame.pack(side=TOP)\n",
        "\n",
        "#a input field inside the 'Frame'\n",
        "input_field=Entry(input_frame,font=('arial', 18,'bold'),textvariable=input_text,width=50,bg=\"#eee\",bd=0,justify=RIGHT)\n",
        "input_field.grid(row=0,column=0)\n",
        "input_field.pack(ipady=10)#'ipady' is internal padding to increase the height of input field\n",
        "\n",
        "#creating another 'Frame' for the button below the 'input_frame'\n",
        "btns_frame=Frame(win,width=312,height=272.5,bg=\"grey\")\n",
        "btns_frame.pack()\n",
        "\n",
        "#first row \n",
        "clear=Button(btns_frame,text=\"C\",fg=\"black\",width=32,height=3,bd=0,bg=\"#eee\",cursor=\"hand2\",command=lambda:bt_clear()).grid(row=0,column=0,columnspan=3,padx=1,pady=1)\n",
        "divide=Button(btns_frame,text=\"/\",fg=\"black\",width=10,height=3,bd=0,bg=\"#eee\",cursor=\"hand2\",command=lambda:btn_click(\"/\")).grid(row=0,column=3,padx=1,pady=1)\n",
        "\n",
        "#second row\n",
        "seven=Button(btns_frame,text=\"7\",fg=\"black\",width=10,height=3,bd=0,bg=\"#fff\",cursor=\"hand2\",command=lambda:btn_click(7)).grid(row=1,column=0,padx=1,pady=1)\n",
        "eight=Button(btns_frame,text=\"8\",fg=\"black\",width=10,height=3,bd=0,bg=\"#fff\",cursor=\"hand2\",command=lambda:btn_click(8)).grid(row=1,column=1,padx=1,pady=1)\n",
        "nine=Button(btns_frame,text=\"9\",fg=\"black\",width=10,height=3,bd=0,bg=\"#fff\",cursor=\"hand2\",command=lambda:btn_click(9)).grid(row=1,column=2,padx=1,pady=1)\n",
        "multiply=Button(btns_frame,text=\"\",fg=\"black\",width=10,height=3,bd=0,bg=\"#fff\",cursor=\"hand2\",command=lambda:btn_click(\"\")).grid(row=1,column=3,padx=1,pady=1)\n",
        "\n",
        "#third row\n",
        "four=Button(btns_frame,text=\"4\",fg=\"black\",width=10,height=3,bd=0,bg=\"#fff\",cursor=\"hand2\",command=lambda:btn_click(4)).grid(row=2,column=0,padx=1,pady=1)\n",
        "five=Button(btns_frame,text=\"5\",fg=\"black\",width=10,height=3,bd=0,bg=\"#fff\",cursor=\"hand2\",command=lambda:btn_click(5)).grid(row=2,column=1,padx=1,pady=1)\n",
        "six=Button(btns_frame,text=\"6\",fg=\"black\",width=10,height=3,bd=0,bg=\"#fff\",cursor=\"hand2\",command=lambda:btn_click(6)).grid(row=2,column=2,padx=1,pady=1)\n",
        "minus=Button(btns_frame,text=\"-\",fg=\"black\",width=10,height=3,bd=0,bg=\"#fff\",cursor=\"hand2\",command=lambda:btn_click(\"-\")).grid(row=2,column=3,padx=1,pady=1)\n",
        "\n",
        "#fourth row\n",
        "one=Button(btns_frame,text=\"1\",fg=\"black\",width=10,height=3,bd=0,bg=\"#fff\",cursor=\"hand2\",command=lambda:btn_click(1)).grid(row=3,column=0,padx=1,pady=1)\n",
        "two=Button(btns_frame,text=\"2\",fg=\"black\",width=10,height=3,bd=0,bg=\"#fff\",cursor=\"hand2\",command=lambda:btn_click(2)).grid(row=3,column=1,padx=1,pady=1)\n",
        "three=Button(btns_frame,text=\"3\",fg=\"black\",width=10,height=3,bd=0,bg=\"#fff\",cursor=\"hand2\",command=lambda:btn_click(3)).grid(row=3,column=2,padx=1,pady=1)\n",
        "plus=Button(btns_frame,text=\"+\",fg=\"black\",width=10,height=3,bd=0,bg=\"#fff\",cursor=\"hand2\",command=lambda:btn_click(\"+\")).grid(row=3,column=3,padx=1,pady=1)\n",
        "\n",
        "#fifth row\n",
        "zero=Button(btns_frame,text=\"0\",fg=\"black\",width=10,height=3,bd=0,bg=\"#fff\",cursor=\"hand2\",command=lambda:btn_click(0)).grid(row=4,column=0,padx=1,pady=1)\n",
        "point=Button(btns_frame,text=\".\",fg=\"black\",width=10,height=3,bd=0,bg=\"#fff\",cursor=\"hand2\",command=lambda:btn_click(\".\")).grid(row=4,column=2,padx=1,pady=1)\n",
        "equals=Button(btns_frame,text=\"=\",fg=\"black\",width=10,height=3,bd=0,bg=\"#fff\",cursor=\"hand2\",command=lambda:bt_equal()).grid(row=4,column=3,padx=1,pady=1)\n",
        "\n",
        "win.mainloop()"
      ],
      "execution_count": null,
      "outputs": []
    },
    {
      "cell_type": "markdown",
      "metadata": {
        "id": "fj__1RxV2qXz"
      },
      "source": [
        "![image.png](data:image/png;base64,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)"
      ]
    },
    {
      "cell_type": "markdown",
      "metadata": {
        "id": "BZdovpHFEA0z"
      },
      "source": [
        "# b)Write a program to implement the following figures using turtle.\n",
        "\n",
        "𝐀𝐈𝐌:\n",
        "\n",
        "To Write a program to implement the following figures using turtle.\n",
        "\n",
        "𝐃𝐄𝐒𝐂𝐑𝐈𝐏𝐓𝐈𝐎𝐍: \n",
        "\n",
        "turtle is a pre-installed Python library that enables users to create pictures and shapes by providing them with a virtual canvas. The onscreen pen that you use for drawing is called the turtle and this is what gives the library its name. ... Most developers use turtle to draw shapes, create designs, and make images.\n"
      ]
    },
    {
      "cell_type": "code",
      "metadata": {
        "id": "DcSddReiECSr"
      },
      "source": [
        "import turtle\n",
        "c=[\"red\",\"green\",\"blue\"]\n",
        "i=0\n",
        "turtle.pensize(5)\n",
        "\n",
        "for angle in range(0,360,30):\n",
        "    if i>2:\n",
        "        i=0\n",
        "    turtle.color(c[i])\n",
        "    turtle.seth(angle)\n",
        "    turtle.circle(50)\n",
        "    i+=1"
      ],
      "execution_count": null,
      "outputs": []
    },
    {
      "cell_type": "markdown",
      "metadata": {
        "id": "waz4cqw02uFP"
      },
      "source": [
        "![image.png](data:image/png;base64,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)"
      ]
    },
    {
      "cell_type": "code",
      "metadata": {
        "id": "VyAxn9GJoI4J"
      },
      "source": [
        "import turtle\n",
        "turtle.pensize(1)\n",
        "\n",
        "for i in range(36):\n",
        "    for j in range(4):\n",
        "        turtle.forward(70)\n",
        "        turtle.left(90)\n",
        "    turtle.left(10)"
      ],
      "execution_count": null,
      "outputs": []
    },
    {
      "cell_type": "markdown",
      "metadata": {
        "id": "bjLqgu0h2SyX"
      },
      "source": [
        "![image.png](data:image/png;base64,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)"
      ]
    },
    {
      "cell_type": "markdown",
      "metadata": {
        "id": "7ok2DAmIouba"
      },
      "source": [
        "# EXERCISE 15-Testing\n",
        "\n",
        "# a)Write a test-case to check the function even numbers which return True on passing a list of all numbers.\n",
        "\n",
        "𝐀𝐈𝐌:\n",
        "\n",
        "To Write a test-case to check the function even numbers which return True on passing a list of all even   numbers.\n",
        "\n",
        "𝐃𝐄𝐒𝐂𝐑𝐈𝐏𝐓𝐈𝐎𝐍:\n",
        "\n",
        "Testcase is used to create test cases by subclassing it. The last block of the code at the bottom allows us to run all the tests just by running the file. Basic terms used in the code : assertEqual()\n",
        "\n",
        "– This statement is used to check if the result obtained is equal to the expected result\n",
        "\n",
        "test case:\n",
        "\n",
        "A test case is a set of conditions which is used to determine whether a system under test works correctly\n"
      ]
    },
    {
      "cell_type": "code",
      "metadata": {
        "colab": {
          "base_uri": "https://localhost:8080/"
        },
        "id": "YxyldCOu1O5e",
        "outputId": "29fc4894-1dd7-41d8-872b-a3685589c247"
      },
      "source": [
        "def evenNot(num):\n",
        "  stat=True\n",
        "  \n",
        "  for i in num:\n",
        "    if i%2==1:\n",
        "      stat=False\n",
        "      break\n",
        "  return stat\n",
        "\n",
        "numbers=[]\n",
        "print(\"Enter the FIVE numbers\")\n",
        "for i in range(0,5):\n",
        "  numbers.append(int(input(\"Enter a value:\")))\n",
        "print(evenNot(numbers))"
      ],
      "execution_count": null,
      "outputs": [
        {
          "output_type": "stream",
          "name": "stdout",
          "text": [
            "Enter the FIVE numbers\n",
            "Enter a value:2\n",
            "Enter a value:2\n",
            "Enter a value:2\n",
            "Enter a value:2\n",
            "Enter a value:2\n",
            "True\n"
          ]
        }
      ]
    },
    {
      "cell_type": "markdown",
      "metadata": {
        "id": "b8Gzr17o4WwV"
      },
      "source": [
        "# b)Write a test-case to check the function revesre string which returns the reversed string.\n",
        "\n",
        "# 𝐀𝐈𝐌:\n",
        "\n",
        "Test-case to check the function reverse string which returns the reversed string.\n",
        "\n",
        "# 𝐃𝐄𝐒𝐂𝐑𝐈𝐏𝐓𝐈𝐎𝐍:\n",
        " \n",
        " Python string library does’nt support the in-built “reverse()” as done by other python containers like list, hence knowing other methods to reverse string can prove to be useful.The reversed() returns the reversed iterator of the given string and then its elements are joined empty string separated using join(). And reversed order string is formed.\n",
        "\n",
        "\n"
      ]
    },
    {
      "cell_type": "code",
      "metadata": {
        "colab": {
          "base_uri": "https://localhost:8080/"
        },
        "id": "IyBPaG0B4xez",
        "outputId": "8a75938e-20e8-4a2c-abe6-d8591a32161c"
      },
      "source": [
        "def rev_str(st):\n",
        "    return st[::-1]\n",
        "\n",
        "st=\"Mounika\"\n",
        "print(\"Given String is: \",st)\n",
        "\n",
        "print(\"Reverse is: \",rev_str(st))"
      ],
      "execution_count": null,
      "outputs": [
        {
          "output_type": "stream",
          "name": "stdout",
          "text": [
            "Given String is:  Mounika\n",
            "Reverse is:  akinuoM\n"
          ]
        }
      ]
    },
    {
      "cell_type": "markdown",
      "metadata": {
        "id": "IRrpSYMi5Hqp"
      },
      "source": [
        "\n",
        "# EXERCISE 16-Advanced\n",
        "\n",
        "# a)Build any one classical data structure.\n",
        "\n",
        "# 𝐀𝐈𝐌:\n",
        "\n",
        "To build any one classical data structure .\n",
        "\n",
        "## 𝐃𝐄𝐒𝐂𝐑𝐈𝐏𝐓𝐈𝐎𝐍:\n",
        "\n",
        " The basic Python data structures in Python include list, set, tuples, and dictionary. ... Data structures are “containers” that organize and group data according to type. The data structures differ based on mutability and order. Mutability refers to the ability to change an object after its creation."
      ]
    },
    {
      "cell_type": "code",
      "metadata": {
        "colab": {
          "background_save": true,
          "base_uri": "https://localhost:8080/"
        },
        "id": "750fKg7_5bbL",
        "outputId": "1d581565-975a-4956-b32a-92d084b4b9ca"
      },
      "source": [
        " \n",
        "import sys\n",
        "a=[]\n",
        "while True:\n",
        "    print(\"1.PUSH 2.POP 3.DISPLAY 4.EXIT\") \n",
        "    ch=int(input(\"enter your choice:\")) \n",
        "    if ch==1 : \n",
        "       ele=int(input(\"Enter element:\"))\n",
        "       a.append(ele) \n",
        "       print(ele, \"is inserted\") \n",
        "    elif ch==2:\n",
        "        if len(a) ==0 :\n",
        "            print(\" Stack is empty\") \n",
        "        else :\n",
        "           print(\"Deleted element is :\", a[len(a) -1]) \n",
        "           a. remove(a[len(a) -1]) \n",
        "    elif ch==3 :\n",
        "        if len(a) ==0:\n",
        "            print(\"Stack is empty\") \n",
        "        else :\n",
        "           print(\"The elements in the stack :\") \n",
        "           for i in reversed(a):\n",
        "                 print(i) \n",
        "    elif ch==4:\n",
        "       sys.exit() \n",
        "    else :\n",
        "        print(\"Invalid choice \")"
      ],
      "execution_count": null,
      "outputs": [
        {
          "name": "stdout",
          "output_type": "stream",
          "text": [
            "1.PUSH 2.POP 3.DISPLAY 4.EXIT\n",
            "10 is inserted\n",
            "1.PUSH 2.POP 3.DISPLAY 4.EXIT\n",
            "20 is inserted\n",
            "1.PUSH 2.POP 3.DISPLAY 4.EXIT\n",
            "The elements in the stack :\n",
            "20\n",
            "10\n",
            "1.PUSH 2.POP 3.DISPLAY 4.EXIT\n",
            "Deleted element is : 20\n",
            "1.PUSH 2.POP 3.DISPLAY 4.EXIT\n",
            "The elements in the stack :\n",
            "10\n",
            "1.PUSH 2.POP 3.DISPLAY 4.EXIT\n",
            "Invalid choice \n",
            "1.PUSH 2.POP 3.DISPLAY 4.EXIT\n",
            "Deleted element is : 10\n",
            "1.PUSH 2.POP 3.DISPLAY 4.EXIT\n",
            "Stack is empty\n",
            "1.PUSH 2.POP 3.DISPLAY 4.EXIT\n"
          ]
        }
      ]
    },
    {
      "cell_type": "markdown",
      "metadata": {
        "id": "PKwoLDslcQdD"
      },
      "source": [
        "# b)Write a program to solve knapsack problem.\n",
        "\n",
        "# 𝐀𝐈𝐌:\n",
        "\n",
        "To write a program to solve knapsack problem.\n",
        "\n",
        "# 𝐃𝐄𝐒𝐂𝐑𝐈𝐏𝐓𝐈𝐎𝐍:\n",
        " \n",
        "  A knapsack problem algorithm is a constructive approach to combinatorial optimization. The problem is basically about a given set of items, each with a specific weight and a value. Therefore the programmer needs to determine each item’s number to include in a collection so that the total weight is less than or equal to a given limit. And also, the total value is maximum. It derives its name from the fixed-size knapsack that must be filled up to its limit with the most valuable items.\n"
      ]
    },
    {
      "cell_type": "code",
      "metadata": {
        "colab": {
          "base_uri": "https://localhost:8080/"
        },
        "id": "TGjoyWGgcZg_",
        "outputId": "a0439b05-5888-4fc1-8796-f579ae1d5b66"
      },
      "source": [
        "def knapSack(W,wt,val,n):\n",
        "  K=[[0 for x in range(W+1)]for x in range(n+1)]\n",
        "  for i in range(n+1):\n",
        "    for w in range(W+1):\n",
        "      if i==0 or w==0:\n",
        "        K[i][w]=0\n",
        "      elif wt[i-1]<=w:\n",
        "        K[i][w]=max(val[i-1]+K[i-1][w-wt[i-1]],K[i-1][w])\n",
        "      else:\n",
        "        K[i][w]=K[i-1][w]\n",
        "  return K[n][W]\n",
        "val=[5,3,4]\n",
        "wt=[3,2,1]\n",
        "W=5\n",
        "n=len(val)\n",
        "print(\"Maximum value of knapsack of capacity W:\",knapSack(W,wt,val,n))"
      ],
      "execution_count": null,
      "outputs": [
        {
          "name": "stdout",
          "output_type": "stream",
          "text": [
            "Maximum value of knapsack of capacity W: 9\n"
          ]
        }
      ]
    },
    {
      "cell_type": "markdown",
      "metadata": {
        "id": "XHqmoIUYe7Ob"
      },
      "source": [
        "# EXERCISE-17&18 -Data Analysis\n",
        "\n",
        "# Data analysis or manipulation using the following packages\n",
        "# a) Numpy           b)Pandas\n",
        "# a) Scipy         b)matplotlib\n",
        "\n",
        "# 𝐀𝐈𝐌:\n",
        "\n",
        "using packages do data analysis and manipulation\n",
        "\n",
        "\n",
        "# 𝐃𝐄𝐒𝐂𝐑𝐈𝐏𝐓𝐈𝐎𝐍 :\n",
        "\n",
        "SciPy is a free and open-source Python library used for scientific computing and technical computing. It is a collection of mathematical algorithms and convenience functions built on the NumPy extension of Python NumPy is the fundamental package for scientific computing in Python. ....NumPy arrays facilitate advanced mathematical and other types of operations on large numbers of data. Matplotlib is a plotting library for the Python programming language and its numerical mathematics extension NumPy. It provides an object-oriented API for embedding plots into applications using general-purpose GUI toolkits like Tkinter, wxPython, Qt, or GTK Pandas is an open source Python package that is most widely used for data science/data analysis and machine learning tasks. It is built on top of another package named Numpy, which provides support for multi-dimensional arrays. Scikit-learn is probably the most useful library for machine learning in Python. The sklearn library contains a lot of eficient tools for machine learning and statistical modeling including classification, regression, clustering and dimensionality reduction. Seaborn is a library in Python predominantly used for making statistical graphics. Seaborn is a data visualization library built on top of matplotlib and closely integrated with pandas data structures in Python"
      ]
    },
    {
      "cell_type": "code",
      "metadata": {
        "id": "kzR1UFduf0bs",
        "colab": {
          "base_uri": "https://localhost:8080/"
        },
        "outputId": "b2749f8a-970c-4688-bd17-16b74efac41f"
      },
      "source": [
        "#Python version\n",
        "import sys\n",
        "print('Python: {}'.format(sys.version))\n",
        " \n",
        "#scipy\n",
        "import scipy\n",
        "print('scipy: {}'.format(scipy.__version__))\n",
        " \n",
        "#numpy\n",
        "import numpy\n",
        "print('numpy:{}'.format(numpy.__version__))\n",
        " \n",
        "#matplotlib\n",
        "import matplotlib\n",
        "print('matplotlib:{}'.format(matplotlib.__version__))\n",
        " \n",
        "#pandas\n",
        "import pandas\n",
        "print('pandas:{}'.format(pandas.__version__))\n",
        " \n",
        "#scikit-learn\n",
        "import sklearn\n",
        "print('sklearn:{}'.format(sklearn.__version__))\n",
        " \n",
        " \n",
        "import seaborn\n",
        "print('seaborn:{}'.format(seaborn.__version__))\n",
        "import urllib\n",
        "print('urllib:{}'.format(urllib.__name__ ))\n",
        "import csv\n",
        "print('csv:{}'.format(csv.__version__))"
      ],
      "execution_count": null,
      "outputs": [
        {
          "output_type": "stream",
          "name": "stdout",
          "text": [
            "Python: 3.7.11 (default, Jul  3 2021, 18:01:19) \n",
            "[GCC 7.5.0]\n",
            "scipy: 1.4.1\n",
            "numpy:1.19.5\n",
            "matplotlib:3.2.2\n",
            "pandas:1.1.5\n",
            "sklearn:0.22.2.post1\n",
            "seaborn:0.11.1\n",
            "urllib:urllib\n",
            "csv:1.0\n"
          ]
        }
      ]
    },
    {
      "cell_type": "markdown",
      "metadata": {
        "id": "1PPdNvVGXeyS"
      },
      "source": [
        "# **NumPy**"
      ]
    },
    {
      "cell_type": "code",
      "metadata": {
        "colab": {
          "base_uri": "https://localhost:8080/"
        },
        "id": "DNivmfT0XiV4",
        "outputId": "b9b4fdb7-feaf-4efc-b0e7-a25bb667c601"
      },
      "source": [
        "import numpy as np\n",
        "a=np.array([0,1,2])\n",
        "print(type(a))\n",
        "print(a.shape)\n",
        "print(a[0])\n",
        "print(a[1])\n",
        "print(a[2])\n",
        "a[0]=5\n",
        "print(a)\n"
      ],
      "execution_count": null,
      "outputs": [
        {
          "output_type": "stream",
          "name": "stdout",
          "text": [
            "<class 'numpy.ndarray'>\n",
            "(3,)\n",
            "0\n",
            "1\n",
            "2\n",
            "[5 1 2]\n"
          ]
        }
      ]
    },
    {
      "cell_type": "code",
      "metadata": {
        "colab": {
          "base_uri": "https://localhost:8080/"
        },
        "id": "pSQkPslEXy40",
        "outputId": "4a06455c-d225-4fa6-9e5c-3df0c964b4ac"
      },
      "source": [
        "import numpy as np\n",
        "b=np.array([[0,1,2],[3,4,5]])\n",
        "print(b.shape)\n",
        "print(b)\n",
        "print(b[0,0],b[0,1],b[1,0])\n"
      ],
      "execution_count": null,
      "outputs": [
        {
          "output_type": "stream",
          "name": "stdout",
          "text": [
            "(2, 3)\n",
            "[[0 1 2]\n",
            " [3 4 5]]\n",
            "0 1 3\n"
          ]
        }
      ]
    },
    {
      "cell_type": "code",
      "metadata": {
        "colab": {
          "base_uri": "https://localhost:8080/"
        },
        "id": "2wj95CoLes1Q",
        "outputId": "4b76dc75-6d0c-4b55-c384-be76ab76532a"
      },
      "source": [
        "import numpy as np\n",
        "a=np.zeros((3,3))\n",
        "print(a)"
      ],
      "execution_count": null,
      "outputs": [
        {
          "output_type": "stream",
          "name": "stdout",
          "text": [
            "[[0. 0. 0.]\n",
            " [0. 0. 0.]\n",
            " [0. 0. 0.]]\n"
          ]
        }
      ]
    },
    {
      "cell_type": "code",
      "metadata": {
        "id": "Kg_oaAyTgF1P",
        "colab": {
          "base_uri": "https://localhost:8080/"
        },
        "outputId": "01065730-ccf1-4a3f-cd23-c2db434a4287"
      },
      "source": [
        "import numpy as np\n",
        "b=np.ones((2,2))\n",
        "print(b)"
      ],
      "execution_count": null,
      "outputs": [
        {
          "output_type": "stream",
          "name": "stdout",
          "text": [
            "[[1. 1.]\n",
            " [1. 1.]]\n"
          ]
        }
      ]
    },
    {
      "cell_type": "code",
      "metadata": {
        "colab": {
          "base_uri": "https://localhost:8080/"
        },
        "id": "ojAnQeGEbwCq",
        "outputId": "ce9165fd-ecc7-43af-8ad2-1df3aa9e87d7"
      },
      "source": [
        "import numpy as np\n",
        "c=np.full((3,3),7)\n",
        "print(c)"
      ],
      "execution_count": null,
      "outputs": [
        {
          "output_type": "stream",
          "name": "stdout",
          "text": [
            "[[7 7 7]\n",
            " [7 7 7]\n",
            " [7 7 7]]\n"
          ]
        }
      ]
    },
    {
      "cell_type": "code",
      "metadata": {
        "colab": {
          "base_uri": "https://localhost:8080/"
        },
        "id": "1jIBn5M-b84B",
        "outputId": "87b44b08-12cc-4b2d-9b7a-977183d0c83b"
      },
      "source": [
        "import numpy as np\n",
        "d=np.random.random((3,3))\n",
        "print(d)"
      ],
      "execution_count": null,
      "outputs": [
        {
          "output_type": "stream",
          "name": "stdout",
          "text": [
            "[[0.63859116 0.56781797 0.72626207]\n",
            " [0.85412049 0.66099703 0.16630543]\n",
            " [0.73005882 0.11438263 0.30513723]]\n"
          ]
        }
      ]
    },
    {
      "cell_type": "code",
      "metadata": {
        "colab": {
          "base_uri": "https://localhost:8080/"
        },
        "id": "zeZQWW9QcVR5",
        "outputId": "4dac2706-ee32-4518-c648-954f07e5074c"
      },
      "source": [
        "import numpy as np\n",
        "e=np.eye(3)\n",
        "print(e)"
      ],
      "execution_count": null,
      "outputs": [
        {
          "output_type": "stream",
          "name": "stdout",
          "text": [
            "[[1. 0. 0.]\n",
            " [0. 1. 0.]\n",
            " [0. 0. 1.]]\n"
          ]
        }
      ]
    },
    {
      "cell_type": "code",
      "metadata": {
        "colab": {
          "base_uri": "https://localhost:8080/"
        },
        "id": "bFVsHnBFcw7-",
        "outputId": "b9ef516f-61b8-488e-a1c9-7cfa49778e96"
      },
      "source": [
        "import numpy as np\n",
        "f=np.array([2,3,1,0])\n",
        "print(f)"
      ],
      "execution_count": null,
      "outputs": [
        {
          "output_type": "stream",
          "name": "stdout",
          "text": [
            "[2 3 1 0]\n"
          ]
        }
      ]
    },
    {
      "cell_type": "code",
      "metadata": {
        "colab": {
          "base_uri": "https://localhost:8080/"
        },
        "id": "YhjXoP3cdKJj",
        "outputId": "e4d6b5fa-c26d-4c31-de9a-4cdb8172b46e"
      },
      "source": [
        "import numpy as np\n",
        "g=np.arange(2,10)\n",
        "print(g)"
      ],
      "execution_count": null,
      "outputs": [
        {
          "output_type": "stream",
          "name": "stdout",
          "text": [
            "[2 3 4 5 6 7 8 9]\n"
          ]
        }
      ]
    },
    {
      "cell_type": "code",
      "metadata": {
        "colab": {
          "base_uri": "https://localhost:8080/"
        },
        "id": "F8yQ38eyd3wv",
        "outputId": "ab69514a-6098-4dc9-e639-af32c55865c7"
      },
      "source": [
        "import numpy as np\n",
        "h=np.array([[0,1,2.0],[0,0,0],(1+1j,3.,2.)])\n",
        "print(h)"
      ],
      "execution_count": null,
      "outputs": [
        {
          "output_type": "stream",
          "name": "stdout",
          "text": [
            "[[0.+0.j 1.+0.j 2.+0.j]\n",
            " [0.+0.j 0.+0.j 0.+0.j]\n",
            " [1.+1.j 3.+0.j 2.+0.j]]\n"
          ]
        }
      ]
    },
    {
      "cell_type": "code",
      "metadata": {
        "colab": {
          "base_uri": "https://localhost:8080/"
        },
        "id": "AucvgfxCe9s9",
        "outputId": "19e733fc-594f-4063-ec80-af12c13786c2"
      },
      "source": [
        "import numpy as np\n",
        "i=np.arange(1,8,dtype=np.float)\n",
        "print(i)"
      ],
      "execution_count": null,
      "outputs": [
        {
          "output_type": "stream",
          "name": "stdout",
          "text": [
            "[1. 2. 3. 4. 5. 6. 7.]\n"
          ]
        }
      ]
    },
    {
      "cell_type": "code",
      "metadata": {
        "colab": {
          "base_uri": "https://localhost:8080/"
        },
        "id": "KYLdBOoKf3en",
        "outputId": "3f47e9b8-aa06-46f1-c750-b414257b32c3"
      },
      "source": [
        "import numpy as np\n",
        "j=np.linspace(2.,4., 5)\n",
        "print(j)"
      ],
      "execution_count": null,
      "outputs": [
        {
          "output_type": "stream",
          "name": "stdout",
          "text": [
            "[2.  2.5 3.  3.5 4. ]\n"
          ]
        }
      ]
    },
    {
      "cell_type": "code",
      "metadata": {
        "colab": {
          "base_uri": "https://localhost:8080/"
        },
        "id": "qO8E056XgfOt",
        "outputId": "f296d33e-10f5-4cf2-a7f5-626bc7856d8f"
      },
      "source": [
        "import numpy as np\n",
        "k=np.indices((3,3))\n",
        "print(k)"
      ],
      "execution_count": null,
      "outputs": [
        {
          "output_type": "stream",
          "name": "stdout",
          "text": [
            "[[[0 0 0]\n",
            "  [1 1 1]\n",
            "  [2 2 2]]\n",
            "\n",
            " [[0 1 2]\n",
            "  [0 1 2]\n",
            "  [0 1 2]]]\n"
          ]
        }
      ]
    },
    {
      "cell_type": "code",
      "metadata": {
        "colab": {
          "base_uri": "https://localhost:8080/"
        },
        "id": "SmetmtqQi6iV",
        "outputId": "477be3ae-aac3-4fe7-a4ee-3c62afa23601"
      },
      "source": [
        "import numpy as np\n",
        "x=np.array([0,1])\n",
        "y=np.array([2.0,3.0])\n",
        "z=np.array([5,6], dtype=np.int64)\n",
        "print(x.dtype,y.dtype,z.dtype)"
      ],
      "execution_count": null,
      "outputs": [
        {
          "output_type": "stream",
          "name": "stdout",
          "text": [
            "int64 float64 int64\n"
          ]
        }
      ]
    },
    {
      "cell_type": "code",
      "metadata": {
        "colab": {
          "base_uri": "https://localhost:8080/"
        },
        "id": "rQQpCEzLjAv9",
        "outputId": "7f255a5e-1740-4378-d6a0-d054036d2cdd"
      },
      "source": [
        "import numpy as np\n",
        "x=np.array([5,6,7,8,9])\n",
        "print(x[1:7:2])\n",
        "print(x[-2:5])\n",
        "print(x[-1:1:-1])"
      ],
      "execution_count": null,
      "outputs": [
        {
          "output_type": "stream",
          "name": "stdout",
          "text": [
            "[6 8]\n",
            "[8 9]\n",
            "[9 8 7]\n"
          ]
        }
      ]
    },
    {
      "cell_type": "code",
      "metadata": {
        "id": "s_WIipRyknn5",
        "colab": {
          "base_uri": "https://localhost:8080/"
        },
        "outputId": "ab7659b7-bef5-4a45-9c8e-9bfdae740d02"
      },
      "source": [
        "import numpy as np\n",
        "a=np.array([[1,2],[3,4],[5,6]])\n",
        "print(a>2)\n",
        "print(a[a>2])"
      ],
      "execution_count": null,
      "outputs": [
        {
          "output_type": "stream",
          "name": "stdout",
          "text": [
            "[[False False]\n",
            " [ True  True]\n",
            " [ True  True]]\n",
            "[3 4 5 6]\n"
          ]
        }
      ]
    },
    {
      "cell_type": "code",
      "metadata": {
        "colab": {
          "base_uri": "https://localhost:8080/"
        },
        "id": "ZHkzumljnjZv",
        "outputId": "36112988-b220-4480-83ee-eda11ae18ecd"
      },
      "source": [
        "import numpy as np\n",
        "x=np.array([[1,2],[3,4],[5,6]])\n",
        "y=np.array([[7,8],[9,10],[11,12]])\n",
        "print(x+y)\n",
        "print(np.add(x,y))\n",
        "print(x-y)\n",
        "print(np.subtract(x,y))"
      ],
      "execution_count": null,
      "outputs": [
        {
          "output_type": "stream",
          "name": "stdout",
          "text": [
            "[[ 8 10]\n",
            " [12 14]\n",
            " [16 18]]\n",
            "[[ 8 10]\n",
            " [12 14]\n",
            " [16 18]]\n",
            "[[-6 -6]\n",
            " [-6 -6]\n",
            " [-6 -6]]\n",
            "[[-6 -6]\n",
            " [-6 -6]\n",
            " [-6 -6]]\n"
          ]
        }
      ]
    },
    {
      "cell_type": "code",
      "metadata": {
        "colab": {
          "base_uri": "https://localhost:8080/"
        },
        "id": "Bj-6fz1dokrK",
        "outputId": "5ce2172c-d95a-4e9f-807e-02d226e97ff9"
      },
      "source": [
        "import numpy as np\n",
        "x=np.array([[1,2],[3,4],[5,6]])\n",
        "y=np.array([[7,8],[9,10],[11,12]])\n",
        "print(np.multiply(x,y))\n",
        "print(x*y)"
      ],
      "execution_count": null,
      "outputs": [
        {
          "output_type": "stream",
          "name": "stdout",
          "text": [
            "[[ 7 16]\n",
            " [27 40]\n",
            " [55 72]]\n",
            "[[ 7 16]\n",
            " [27 40]\n",
            " [55 72]]\n"
          ]
        }
      ]
    },
    {
      "cell_type": "code",
      "metadata": {
        "colab": {
          "base_uri": "https://localhost:8080/"
        },
        "id": "uygaUiUBrvmX",
        "outputId": "4a899b72-3ad1-489d-d8a2-1ede668bac1f"
      },
      "source": [
        "import numpy as np\n",
        "x=np.array([[1,2],[3,4],[5,6]])\n",
        "y=np.array([[7,8],[9,10],[11,12]])\n",
        "print(np.divide(x,y))\n",
        "print(x/y)"
      ],
      "execution_count": null,
      "outputs": [
        {
          "output_type": "stream",
          "name": "stdout",
          "text": [
            "[[0.14285714 0.25      ]\n",
            " [0.33333333 0.4       ]\n",
            " [0.45454545 0.5       ]]\n",
            "[[0.14285714 0.25      ]\n",
            " [0.33333333 0.4       ]\n",
            " [0.45454545 0.5       ]]\n"
          ]
        }
      ]
    },
    {
      "cell_type": "code",
      "metadata": {
        "colab": {
          "base_uri": "https://localhost:8080/"
        },
        "id": "rK9NcXqosJuu",
        "outputId": "3c0d0b70-2293-4fe9-f575-1a004f6438ff"
      },
      "source": [
        "import numpy as np\n",
        "x=np.array([[1,2],[3,4],[5,6]])\n",
        "print(np.sqrt(x))"
      ],
      "execution_count": null,
      "outputs": [
        {
          "output_type": "stream",
          "name": "stdout",
          "text": [
            "[[1.         1.41421356]\n",
            " [1.73205081 2.        ]\n",
            " [2.23606798 2.44948974]]\n"
          ]
        }
      ]
    },
    {
      "cell_type": "code",
      "metadata": {
        "colab": {
          "base_uri": "https://localhost:8080/"
        },
        "id": "MNlfHmQJuMJY",
        "outputId": "d6e0eaf4-8fe0-4e02-81fd-de665c617e00"
      },
      "source": [
        "import numpy as np\n",
        "a=np.array([9,10])\n",
        "b=np.array([11,12])\n",
        "print(a.dot(b))\n",
        "print(np.dot(a,b))"
      ],
      "execution_count": null,
      "outputs": [
        {
          "output_type": "stream",
          "name": "stdout",
          "text": [
            "219\n",
            "219\n"
          ]
        }
      ]
    },
    {
      "cell_type": "code",
      "metadata": {
        "colab": {
          "base_uri": "https://localhost:8080/"
        },
        "id": "9YD6ZPI4vLPY",
        "outputId": "1bb38ea4-7106-43fd-e866-fe4c3e27a651"
      },
      "source": [
        "import numpy as np\n",
        "a=np.array([9,10])\n",
        "x=np.array([[1,2],[3,4]])\n",
        "print(x.dot(a))\n",
        "print(np.dot(x,a))"
      ],
      "execution_count": null,
      "outputs": [
        {
          "output_type": "stream",
          "name": "stdout",
          "text": [
            "[29 67]\n",
            "[29 67]\n"
          ]
        }
      ]
    },
    {
      "cell_type": "code",
      "metadata": {
        "colab": {
          "base_uri": "https://localhost:8080/"
        },
        "id": "svvDisl-vwou",
        "outputId": "9d901a48-8a57-48d1-c985-5e65eac3b808"
      },
      "source": [
        "import numpy as np\n",
        "x=np.array([[1,2],[3,4]])\n",
        "y=np.array([[5,6],[7,8]])\n",
        "print(x.dot(y))\n",
        "print(np.dot(x,y))"
      ],
      "execution_count": null,
      "outputs": [
        {
          "output_type": "stream",
          "name": "stdout",
          "text": [
            "[[19 22]\n",
            " [43 50]]\n",
            "[[19 22]\n",
            " [43 50]]\n"
          ]
        }
      ]
    },
    {
      "cell_type": "code",
      "metadata": {
        "colab": {
          "base_uri": "https://localhost:8080/"
        },
        "id": "ts7C67kbxivl",
        "outputId": "2c1756c9-7025-4ca3-80f9-e7e6e81e6fb9"
      },
      "source": [
        "import numpy as np\n",
        "x=np.array([[1,2],[3,4]])\n",
        "print(np.sum(x))\n",
        "print(np.sum(x,axis=0))\n",
        "print(np.sum(x,axis=1))"
      ],
      "execution_count": null,
      "outputs": [
        {
          "output_type": "stream",
          "name": "stdout",
          "text": [
            "10\n",
            "[4 6]\n",
            "[3 7]\n"
          ]
        }
      ]
    },
    {
      "cell_type": "code",
      "metadata": {
        "colab": {
          "base_uri": "https://localhost:8080/"
        },
        "id": "Rdd89C6Aya7C",
        "outputId": "078be602-42c5-4ded-d77d-16702d0da742"
      },
      "source": [
        "import numpy as np\n",
        "x=np.array([[1,2],[3,4]])\n",
        "print(x)\n",
        "print(x.T)\n"
      ],
      "execution_count": null,
      "outputs": [
        {
          "output_type": "stream",
          "name": "stdout",
          "text": [
            "[[1 2]\n",
            " [3 4]]\n",
            "[[1 3]\n",
            " [2 4]]\n"
          ]
        }
      ]
    },
    {
      "cell_type": "code",
      "metadata": {
        "colab": {
          "base_uri": "https://localhost:8080/"
        },
        "id": "cQmMFDoEzeCh",
        "outputId": "ef4727b5-6c9a-47cc-caf1-4cc5060b0bf2"
      },
      "source": [
        "import numpy as np\n",
        "v=np.array([1,2,3])\n",
        "print(v)\n",
        "print(v.T)"
      ],
      "execution_count": null,
      "outputs": [
        {
          "output_type": "stream",
          "name": "stdout",
          "text": [
            "[1 2 3]\n",
            "[1 2 3]\n"
          ]
        }
      ]
    },
    {
      "cell_type": "code",
      "metadata": {
        "colab": {
          "base_uri": "https://localhost:8080/"
        },
        "id": "98GCCldWziSN",
        "outputId": "7b70b2a1-be0f-42aa-93c7-0405dfc07ba2"
      },
      "source": [
        "import numpy as np\n",
        "a=np.array([[1,2,3],[4,5,6],[7,8,9]])\n",
        "v=np.array([1,0,1])\n",
        "b=a+v\n",
        "print(b)"
      ],
      "execution_count": null,
      "outputs": [
        {
          "output_type": "stream",
          "name": "stdout",
          "text": [
            "[[ 2  2  4]\n",
            " [ 5  5  7]\n",
            " [ 8  8 10]]\n"
          ]
        }
      ]
    },
    {
      "cell_type": "code",
      "metadata": {
        "colab": {
          "base_uri": "https://localhost:8080/"
        },
        "id": "H0tFfPWz0awF",
        "outputId": "de4f667a-46ec-40eb-a9b4-4503fe593279"
      },
      "source": [
        "import numpy as np\n",
        "x=np.array([[1,2,1],[3,4,1]])\n",
        "print(\"X.T:\\n\",x.T)\n",
        "w=np.array([1,1])\n",
        "print(\"W:\\n\",w)\n",
        "\n",
        "print(\"Final :\\n\",(x.T+w).T)"
      ],
      "execution_count": null,
      "outputs": [
        {
          "output_type": "stream",
          "name": "stdout",
          "text": [
            "X.T:\n",
            " [[1 3]\n",
            " [2 4]\n",
            " [1 1]]\n",
            "W:\n",
            " [1 1]\n",
            "Final :\n",
            " [[2 3 2]\n",
            " [4 5 2]]\n"
          ]
        }
      ]
    },
    {
      "cell_type": "code",
      "metadata": {
        "colab": {
          "base_uri": "https://localhost:8080/"
        },
        "id": "QqfEsXkU1rkW",
        "outputId": "abb06880-37f0-4f71-9ec6-b912b4e0f49f"
      },
      "source": [
        "import numpy as np\n",
        "x=np.array([[1,2,1],[3,4,1]])\n",
        "print(x*2)"
      ],
      "execution_count": null,
      "outputs": [
        {
          "output_type": "stream",
          "name": "stdout",
          "text": [
            "[[2 4 2]\n",
            " [6 8 2]]\n"
          ]
        }
      ]
    },
    {
      "cell_type": "code",
      "metadata": {
        "id": "LbUx0zs42IP7",
        "colab": {
          "base_uri": "https://localhost:8080/"
        },
        "outputId": "bec20835-7fde-43ff-9829-dbbc93b02b65"
      },
      "source": [
        "import numpy as np\n",
        "np.random.rand(3,2)"
      ],
      "execution_count": null,
      "outputs": [
        {
          "output_type": "execute_result",
          "data": {
            "text/plain": [
              "array([[0.20800553, 0.62246027],\n",
              "       [0.21477418, 0.22242919],\n",
              "       [0.10401421, 0.25195574]])"
            ]
          },
          "metadata": {},
          "execution_count": 30
        }
      ]
    },
    {
      "cell_type": "code",
      "metadata": {
        "colab": {
          "base_uri": "https://localhost:8080/"
        },
        "id": "DXEqHWCuLRyp",
        "outputId": "da022744-17ee-4ea3-8549-0d25b87bc868"
      },
      "source": [
        "import numpy as np\n",
        "np.random.rand(10)"
      ],
      "execution_count": null,
      "outputs": [
        {
          "output_type": "execute_result",
          "data": {
            "text/plain": [
              "array([0.11079816, 0.23573377, 0.40016843, 0.77090168, 0.77727537,\n",
              "       0.86697486, 0.41680509, 0.75964332, 0.05385809, 0.12716782])"
            ]
          },
          "metadata": {},
          "execution_count": 31
        }
      ]
    },
    {
      "cell_type": "code",
      "metadata": {
        "colab": {
          "base_uri": "https://localhost:8080/"
        },
        "id": "6NVSZzvbLYQh",
        "outputId": "3c08e51c-453f-4600-f2c6-fd18e234fc1a"
      },
      "source": [
        "import random\n",
        "print (random.randint(0,9))"
      ],
      "execution_count": null,
      "outputs": [
        {
          "output_type": "stream",
          "name": "stdout",
          "text": [
            "8\n"
          ]
        }
      ]
    },
    {
      "cell_type": "markdown",
      "metadata": {
        "id": "hzae-LlSL84b"
      },
      "source": [
        "# **Pandas**"
      ]
    },
    {
      "cell_type": "markdown",
      "metadata": {
        "id": "oPwBdeP4NQAf"
      },
      "source": [
        "# **1.Creating Series**"
      ]
    },
    {
      "cell_type": "code",
      "metadata": {
        "colab": {
          "base_uri": "https://localhost:8080/"
        },
        "id": "LngRehnwMC52",
        "outputId": "4c517dfc-d365-42ce-f214-f5cf71c402f8"
      },
      "source": [
        "import pandas as pd\n",
        "s=pd.Series([1,2,3,4,5],index=['A','B','C','D','E'])\n",
        "s"
      ],
      "execution_count": null,
      "outputs": [
        {
          "output_type": "execute_result",
          "data": {
            "text/plain": [
              "A    1\n",
              "B    2\n",
              "C    3\n",
              "D    4\n",
              "E    5\n",
              "dtype: int64"
            ]
          },
          "metadata": {},
          "execution_count": 33
        }
      ]
    },
    {
      "cell_type": "markdown",
      "metadata": {
        "id": "ubWvGx80NYFz"
      },
      "source": [
        "# **2.Data Frames**"
      ]
    },
    {
      "cell_type": "code",
      "metadata": {
        "colab": {
          "base_uri": "https://localhost:8080/"
        },
        "id": "u62_zmLnNIKg",
        "outputId": "4ba1952a-135d-4990-e991-e3c9250cc631"
      },
      "source": [
        "import pandas as pd\n",
        "data={'Gen':['F','M','M'],'EiD':['E01','E02','E03'],'Age':[25,45,38]}\n",
        "\n",
        "df=pd.DataFrame(data,columns=['EiD','Age','Gen'])\n",
        "print(df)"
      ],
      "execution_count": null,
      "outputs": [
        {
          "output_type": "stream",
          "name": "stdout",
          "text": [
            "   EiD  Age Gen\n",
            "0  E01   25   F\n",
            "1  E02   45   M\n",
            "2  E03   38   M\n"
          ]
        }
      ]
    },
    {
      "cell_type": "code",
      "metadata": {
        "colab": {
          "base_uri": "https://localhost:8080/"
        },
        "id": "ZK_4BvemiaOX",
        "outputId": "b78ab8df-7d35-4049-a923-62deffc3d759"
      },
      "source": [
        "import pandas as pd\n",
        "from numpy import loadtxt\n",
        "from urllib.request import urlopen\n",
        "\n",
        "url='https://raw.githubusercontent.com/jbrownlee/datasets/master/pima-indians-diabetes.data.csv'\n",
        "\n",
        "raw_data=pd.read_csv(urlopen(url))\n",
        "raw_data.shape\n"
      ],
      "execution_count": null,
      "outputs": [
        {
          "output_type": "execute_result",
          "data": {
            "text/plain": [
              "(767, 9)"
            ]
          },
          "metadata": {},
          "execution_count": 35
        }
      ]
    },
    {
      "cell_type": "code",
      "metadata": {
        "colab": {
          "base_uri": "https://localhost:8080/",
          "height": 204
        },
        "id": "ZkJkvFoKiohd",
        "outputId": "e2071b9d-8719-4ace-d86f-48077ecd20c4"
      },
      "source": [
        "raw_data.head()"
      ],
      "execution_count": null,
      "outputs": [
        {
          "output_type": "execute_result",
          "data": {
            "text/html": [
              "<div>\n",
              "<style scoped>\n",
              "    .dataframe tbody tr th:only-of-type {\n",
              "        vertical-align: middle;\n",
              "    }\n",
              "\n",
              "    .dataframe tbody tr th {\n",
              "        vertical-align: top;\n",
              "    }\n",
              "\n",
              "    .dataframe thead th {\n",
              "        text-align: right;\n",
              "    }\n",
              "</style>\n",
              "<table border=\"1\" class=\"dataframe\">\n",
              "  <thead>\n",
              "    <tr style=\"text-align: right;\">\n",
              "      <th></th>\n",
              "      <th>6</th>\n",
              "      <th>148</th>\n",
              "      <th>72</th>\n",
              "      <th>35</th>\n",
              "      <th>0</th>\n",
              "      <th>33.6</th>\n",
              "      <th>0.627</th>\n",
              "      <th>50</th>\n",
              "      <th>1</th>\n",
              "    </tr>\n",
              "  </thead>\n",
              "  <tbody>\n",
              "    <tr>\n",
              "      <th>0</th>\n",
              "      <td>1</td>\n",
              "      <td>85</td>\n",
              "      <td>66</td>\n",
              "      <td>29</td>\n",
              "      <td>0</td>\n",
              "      <td>26.6</td>\n",
              "      <td>0.351</td>\n",
              "      <td>31</td>\n",
              "      <td>0</td>\n",
              "    </tr>\n",
              "    <tr>\n",
              "      <th>1</th>\n",
              "      <td>8</td>\n",
              "      <td>183</td>\n",
              "      <td>64</td>\n",
              "      <td>0</td>\n",
              "      <td>0</td>\n",
              "      <td>23.3</td>\n",
              "      <td>0.672</td>\n",
              "      <td>32</td>\n",
              "      <td>1</td>\n",
              "    </tr>\n",
              "    <tr>\n",
              "      <th>2</th>\n",
              "      <td>1</td>\n",
              "      <td>89</td>\n",
              "      <td>66</td>\n",
              "      <td>23</td>\n",
              "      <td>94</td>\n",
              "      <td>28.1</td>\n",
              "      <td>0.167</td>\n",
              "      <td>21</td>\n",
              "      <td>0</td>\n",
              "    </tr>\n",
              "    <tr>\n",
              "      <th>3</th>\n",
              "      <td>0</td>\n",
              "      <td>137</td>\n",
              "      <td>40</td>\n",
              "      <td>35</td>\n",
              "      <td>168</td>\n",
              "      <td>43.1</td>\n",
              "      <td>2.288</td>\n",
              "      <td>33</td>\n",
              "      <td>1</td>\n",
              "    </tr>\n",
              "    <tr>\n",
              "      <th>4</th>\n",
              "      <td>5</td>\n",
              "      <td>116</td>\n",
              "      <td>74</td>\n",
              "      <td>0</td>\n",
              "      <td>0</td>\n",
              "      <td>25.6</td>\n",
              "      <td>0.201</td>\n",
              "      <td>30</td>\n",
              "      <td>0</td>\n",
              "    </tr>\n",
              "  </tbody>\n",
              "</table>\n",
              "</div>"
            ],
            "text/plain": [
              "   6  148  72  35    0  33.6  0.627  50  1\n",
              "0  1   85  66  29    0  26.6  0.351  31  0\n",
              "1  8  183  64   0    0  23.3  0.672  32  1\n",
              "2  1   89  66  23   94  28.1  0.167  21  0\n",
              "3  0  137  40  35  168  43.1  2.288  33  1\n",
              "4  5  116  74   0    0  25.6  0.201  30  0"
            ]
          },
          "metadata": {},
          "execution_count": 36
        }
      ]
    },
    {
      "cell_type": "code",
      "metadata": {
        "colab": {
          "base_uri": "https://localhost:8080/",
          "height": 204
        },
        "id": "RxtQJW3UizNF",
        "outputId": "6eae7641-74e9-4440-cd91-9ba9fbd02031"
      },
      "source": [
        "raw_data.tail()"
      ],
      "execution_count": null,
      "outputs": [
        {
          "output_type": "execute_result",
          "data": {
            "text/html": [
              "<div>\n",
              "<style scoped>\n",
              "    .dataframe tbody tr th:only-of-type {\n",
              "        vertical-align: middle;\n",
              "    }\n",
              "\n",
              "    .dataframe tbody tr th {\n",
              "        vertical-align: top;\n",
              "    }\n",
              "\n",
              "    .dataframe thead th {\n",
              "        text-align: right;\n",
              "    }\n",
              "</style>\n",
              "<table border=\"1\" class=\"dataframe\">\n",
              "  <thead>\n",
              "    <tr style=\"text-align: right;\">\n",
              "      <th></th>\n",
              "      <th>6</th>\n",
              "      <th>148</th>\n",
              "      <th>72</th>\n",
              "      <th>35</th>\n",
              "      <th>0</th>\n",
              "      <th>33.6</th>\n",
              "      <th>0.627</th>\n",
              "      <th>50</th>\n",
              "      <th>1</th>\n",
              "    </tr>\n",
              "  </thead>\n",
              "  <tbody>\n",
              "    <tr>\n",
              "      <th>762</th>\n",
              "      <td>10</td>\n",
              "      <td>101</td>\n",
              "      <td>76</td>\n",
              "      <td>48</td>\n",
              "      <td>180</td>\n",
              "      <td>32.9</td>\n",
              "      <td>0.171</td>\n",
              "      <td>63</td>\n",
              "      <td>0</td>\n",
              "    </tr>\n",
              "    <tr>\n",
              "      <th>763</th>\n",
              "      <td>2</td>\n",
              "      <td>122</td>\n",
              "      <td>70</td>\n",
              "      <td>27</td>\n",
              "      <td>0</td>\n",
              "      <td>36.8</td>\n",
              "      <td>0.340</td>\n",
              "      <td>27</td>\n",
              "      <td>0</td>\n",
              "    </tr>\n",
              "    <tr>\n",
              "      <th>764</th>\n",
              "      <td>5</td>\n",
              "      <td>121</td>\n",
              "      <td>72</td>\n",
              "      <td>23</td>\n",
              "      <td>112</td>\n",
              "      <td>26.2</td>\n",
              "      <td>0.245</td>\n",
              "      <td>30</td>\n",
              "      <td>0</td>\n",
              "    </tr>\n",
              "    <tr>\n",
              "      <th>765</th>\n",
              "      <td>1</td>\n",
              "      <td>126</td>\n",
              "      <td>60</td>\n",
              "      <td>0</td>\n",
              "      <td>0</td>\n",
              "      <td>30.1</td>\n",
              "      <td>0.349</td>\n",
              "      <td>47</td>\n",
              "      <td>1</td>\n",
              "    </tr>\n",
              "    <tr>\n",
              "      <th>766</th>\n",
              "      <td>1</td>\n",
              "      <td>93</td>\n",
              "      <td>70</td>\n",
              "      <td>31</td>\n",
              "      <td>0</td>\n",
              "      <td>30.4</td>\n",
              "      <td>0.315</td>\n",
              "      <td>23</td>\n",
              "      <td>0</td>\n",
              "    </tr>\n",
              "  </tbody>\n",
              "</table>\n",
              "</div>"
            ],
            "text/plain": [
              "      6  148  72  35    0  33.6  0.627  50  1\n",
              "762  10  101  76  48  180  32.9  0.171  63  0\n",
              "763   2  122  70  27    0  36.8  0.340  27  0\n",
              "764   5  121  72  23  112  26.2  0.245  30  0\n",
              "765   1  126  60   0    0  30.1  0.349  47  1\n",
              "766   1   93  70  31    0  30.4  0.315  23  0"
            ]
          },
          "metadata": {},
          "execution_count": 37
        }
      ]
    },
    {
      "cell_type": "code",
      "metadata": {
        "colab": {
          "base_uri": "https://localhost:8080/",
          "height": 824
        },
        "id": "xx3Q3P2HjCE2",
        "outputId": "381cb755-d399-436b-e0f9-d21600060c26"
      },
      "source": [
        "raw_data.head(25)"
      ],
      "execution_count": null,
      "outputs": [
        {
          "output_type": "execute_result",
          "data": {
            "text/html": [
              "<div>\n",
              "<style scoped>\n",
              "    .dataframe tbody tr th:only-of-type {\n",
              "        vertical-align: middle;\n",
              "    }\n",
              "\n",
              "    .dataframe tbody tr th {\n",
              "        vertical-align: top;\n",
              "    }\n",
              "\n",
              "    .dataframe thead th {\n",
              "        text-align: right;\n",
              "    }\n",
              "</style>\n",
              "<table border=\"1\" class=\"dataframe\">\n",
              "  <thead>\n",
              "    <tr style=\"text-align: right;\">\n",
              "      <th></th>\n",
              "      <th>6</th>\n",
              "      <th>148</th>\n",
              "      <th>72</th>\n",
              "      <th>35</th>\n",
              "      <th>0</th>\n",
              "      <th>33.6</th>\n",
              "      <th>0.627</th>\n",
              "      <th>50</th>\n",
              "      <th>1</th>\n",
              "    </tr>\n",
              "  </thead>\n",
              "  <tbody>\n",
              "    <tr>\n",
              "      <th>0</th>\n",
              "      <td>1</td>\n",
              "      <td>85</td>\n",
              "      <td>66</td>\n",
              "      <td>29</td>\n",
              "      <td>0</td>\n",
              "      <td>26.6</td>\n",
              "      <td>0.351</td>\n",
              "      <td>31</td>\n",
              "      <td>0</td>\n",
              "    </tr>\n",
              "    <tr>\n",
              "      <th>1</th>\n",
              "      <td>8</td>\n",
              "      <td>183</td>\n",
              "      <td>64</td>\n",
              "      <td>0</td>\n",
              "      <td>0</td>\n",
              "      <td>23.3</td>\n",
              "      <td>0.672</td>\n",
              "      <td>32</td>\n",
              "      <td>1</td>\n",
              "    </tr>\n",
              "    <tr>\n",
              "      <th>2</th>\n",
              "      <td>1</td>\n",
              "      <td>89</td>\n",
              "      <td>66</td>\n",
              "      <td>23</td>\n",
              "      <td>94</td>\n",
              "      <td>28.1</td>\n",
              "      <td>0.167</td>\n",
              "      <td>21</td>\n",
              "      <td>0</td>\n",
              "    </tr>\n",
              "    <tr>\n",
              "      <th>3</th>\n",
              "      <td>0</td>\n",
              "      <td>137</td>\n",
              "      <td>40</td>\n",
              "      <td>35</td>\n",
              "      <td>168</td>\n",
              "      <td>43.1</td>\n",
              "      <td>2.288</td>\n",
              "      <td>33</td>\n",
              "      <td>1</td>\n",
              "    </tr>\n",
              "    <tr>\n",
              "      <th>4</th>\n",
              "      <td>5</td>\n",
              "      <td>116</td>\n",
              "      <td>74</td>\n",
              "      <td>0</td>\n",
              "      <td>0</td>\n",
              "      <td>25.6</td>\n",
              "      <td>0.201</td>\n",
              "      <td>30</td>\n",
              "      <td>0</td>\n",
              "    </tr>\n",
              "    <tr>\n",
              "      <th>5</th>\n",
              "      <td>3</td>\n",
              "      <td>78</td>\n",
              "      <td>50</td>\n",
              "      <td>32</td>\n",
              "      <td>88</td>\n",
              "      <td>31.0</td>\n",
              "      <td>0.248</td>\n",
              "      <td>26</td>\n",
              "      <td>1</td>\n",
              "    </tr>\n",
              "    <tr>\n",
              "      <th>6</th>\n",
              "      <td>10</td>\n",
              "      <td>115</td>\n",
              "      <td>0</td>\n",
              "      <td>0</td>\n",
              "      <td>0</td>\n",
              "      <td>35.3</td>\n",
              "      <td>0.134</td>\n",
              "      <td>29</td>\n",
              "      <td>0</td>\n",
              "    </tr>\n",
              "    <tr>\n",
              "      <th>7</th>\n",
              "      <td>2</td>\n",
              "      <td>197</td>\n",
              "      <td>70</td>\n",
              "      <td>45</td>\n",
              "      <td>543</td>\n",
              "      <td>30.5</td>\n",
              "      <td>0.158</td>\n",
              "      <td>53</td>\n",
              "      <td>1</td>\n",
              "    </tr>\n",
              "    <tr>\n",
              "      <th>8</th>\n",
              "      <td>8</td>\n",
              "      <td>125</td>\n",
              "      <td>96</td>\n",
              "      <td>0</td>\n",
              "      <td>0</td>\n",
              "      <td>0.0</td>\n",
              "      <td>0.232</td>\n",
              "      <td>54</td>\n",
              "      <td>1</td>\n",
              "    </tr>\n",
              "    <tr>\n",
              "      <th>9</th>\n",
              "      <td>4</td>\n",
              "      <td>110</td>\n",
              "      <td>92</td>\n",
              "      <td>0</td>\n",
              "      <td>0</td>\n",
              "      <td>37.6</td>\n",
              "      <td>0.191</td>\n",
              "      <td>30</td>\n",
              "      <td>0</td>\n",
              "    </tr>\n",
              "    <tr>\n",
              "      <th>10</th>\n",
              "      <td>10</td>\n",
              "      <td>168</td>\n",
              "      <td>74</td>\n",
              "      <td>0</td>\n",
              "      <td>0</td>\n",
              "      <td>38.0</td>\n",
              "      <td>0.537</td>\n",
              "      <td>34</td>\n",
              "      <td>1</td>\n",
              "    </tr>\n",
              "    <tr>\n",
              "      <th>11</th>\n",
              "      <td>10</td>\n",
              "      <td>139</td>\n",
              "      <td>80</td>\n",
              "      <td>0</td>\n",
              "      <td>0</td>\n",
              "      <td>27.1</td>\n",
              "      <td>1.441</td>\n",
              "      <td>57</td>\n",
              "      <td>0</td>\n",
              "    </tr>\n",
              "    <tr>\n",
              "      <th>12</th>\n",
              "      <td>1</td>\n",
              "      <td>189</td>\n",
              "      <td>60</td>\n",
              "      <td>23</td>\n",
              "      <td>846</td>\n",
              "      <td>30.1</td>\n",
              "      <td>0.398</td>\n",
              "      <td>59</td>\n",
              "      <td>1</td>\n",
              "    </tr>\n",
              "    <tr>\n",
              "      <th>13</th>\n",
              "      <td>5</td>\n",
              "      <td>166</td>\n",
              "      <td>72</td>\n",
              "      <td>19</td>\n",
              "      <td>175</td>\n",
              "      <td>25.8</td>\n",
              "      <td>0.587</td>\n",
              "      <td>51</td>\n",
              "      <td>1</td>\n",
              "    </tr>\n",
              "    <tr>\n",
              "      <th>14</th>\n",
              "      <td>7</td>\n",
              "      <td>100</td>\n",
              "      <td>0</td>\n",
              "      <td>0</td>\n",
              "      <td>0</td>\n",
              "      <td>30.0</td>\n",
              "      <td>0.484</td>\n",
              "      <td>32</td>\n",
              "      <td>1</td>\n",
              "    </tr>\n",
              "    <tr>\n",
              "      <th>15</th>\n",
              "      <td>0</td>\n",
              "      <td>118</td>\n",
              "      <td>84</td>\n",
              "      <td>47</td>\n",
              "      <td>230</td>\n",
              "      <td>45.8</td>\n",
              "      <td>0.551</td>\n",
              "      <td>31</td>\n",
              "      <td>1</td>\n",
              "    </tr>\n",
              "    <tr>\n",
              "      <th>16</th>\n",
              "      <td>7</td>\n",
              "      <td>107</td>\n",
              "      <td>74</td>\n",
              "      <td>0</td>\n",
              "      <td>0</td>\n",
              "      <td>29.6</td>\n",
              "      <td>0.254</td>\n",
              "      <td>31</td>\n",
              "      <td>1</td>\n",
              "    </tr>\n",
              "    <tr>\n",
              "      <th>17</th>\n",
              "      <td>1</td>\n",
              "      <td>103</td>\n",
              "      <td>30</td>\n",
              "      <td>38</td>\n",
              "      <td>83</td>\n",
              "      <td>43.3</td>\n",
              "      <td>0.183</td>\n",
              "      <td>33</td>\n",
              "      <td>0</td>\n",
              "    </tr>\n",
              "    <tr>\n",
              "      <th>18</th>\n",
              "      <td>1</td>\n",
              "      <td>115</td>\n",
              "      <td>70</td>\n",
              "      <td>30</td>\n",
              "      <td>96</td>\n",
              "      <td>34.6</td>\n",
              "      <td>0.529</td>\n",
              "      <td>32</td>\n",
              "      <td>1</td>\n",
              "    </tr>\n",
              "    <tr>\n",
              "      <th>19</th>\n",
              "      <td>3</td>\n",
              "      <td>126</td>\n",
              "      <td>88</td>\n",
              "      <td>41</td>\n",
              "      <td>235</td>\n",
              "      <td>39.3</td>\n",
              "      <td>0.704</td>\n",
              "      <td>27</td>\n",
              "      <td>0</td>\n",
              "    </tr>\n",
              "    <tr>\n",
              "      <th>20</th>\n",
              "      <td>8</td>\n",
              "      <td>99</td>\n",
              "      <td>84</td>\n",
              "      <td>0</td>\n",
              "      <td>0</td>\n",
              "      <td>35.4</td>\n",
              "      <td>0.388</td>\n",
              "      <td>50</td>\n",
              "      <td>0</td>\n",
              "    </tr>\n",
              "    <tr>\n",
              "      <th>21</th>\n",
              "      <td>7</td>\n",
              "      <td>196</td>\n",
              "      <td>90</td>\n",
              "      <td>0</td>\n",
              "      <td>0</td>\n",
              "      <td>39.8</td>\n",
              "      <td>0.451</td>\n",
              "      <td>41</td>\n",
              "      <td>1</td>\n",
              "    </tr>\n",
              "    <tr>\n",
              "      <th>22</th>\n",
              "      <td>9</td>\n",
              "      <td>119</td>\n",
              "      <td>80</td>\n",
              "      <td>35</td>\n",
              "      <td>0</td>\n",
              "      <td>29.0</td>\n",
              "      <td>0.263</td>\n",
              "      <td>29</td>\n",
              "      <td>1</td>\n",
              "    </tr>\n",
              "    <tr>\n",
              "      <th>23</th>\n",
              "      <td>11</td>\n",
              "      <td>143</td>\n",
              "      <td>94</td>\n",
              "      <td>33</td>\n",
              "      <td>146</td>\n",
              "      <td>36.6</td>\n",
              "      <td>0.254</td>\n",
              "      <td>51</td>\n",
              "      <td>1</td>\n",
              "    </tr>\n",
              "    <tr>\n",
              "      <th>24</th>\n",
              "      <td>10</td>\n",
              "      <td>125</td>\n",
              "      <td>70</td>\n",
              "      <td>26</td>\n",
              "      <td>115</td>\n",
              "      <td>31.1</td>\n",
              "      <td>0.205</td>\n",
              "      <td>41</td>\n",
              "      <td>1</td>\n",
              "    </tr>\n",
              "  </tbody>\n",
              "</table>\n",
              "</div>"
            ],
            "text/plain": [
              "     6  148  72  35    0  33.6  0.627  50  1\n",
              "0    1   85  66  29    0  26.6  0.351  31  0\n",
              "1    8  183  64   0    0  23.3  0.672  32  1\n",
              "2    1   89  66  23   94  28.1  0.167  21  0\n",
              "3    0  137  40  35  168  43.1  2.288  33  1\n",
              "4    5  116  74   0    0  25.6  0.201  30  0\n",
              "5    3   78  50  32   88  31.0  0.248  26  1\n",
              "6   10  115   0   0    0  35.3  0.134  29  0\n",
              "7    2  197  70  45  543  30.5  0.158  53  1\n",
              "8    8  125  96   0    0   0.0  0.232  54  1\n",
              "9    4  110  92   0    0  37.6  0.191  30  0\n",
              "10  10  168  74   0    0  38.0  0.537  34  1\n",
              "11  10  139  80   0    0  27.1  1.441  57  0\n",
              "12   1  189  60  23  846  30.1  0.398  59  1\n",
              "13   5  166  72  19  175  25.8  0.587  51  1\n",
              "14   7  100   0   0    0  30.0  0.484  32  1\n",
              "15   0  118  84  47  230  45.8  0.551  31  1\n",
              "16   7  107  74   0    0  29.6  0.254  31  1\n",
              "17   1  103  30  38   83  43.3  0.183  33  0\n",
              "18   1  115  70  30   96  34.6  0.529  32  1\n",
              "19   3  126  88  41  235  39.3  0.704  27  0\n",
              "20   8   99  84   0    0  35.4  0.388  50  0\n",
              "21   7  196  90   0    0  39.8  0.451  41  1\n",
              "22   9  119  80  35    0  29.0  0.263  29  1\n",
              "23  11  143  94  33  146  36.6  0.254  51  1\n",
              "24  10  125  70  26  115  31.1  0.205  41  1"
            ]
          },
          "metadata": {},
          "execution_count": 38
        }
      ]
    },
    {
      "cell_type": "code",
      "metadata": {
        "colab": {
          "base_uri": "https://localhost:8080/",
          "height": 297
        },
        "id": "hx9feA7pjKkA",
        "outputId": "2531356d-528c-4256-9656-04490f584287"
      },
      "source": [
        "raw_data.describe()"
      ],
      "execution_count": null,
      "outputs": [
        {
          "output_type": "execute_result",
          "data": {
            "text/html": [
              "<div>\n",
              "<style scoped>\n",
              "    .dataframe tbody tr th:only-of-type {\n",
              "        vertical-align: middle;\n",
              "    }\n",
              "\n",
              "    .dataframe tbody tr th {\n",
              "        vertical-align: top;\n",
              "    }\n",
              "\n",
              "    .dataframe thead th {\n",
              "        text-align: right;\n",
              "    }\n",
              "</style>\n",
              "<table border=\"1\" class=\"dataframe\">\n",
              "  <thead>\n",
              "    <tr style=\"text-align: right;\">\n",
              "      <th></th>\n",
              "      <th>6</th>\n",
              "      <th>148</th>\n",
              "      <th>72</th>\n",
              "      <th>35</th>\n",
              "      <th>0</th>\n",
              "      <th>33.6</th>\n",
              "      <th>0.627</th>\n",
              "      <th>50</th>\n",
              "      <th>1</th>\n",
              "    </tr>\n",
              "  </thead>\n",
              "  <tbody>\n",
              "    <tr>\n",
              "      <th>count</th>\n",
              "      <td>767.000000</td>\n",
              "      <td>767.000000</td>\n",
              "      <td>767.000000</td>\n",
              "      <td>767.000000</td>\n",
              "      <td>767.000000</td>\n",
              "      <td>767.000000</td>\n",
              "      <td>767.000000</td>\n",
              "      <td>767.000000</td>\n",
              "      <td>767.000000</td>\n",
              "    </tr>\n",
              "    <tr>\n",
              "      <th>mean</th>\n",
              "      <td>3.842243</td>\n",
              "      <td>120.859192</td>\n",
              "      <td>69.101695</td>\n",
              "      <td>20.517601</td>\n",
              "      <td>79.903520</td>\n",
              "      <td>31.990482</td>\n",
              "      <td>0.471674</td>\n",
              "      <td>33.219035</td>\n",
              "      <td>0.348110</td>\n",
              "    </tr>\n",
              "    <tr>\n",
              "      <th>std</th>\n",
              "      <td>3.370877</td>\n",
              "      <td>31.978468</td>\n",
              "      <td>19.368155</td>\n",
              "      <td>15.954059</td>\n",
              "      <td>115.283105</td>\n",
              "      <td>7.889091</td>\n",
              "      <td>0.331497</td>\n",
              "      <td>11.752296</td>\n",
              "      <td>0.476682</td>\n",
              "    </tr>\n",
              "    <tr>\n",
              "      <th>min</th>\n",
              "      <td>0.000000</td>\n",
              "      <td>0.000000</td>\n",
              "      <td>0.000000</td>\n",
              "      <td>0.000000</td>\n",
              "      <td>0.000000</td>\n",
              "      <td>0.000000</td>\n",
              "      <td>0.078000</td>\n",
              "      <td>21.000000</td>\n",
              "      <td>0.000000</td>\n",
              "    </tr>\n",
              "    <tr>\n",
              "      <th>25%</th>\n",
              "      <td>1.000000</td>\n",
              "      <td>99.000000</td>\n",
              "      <td>62.000000</td>\n",
              "      <td>0.000000</td>\n",
              "      <td>0.000000</td>\n",
              "      <td>27.300000</td>\n",
              "      <td>0.243500</td>\n",
              "      <td>24.000000</td>\n",
              "      <td>0.000000</td>\n",
              "    </tr>\n",
              "    <tr>\n",
              "      <th>50%</th>\n",
              "      <td>3.000000</td>\n",
              "      <td>117.000000</td>\n",
              "      <td>72.000000</td>\n",
              "      <td>23.000000</td>\n",
              "      <td>32.000000</td>\n",
              "      <td>32.000000</td>\n",
              "      <td>0.371000</td>\n",
              "      <td>29.000000</td>\n",
              "      <td>0.000000</td>\n",
              "    </tr>\n",
              "    <tr>\n",
              "      <th>75%</th>\n",
              "      <td>6.000000</td>\n",
              "      <td>140.000000</td>\n",
              "      <td>80.000000</td>\n",
              "      <td>32.000000</td>\n",
              "      <td>127.500000</td>\n",
              "      <td>36.600000</td>\n",
              "      <td>0.625000</td>\n",
              "      <td>41.000000</td>\n",
              "      <td>1.000000</td>\n",
              "    </tr>\n",
              "    <tr>\n",
              "      <th>max</th>\n",
              "      <td>17.000000</td>\n",
              "      <td>199.000000</td>\n",
              "      <td>122.000000</td>\n",
              "      <td>99.000000</td>\n",
              "      <td>846.000000</td>\n",
              "      <td>67.100000</td>\n",
              "      <td>2.420000</td>\n",
              "      <td>81.000000</td>\n",
              "      <td>1.000000</td>\n",
              "    </tr>\n",
              "  </tbody>\n",
              "</table>\n",
              "</div>"
            ],
            "text/plain": [
              "                6         148          72  ...       0.627          50           1\n",
              "count  767.000000  767.000000  767.000000  ...  767.000000  767.000000  767.000000\n",
              "mean     3.842243  120.859192   69.101695  ...    0.471674   33.219035    0.348110\n",
              "std      3.370877   31.978468   19.368155  ...    0.331497   11.752296    0.476682\n",
              "min      0.000000    0.000000    0.000000  ...    0.078000   21.000000    0.000000\n",
              "25%      1.000000   99.000000   62.000000  ...    0.243500   24.000000    0.000000\n",
              "50%      3.000000  117.000000   72.000000  ...    0.371000   29.000000    0.000000\n",
              "75%      6.000000  140.000000   80.000000  ...    0.625000   41.000000    1.000000\n",
              "max     17.000000  199.000000  122.000000  ...    2.420000   81.000000    1.000000\n",
              "\n",
              "[8 rows x 9 columns]"
            ]
          },
          "metadata": {},
          "execution_count": 39
        }
      ]
    },
    {
      "cell_type": "code",
      "metadata": {
        "colab": {
          "base_uri": "https://localhost:8080/",
          "height": 328
        },
        "id": "82yGPYy4jTtl",
        "outputId": "59d747bf-c039-45f4-8bf3-abe499a6ef6f"
      },
      "source": [
        "raw_data.cov()"
      ],
      "execution_count": null,
      "outputs": [
        {
          "output_type": "execute_result",
          "data": {
            "text/html": [
              "<div>\n",
              "<style scoped>\n",
              "    .dataframe tbody tr th:only-of-type {\n",
              "        vertical-align: middle;\n",
              "    }\n",
              "\n",
              "    .dataframe tbody tr th {\n",
              "        vertical-align: top;\n",
              "    }\n",
              "\n",
              "    .dataframe thead th {\n",
              "        text-align: right;\n",
              "    }\n",
              "</style>\n",
              "<table border=\"1\" class=\"dataframe\">\n",
              "  <thead>\n",
              "    <tr style=\"text-align: right;\">\n",
              "      <th></th>\n",
              "      <th>6</th>\n",
              "      <th>148</th>\n",
              "      <th>72</th>\n",
              "      <th>35</th>\n",
              "      <th>0</th>\n",
              "      <th>33.6</th>\n",
              "      <th>0.627</th>\n",
              "      <th>50</th>\n",
              "      <th>1</th>\n",
              "    </tr>\n",
              "  </thead>\n",
              "  <tbody>\n",
              "    <tr>\n",
              "      <th>6</th>\n",
              "      <td>11.362809</td>\n",
              "      <td>13.888985</td>\n",
              "      <td>9.218414</td>\n",
              "      <td>-4.436515</td>\n",
              "      <td>-28.367721</td>\n",
              "      <td>0.465859</td>\n",
              "      <td>-0.037912</td>\n",
              "      <td>21.551571</td>\n",
              "      <td>0.355250</td>\n",
              "    </tr>\n",
              "    <tr>\n",
              "      <th>148</th>\n",
              "      <td>13.888985</td>\n",
              "      <td>1022.622445</td>\n",
              "      <td>94.451675</td>\n",
              "      <td>28.764884</td>\n",
              "      <td>1225.357154</td>\n",
              "      <td>55.742783</td>\n",
              "      <td>1.451278</td>\n",
              "      <td>98.618350</td>\n",
              "      <td>7.101300</td>\n",
              "    </tr>\n",
              "    <tr>\n",
              "      <th>72</th>\n",
              "      <td>9.218414</td>\n",
              "      <td>94.451675</td>\n",
              "      <td>375.125415</td>\n",
              "      <td>64.058260</td>\n",
              "      <td>198.939328</td>\n",
              "      <td>43.054755</td>\n",
              "      <td>0.264396</td>\n",
              "      <td>54.531221</td>\n",
              "      <td>0.599018</td>\n",
              "    </tr>\n",
              "    <tr>\n",
              "      <th>35</th>\n",
              "      <td>-4.436515</td>\n",
              "      <td>28.764884</td>\n",
              "      <td>64.058260</td>\n",
              "      <td>254.532001</td>\n",
              "      <td>805.536948</td>\n",
              "      <td>49.407935</td>\n",
              "      <td>0.970472</td>\n",
              "      <td>-21.725792</td>\n",
              "      <td>0.557181</td>\n",
              "    </tr>\n",
              "    <tr>\n",
              "      <th>0</th>\n",
              "      <td>-28.367721</td>\n",
              "      <td>1225.357154</td>\n",
              "      <td>198.939328</td>\n",
              "      <td>805.536948</td>\n",
              "      <td>13290.194335</td>\n",
              "      <td>180.177540</td>\n",
              "      <td>7.092087</td>\n",
              "      <td>-55.469702</td>\n",
              "      <td>7.252951</td>\n",
              "    </tr>\n",
              "    <tr>\n",
              "      <th>33.6</th>\n",
              "      <td>0.465859</td>\n",
              "      <td>55.742783</td>\n",
              "      <td>43.054755</td>\n",
              "      <td>49.407935</td>\n",
              "      <td>180.177540</td>\n",
              "      <td>62.237755</td>\n",
              "      <td>0.367558</td>\n",
              "      <td>3.329503</td>\n",
              "      <td>1.100707</td>\n",
              "    </tr>\n",
              "    <tr>\n",
              "      <th>0.627</th>\n",
              "      <td>-0.037912</td>\n",
              "      <td>1.451278</td>\n",
              "      <td>0.264396</td>\n",
              "      <td>0.970472</td>\n",
              "      <td>7.092087</td>\n",
              "      <td>0.367558</td>\n",
              "      <td>0.109890</td>\n",
              "      <td>0.127544</td>\n",
              "      <td>0.027376</td>\n",
              "    </tr>\n",
              "    <tr>\n",
              "      <th>50</th>\n",
              "      <td>21.551571</td>\n",
              "      <td>98.618350</td>\n",
              "      <td>54.531221</td>\n",
              "      <td>-21.725792</td>\n",
              "      <td>-55.469702</td>\n",
              "      <td>3.329503</td>\n",
              "      <td>0.127544</td>\n",
              "      <td>138.116452</td>\n",
              "      <td>1.324436</td>\n",
              "    </tr>\n",
              "    <tr>\n",
              "      <th>1</th>\n",
              "      <td>0.355250</td>\n",
              "      <td>7.101300</td>\n",
              "      <td>0.599018</td>\n",
              "      <td>0.557181</td>\n",
              "      <td>7.252951</td>\n",
              "      <td>1.100707</td>\n",
              "      <td>0.027376</td>\n",
              "      <td>1.324436</td>\n",
              "      <td>0.227226</td>\n",
              "    </tr>\n",
              "  </tbody>\n",
              "</table>\n",
              "</div>"
            ],
            "text/plain": [
              "               6          148          72  ...     0.627          50         1\n",
              "6      11.362809    13.888985    9.218414  ... -0.037912   21.551571  0.355250\n",
              "148    13.888985  1022.622445   94.451675  ...  1.451278   98.618350  7.101300\n",
              "72      9.218414    94.451675  375.125415  ...  0.264396   54.531221  0.599018\n",
              "35     -4.436515    28.764884   64.058260  ...  0.970472  -21.725792  0.557181\n",
              "0     -28.367721  1225.357154  198.939328  ...  7.092087  -55.469702  7.252951\n",
              "33.6    0.465859    55.742783   43.054755  ...  0.367558    3.329503  1.100707\n",
              "0.627  -0.037912     1.451278    0.264396  ...  0.109890    0.127544  0.027376\n",
              "50     21.551571    98.618350   54.531221  ...  0.127544  138.116452  1.324436\n",
              "1       0.355250     7.101300    0.599018  ...  0.027376    1.324436  0.227226\n",
              "\n",
              "[9 rows x 9 columns]"
            ]
          },
          "metadata": {},
          "execution_count": 40
        }
      ]
    },
    {
      "cell_type": "code",
      "metadata": {
        "colab": {
          "base_uri": "https://localhost:8080/",
          "height": 328
        },
        "id": "bidjlSMyjSnS",
        "outputId": "310a5625-8160-46cb-d0fe-1cbf96089601"
      },
      "source": [
        "raw_data.corr()"
      ],
      "execution_count": null,
      "outputs": [
        {
          "output_type": "execute_result",
          "data": {
            "text/html": [
              "<div>\n",
              "<style scoped>\n",
              "    .dataframe tbody tr th:only-of-type {\n",
              "        vertical-align: middle;\n",
              "    }\n",
              "\n",
              "    .dataframe tbody tr th {\n",
              "        vertical-align: top;\n",
              "    }\n",
              "\n",
              "    .dataframe thead th {\n",
              "        text-align: right;\n",
              "    }\n",
              "</style>\n",
              "<table border=\"1\" class=\"dataframe\">\n",
              "  <thead>\n",
              "    <tr style=\"text-align: right;\">\n",
              "      <th></th>\n",
              "      <th>6</th>\n",
              "      <th>148</th>\n",
              "      <th>72</th>\n",
              "      <th>35</th>\n",
              "      <th>0</th>\n",
              "      <th>33.6</th>\n",
              "      <th>0.627</th>\n",
              "      <th>50</th>\n",
              "      <th>1</th>\n",
              "    </tr>\n",
              "  </thead>\n",
              "  <tbody>\n",
              "    <tr>\n",
              "      <th>6</th>\n",
              "      <td>1.000000</td>\n",
              "      <td>0.128846</td>\n",
              "      <td>0.141197</td>\n",
              "      <td>-0.082495</td>\n",
              "      <td>-0.072999</td>\n",
              "      <td>0.017518</td>\n",
              "      <td>-0.033927</td>\n",
              "      <td>0.544018</td>\n",
              "      <td>0.221087</td>\n",
              "    </tr>\n",
              "    <tr>\n",
              "      <th>148</th>\n",
              "      <td>0.128846</td>\n",
              "      <td>1.000000</td>\n",
              "      <td>0.152498</td>\n",
              "      <td>0.056381</td>\n",
              "      <td>0.332383</td>\n",
              "      <td>0.220955</td>\n",
              "      <td>0.136903</td>\n",
              "      <td>0.262408</td>\n",
              "      <td>0.465856</td>\n",
              "    </tr>\n",
              "    <tr>\n",
              "      <th>72</th>\n",
              "      <td>0.141197</td>\n",
              "      <td>0.152498</td>\n",
              "      <td>1.000000</td>\n",
              "      <td>0.207308</td>\n",
              "      <td>0.089098</td>\n",
              "      <td>0.281777</td>\n",
              "      <td>0.041180</td>\n",
              "      <td>0.239571</td>\n",
              "      <td>0.064882</td>\n",
              "    </tr>\n",
              "    <tr>\n",
              "      <th>35</th>\n",
              "      <td>-0.082495</td>\n",
              "      <td>0.056381</td>\n",
              "      <td>0.207308</td>\n",
              "      <td>1.000000</td>\n",
              "      <td>0.437974</td>\n",
              "      <td>0.392553</td>\n",
              "      <td>0.183498</td>\n",
              "      <td>-0.115873</td>\n",
              "      <td>0.073265</td>\n",
              "    </tr>\n",
              "    <tr>\n",
              "      <th>0</th>\n",
              "      <td>-0.072999</td>\n",
              "      <td>0.332383</td>\n",
              "      <td>0.089098</td>\n",
              "      <td>0.437974</td>\n",
              "      <td>1.000000</td>\n",
              "      <td>0.198111</td>\n",
              "      <td>0.185579</td>\n",
              "      <td>-0.040942</td>\n",
              "      <td>0.131984</td>\n",
              "    </tr>\n",
              "    <tr>\n",
              "      <th>33.6</th>\n",
              "      <td>0.017518</td>\n",
              "      <td>0.220955</td>\n",
              "      <td>0.281777</td>\n",
              "      <td>0.392553</td>\n",
              "      <td>0.198111</td>\n",
              "      <td>1.000000</td>\n",
              "      <td>0.140546</td>\n",
              "      <td>0.035911</td>\n",
              "      <td>0.292695</td>\n",
              "    </tr>\n",
              "    <tr>\n",
              "      <th>0.627</th>\n",
              "      <td>-0.033927</td>\n",
              "      <td>0.136903</td>\n",
              "      <td>0.041180</td>\n",
              "      <td>0.183498</td>\n",
              "      <td>0.185579</td>\n",
              "      <td>0.140546</td>\n",
              "      <td>1.000000</td>\n",
              "      <td>0.032738</td>\n",
              "      <td>0.173245</td>\n",
              "    </tr>\n",
              "    <tr>\n",
              "      <th>50</th>\n",
              "      <td>0.544018</td>\n",
              "      <td>0.262408</td>\n",
              "      <td>0.239571</td>\n",
              "      <td>-0.115873</td>\n",
              "      <td>-0.040942</td>\n",
              "      <td>0.035911</td>\n",
              "      <td>0.032738</td>\n",
              "      <td>1.000000</td>\n",
              "      <td>0.236417</td>\n",
              "    </tr>\n",
              "    <tr>\n",
              "      <th>1</th>\n",
              "      <td>0.221087</td>\n",
              "      <td>0.465856</td>\n",
              "      <td>0.064882</td>\n",
              "      <td>0.073265</td>\n",
              "      <td>0.131984</td>\n",
              "      <td>0.292695</td>\n",
              "      <td>0.173245</td>\n",
              "      <td>0.236417</td>\n",
              "      <td>1.000000</td>\n",
              "    </tr>\n",
              "  </tbody>\n",
              "</table>\n",
              "</div>"
            ],
            "text/plain": [
              "              6       148        72  ...     0.627        50         1\n",
              "6      1.000000  0.128846  0.141197  ... -0.033927  0.544018  0.221087\n",
              "148    0.128846  1.000000  0.152498  ...  0.136903  0.262408  0.465856\n",
              "72     0.141197  0.152498  1.000000  ...  0.041180  0.239571  0.064882\n",
              "35    -0.082495  0.056381  0.207308  ...  0.183498 -0.115873  0.073265\n",
              "0     -0.072999  0.332383  0.089098  ...  0.185579 -0.040942  0.131984\n",
              "33.6   0.017518  0.220955  0.281777  ...  0.140546  0.035911  0.292695\n",
              "0.627 -0.033927  0.136903  0.041180  ...  1.000000  0.032738  0.173245\n",
              "50     0.544018  0.262408  0.239571  ...  0.032738  1.000000  0.236417\n",
              "1      0.221087  0.465856  0.064882  ...  0.173245  0.236417  1.000000\n",
              "\n",
              "[9 rows x 9 columns]"
            ]
          },
          "metadata": {},
          "execution_count": 41
        }
      ]
    },
    {
      "cell_type": "code",
      "metadata": {
        "colab": {
          "base_uri": "https://localhost:8080/"
        },
        "id": "o0N-9l9KjtT3",
        "outputId": "4a7a0df4-00c9-435b-d0a5-455fbae263f6"
      },
      "source": [
        "from sklearn.datasets import load_iris\n",
        "import numpy as np\n",
        "iris=load_iris()\n",
        "iris"
      ],
      "execution_count": null,
      "outputs": [
        {
          "output_type": "execute_result",
          "data": {
            "text/plain": [
              "{'DESCR': '.. _iris_dataset:\\n\\nIris plants dataset\\n--------------------\\n\\n**Data Set Characteristics:**\\n\\n    :Number of Instances: 150 (50 in each of three classes)\\n    :Number of Attributes: 4 numeric, predictive attributes and the class\\n    :Attribute Information:\\n        - sepal length in cm\\n        - sepal width in cm\\n        - petal length in cm\\n        - petal width in cm\\n        - class:\\n                - Iris-Setosa\\n                - Iris-Versicolour\\n                - Iris-Virginica\\n                \\n    :Summary Statistics:\\n\\n    ============== ==== ==== ======= ===== ====================\\n                    Min  Max   Mean    SD   Class Correlation\\n    ============== ==== ==== ======= ===== ====================\\n    sepal length:   4.3  7.9   5.84   0.83    0.7826\\n    sepal width:    2.0  4.4   3.05   0.43   -0.4194\\n    petal length:   1.0  6.9   3.76   1.76    0.9490  (high!)\\n    petal width:    0.1  2.5   1.20   0.76    0.9565  (high!)\\n    ============== ==== ==== ======= ===== ====================\\n\\n    :Missing Attribute Values: None\\n    :Class Distribution: 33.3% for each of 3 classes.\\n    :Creator: R.A. Fisher\\n    :Donor: Michael Marshall (MARSHALL%PLU@io.arc.nasa.gov)\\n    :Date: July, 1988\\n\\nThe famous Iris database, first used by Sir R.A. Fisher. The dataset is taken\\nfrom Fisher\\'s paper. Note that it\\'s the same as in R, but not as in the UCI\\nMachine Learning Repository, which has two wrong data points.\\n\\nThis is perhaps the best known database to be found in the\\npattern recognition literature.  Fisher\\'s paper is a classic in the field and\\nis referenced frequently to this day.  (See Duda & Hart, for example.)  The\\ndata set contains 3 classes of 50 instances each, where each class refers to a\\ntype of iris plant.  One class is linearly separable from the other 2; the\\nlatter are NOT linearly separable from each other.\\n\\n.. topic:: References\\n\\n   - Fisher, R.A. \"The use of multiple measurements in taxonomic problems\"\\n     Annual Eugenics, 7, Part II, 179-188 (1936); also in \"Contributions to\\n     Mathematical Statistics\" (John Wiley, NY, 1950).\\n   - Duda, R.O., & Hart, P.E. (1973) Pattern Classification and Scene Analysis.\\n     (Q327.D83) John Wiley & Sons.  ISBN 0-471-22361-1.  See page 218.\\n   - Dasarathy, B.V. (1980) \"Nosing Around the Neighborhood: A New System\\n     Structure and Classification Rule for Recognition in Partially Exposed\\n     Environments\".  IEEE Transactions on Pattern Analysis and Machine\\n     Intelligence, Vol. PAMI-2, No. 1, 67-71.\\n   - Gates, G.W. (1972) \"The Reduced Nearest Neighbor Rule\".  IEEE Transactions\\n     on Information Theory, May 1972, 431-433.\\n   - See also: 1988 MLC Proceedings, 54-64.  Cheeseman et al\"s AUTOCLASS II\\n     conceptual clustering system finds 3 classes in the data.\\n   - Many, many more ...',\n",
              " 'data': array([[5.1, 3.5, 1.4, 0.2],\n",
              "        [4.9, 3. , 1.4, 0.2],\n",
              "        [4.7, 3.2, 1.3, 0.2],\n",
              "        [4.6, 3.1, 1.5, 0.2],\n",
              "        [5. , 3.6, 1.4, 0.2],\n",
              "        [5.4, 3.9, 1.7, 0.4],\n",
              "        [4.6, 3.4, 1.4, 0.3],\n",
              "        [5. , 3.4, 1.5, 0.2],\n",
              "        [4.4, 2.9, 1.4, 0.2],\n",
              "        [4.9, 3.1, 1.5, 0.1],\n",
              "        [5.4, 3.7, 1.5, 0.2],\n",
              "        [4.8, 3.4, 1.6, 0.2],\n",
              "        [4.8, 3. , 1.4, 0.1],\n",
              "        [4.3, 3. , 1.1, 0.1],\n",
              "        [5.8, 4. , 1.2, 0.2],\n",
              "        [5.7, 4.4, 1.5, 0.4],\n",
              "        [5.4, 3.9, 1.3, 0.4],\n",
              "        [5.1, 3.5, 1.4, 0.3],\n",
              "        [5.7, 3.8, 1.7, 0.3],\n",
              "        [5.1, 3.8, 1.5, 0.3],\n",
              "        [5.4, 3.4, 1.7, 0.2],\n",
              "        [5.1, 3.7, 1.5, 0.4],\n",
              "        [4.6, 3.6, 1. , 0.2],\n",
              "        [5.1, 3.3, 1.7, 0.5],\n",
              "        [4.8, 3.4, 1.9, 0.2],\n",
              "        [5. , 3. , 1.6, 0.2],\n",
              "        [5. , 3.4, 1.6, 0.4],\n",
              "        [5.2, 3.5, 1.5, 0.2],\n",
              "        [5.2, 3.4, 1.4, 0.2],\n",
              "        [4.7, 3.2, 1.6, 0.2],\n",
              "        [4.8, 3.1, 1.6, 0.2],\n",
              "        [5.4, 3.4, 1.5, 0.4],\n",
              "        [5.2, 4.1, 1.5, 0.1],\n",
              "        [5.5, 4.2, 1.4, 0.2],\n",
              "        [4.9, 3.1, 1.5, 0.2],\n",
              "        [5. , 3.2, 1.2, 0.2],\n",
              "        [5.5, 3.5, 1.3, 0.2],\n",
              "        [4.9, 3.6, 1.4, 0.1],\n",
              "        [4.4, 3. , 1.3, 0.2],\n",
              "        [5.1, 3.4, 1.5, 0.2],\n",
              "        [5. , 3.5, 1.3, 0.3],\n",
              "        [4.5, 2.3, 1.3, 0.3],\n",
              "        [4.4, 3.2, 1.3, 0.2],\n",
              "        [5. , 3.5, 1.6, 0.6],\n",
              "        [5.1, 3.8, 1.9, 0.4],\n",
              "        [4.8, 3. , 1.4, 0.3],\n",
              "        [5.1, 3.8, 1.6, 0.2],\n",
              "        [4.6, 3.2, 1.4, 0.2],\n",
              "        [5.3, 3.7, 1.5, 0.2],\n",
              "        [5. , 3.3, 1.4, 0.2],\n",
              "        [7. , 3.2, 4.7, 1.4],\n",
              "        [6.4, 3.2, 4.5, 1.5],\n",
              "        [6.9, 3.1, 4.9, 1.5],\n",
              "        [5.5, 2.3, 4. , 1.3],\n",
              "        [6.5, 2.8, 4.6, 1.5],\n",
              "        [5.7, 2.8, 4.5, 1.3],\n",
              "        [6.3, 3.3, 4.7, 1.6],\n",
              "        [4.9, 2.4, 3.3, 1. ],\n",
              "        [6.6, 2.9, 4.6, 1.3],\n",
              "        [5.2, 2.7, 3.9, 1.4],\n",
              "        [5. , 2. , 3.5, 1. ],\n",
              "        [5.9, 3. , 4.2, 1.5],\n",
              "        [6. , 2.2, 4. , 1. ],\n",
              "        [6.1, 2.9, 4.7, 1.4],\n",
              "        [5.6, 2.9, 3.6, 1.3],\n",
              "        [6.7, 3.1, 4.4, 1.4],\n",
              "        [5.6, 3. , 4.5, 1.5],\n",
              "        [5.8, 2.7, 4.1, 1. ],\n",
              "        [6.2, 2.2, 4.5, 1.5],\n",
              "        [5.6, 2.5, 3.9, 1.1],\n",
              "        [5.9, 3.2, 4.8, 1.8],\n",
              "        [6.1, 2.8, 4. , 1.3],\n",
              "        [6.3, 2.5, 4.9, 1.5],\n",
              "        [6.1, 2.8, 4.7, 1.2],\n",
              "        [6.4, 2.9, 4.3, 1.3],\n",
              "        [6.6, 3. , 4.4, 1.4],\n",
              "        [6.8, 2.8, 4.8, 1.4],\n",
              "        [6.7, 3. , 5. , 1.7],\n",
              "        [6. , 2.9, 4.5, 1.5],\n",
              "        [5.7, 2.6, 3.5, 1. ],\n",
              "        [5.5, 2.4, 3.8, 1.1],\n",
              "        [5.5, 2.4, 3.7, 1. ],\n",
              "        [5.8, 2.7, 3.9, 1.2],\n",
              "        [6. , 2.7, 5.1, 1.6],\n",
              "        [5.4, 3. , 4.5, 1.5],\n",
              "        [6. , 3.4, 4.5, 1.6],\n",
              "        [6.7, 3.1, 4.7, 1.5],\n",
              "        [6.3, 2.3, 4.4, 1.3],\n",
              "        [5.6, 3. , 4.1, 1.3],\n",
              "        [5.5, 2.5, 4. , 1.3],\n",
              "        [5.5, 2.6, 4.4, 1.2],\n",
              "        [6.1, 3. , 4.6, 1.4],\n",
              "        [5.8, 2.6, 4. , 1.2],\n",
              "        [5. , 2.3, 3.3, 1. ],\n",
              "        [5.6, 2.7, 4.2, 1.3],\n",
              "        [5.7, 3. , 4.2, 1.2],\n",
              "        [5.7, 2.9, 4.2, 1.3],\n",
              "        [6.2, 2.9, 4.3, 1.3],\n",
              "        [5.1, 2.5, 3. , 1.1],\n",
              "        [5.7, 2.8, 4.1, 1.3],\n",
              "        [6.3, 3.3, 6. , 2.5],\n",
              "        [5.8, 2.7, 5.1, 1.9],\n",
              "        [7.1, 3. , 5.9, 2.1],\n",
              "        [6.3, 2.9, 5.6, 1.8],\n",
              "        [6.5, 3. , 5.8, 2.2],\n",
              "        [7.6, 3. , 6.6, 2.1],\n",
              "        [4.9, 2.5, 4.5, 1.7],\n",
              "        [7.3, 2.9, 6.3, 1.8],\n",
              "        [6.7, 2.5, 5.8, 1.8],\n",
              "        [7.2, 3.6, 6.1, 2.5],\n",
              "        [6.5, 3.2, 5.1, 2. ],\n",
              "        [6.4, 2.7, 5.3, 1.9],\n",
              "        [6.8, 3. , 5.5, 2.1],\n",
              "        [5.7, 2.5, 5. , 2. ],\n",
              "        [5.8, 2.8, 5.1, 2.4],\n",
              "        [6.4, 3.2, 5.3, 2.3],\n",
              "        [6.5, 3. , 5.5, 1.8],\n",
              "        [7.7, 3.8, 6.7, 2.2],\n",
              "        [7.7, 2.6, 6.9, 2.3],\n",
              "        [6. , 2.2, 5. , 1.5],\n",
              "        [6.9, 3.2, 5.7, 2.3],\n",
              "        [5.6, 2.8, 4.9, 2. ],\n",
              "        [7.7, 2.8, 6.7, 2. ],\n",
              "        [6.3, 2.7, 4.9, 1.8],\n",
              "        [6.7, 3.3, 5.7, 2.1],\n",
              "        [7.2, 3.2, 6. , 1.8],\n",
              "        [6.2, 2.8, 4.8, 1.8],\n",
              "        [6.1, 3. , 4.9, 1.8],\n",
              "        [6.4, 2.8, 5.6, 2.1],\n",
              "        [7.2, 3. , 5.8, 1.6],\n",
              "        [7.4, 2.8, 6.1, 1.9],\n",
              "        [7.9, 3.8, 6.4, 2. ],\n",
              "        [6.4, 2.8, 5.6, 2.2],\n",
              "        [6.3, 2.8, 5.1, 1.5],\n",
              "        [6.1, 2.6, 5.6, 1.4],\n",
              "        [7.7, 3. , 6.1, 2.3],\n",
              "        [6.3, 3.4, 5.6, 2.4],\n",
              "        [6.4, 3.1, 5.5, 1.8],\n",
              "        [6. , 3. , 4.8, 1.8],\n",
              "        [6.9, 3.1, 5.4, 2.1],\n",
              "        [6.7, 3.1, 5.6, 2.4],\n",
              "        [6.9, 3.1, 5.1, 2.3],\n",
              "        [5.8, 2.7, 5.1, 1.9],\n",
              "        [6.8, 3.2, 5.9, 2.3],\n",
              "        [6.7, 3.3, 5.7, 2.5],\n",
              "        [6.7, 3. , 5.2, 2.3],\n",
              "        [6.3, 2.5, 5. , 1.9],\n",
              "        [6.5, 3. , 5.2, 2. ],\n",
              "        [6.2, 3.4, 5.4, 2.3],\n",
              "        [5.9, 3. , 5.1, 1.8]]),\n",
              " 'feature_names': ['sepal length (cm)',\n",
              "  'sepal width (cm)',\n",
              "  'petal length (cm)',\n",
              "  'petal width (cm)'],\n",
              " 'filename': '/usr/local/lib/python3.7/dist-packages/sklearn/datasets/data/iris.csv',\n",
              " 'target': array([0, 0, 0, 0, 0, 0, 0, 0, 0, 0, 0, 0, 0, 0, 0, 0, 0, 0, 0, 0, 0, 0,\n",
              "        0, 0, 0, 0, 0, 0, 0, 0, 0, 0, 0, 0, 0, 0, 0, 0, 0, 0, 0, 0, 0, 0,\n",
              "        0, 0, 0, 0, 0, 0, 1, 1, 1, 1, 1, 1, 1, 1, 1, 1, 1, 1, 1, 1, 1, 1,\n",
              "        1, 1, 1, 1, 1, 1, 1, 1, 1, 1, 1, 1, 1, 1, 1, 1, 1, 1, 1, 1, 1, 1,\n",
              "        1, 1, 1, 1, 1, 1, 1, 1, 1, 1, 1, 1, 2, 2, 2, 2, 2, 2, 2, 2, 2, 2,\n",
              "        2, 2, 2, 2, 2, 2, 2, 2, 2, 2, 2, 2, 2, 2, 2, 2, 2, 2, 2, 2, 2, 2,\n",
              "        2, 2, 2, 2, 2, 2, 2, 2, 2, 2, 2, 2, 2, 2, 2, 2, 2, 2]),\n",
              " 'target_names': array(['setosa', 'versicolor', 'virginica'], dtype='<U10')}"
            ]
          },
          "metadata": {},
          "execution_count": 42
        }
      ]
    },
    {
      "cell_type": "code",
      "metadata": {
        "colab": {
          "base_uri": "https://localhost:8080/",
          "height": 419
        },
        "id": "jFmVn_lgkWwU",
        "outputId": "d5ab74a9-3ea7-41e3-a40c-2498ea468600"
      },
      "source": [
        "X=pd.DataFrame(iris.data)\n",
        "X"
      ],
      "execution_count": null,
      "outputs": [
        {
          "output_type": "execute_result",
          "data": {
            "text/html": [
              "<div>\n",
              "<style scoped>\n",
              "    .dataframe tbody tr th:only-of-type {\n",
              "        vertical-align: middle;\n",
              "    }\n",
              "\n",
              "    .dataframe tbody tr th {\n",
              "        vertical-align: top;\n",
              "    }\n",
              "\n",
              "    .dataframe thead th {\n",
              "        text-align: right;\n",
              "    }\n",
              "</style>\n",
              "<table border=\"1\" class=\"dataframe\">\n",
              "  <thead>\n",
              "    <tr style=\"text-align: right;\">\n",
              "      <th></th>\n",
              "      <th>0</th>\n",
              "      <th>1</th>\n",
              "      <th>2</th>\n",
              "      <th>3</th>\n",
              "    </tr>\n",
              "  </thead>\n",
              "  <tbody>\n",
              "    <tr>\n",
              "      <th>0</th>\n",
              "      <td>5.1</td>\n",
              "      <td>3.5</td>\n",
              "      <td>1.4</td>\n",
              "      <td>0.2</td>\n",
              "    </tr>\n",
              "    <tr>\n",
              "      <th>1</th>\n",
              "      <td>4.9</td>\n",
              "      <td>3.0</td>\n",
              "      <td>1.4</td>\n",
              "      <td>0.2</td>\n",
              "    </tr>\n",
              "    <tr>\n",
              "      <th>2</th>\n",
              "      <td>4.7</td>\n",
              "      <td>3.2</td>\n",
              "      <td>1.3</td>\n",
              "      <td>0.2</td>\n",
              "    </tr>\n",
              "    <tr>\n",
              "      <th>3</th>\n",
              "      <td>4.6</td>\n",
              "      <td>3.1</td>\n",
              "      <td>1.5</td>\n",
              "      <td>0.2</td>\n",
              "    </tr>\n",
              "    <tr>\n",
              "      <th>4</th>\n",
              "      <td>5.0</td>\n",
              "      <td>3.6</td>\n",
              "      <td>1.4</td>\n",
              "      <td>0.2</td>\n",
              "    </tr>\n",
              "    <tr>\n",
              "      <th>...</th>\n",
              "      <td>...</td>\n",
              "      <td>...</td>\n",
              "      <td>...</td>\n",
              "      <td>...</td>\n",
              "    </tr>\n",
              "    <tr>\n",
              "      <th>145</th>\n",
              "      <td>6.7</td>\n",
              "      <td>3.0</td>\n",
              "      <td>5.2</td>\n",
              "      <td>2.3</td>\n",
              "    </tr>\n",
              "    <tr>\n",
              "      <th>146</th>\n",
              "      <td>6.3</td>\n",
              "      <td>2.5</td>\n",
              "      <td>5.0</td>\n",
              "      <td>1.9</td>\n",
              "    </tr>\n",
              "    <tr>\n",
              "      <th>147</th>\n",
              "      <td>6.5</td>\n",
              "      <td>3.0</td>\n",
              "      <td>5.2</td>\n",
              "      <td>2.0</td>\n",
              "    </tr>\n",
              "    <tr>\n",
              "      <th>148</th>\n",
              "      <td>6.2</td>\n",
              "      <td>3.4</td>\n",
              "      <td>5.4</td>\n",
              "      <td>2.3</td>\n",
              "    </tr>\n",
              "    <tr>\n",
              "      <th>149</th>\n",
              "      <td>5.9</td>\n",
              "      <td>3.0</td>\n",
              "      <td>5.1</td>\n",
              "      <td>1.8</td>\n",
              "    </tr>\n",
              "  </tbody>\n",
              "</table>\n",
              "<p>150 rows × 4 columns</p>\n",
              "</div>"
            ],
            "text/plain": [
              "       0    1    2    3\n",
              "0    5.1  3.5  1.4  0.2\n",
              "1    4.9  3.0  1.4  0.2\n",
              "2    4.7  3.2  1.3  0.2\n",
              "3    4.6  3.1  1.5  0.2\n",
              "4    5.0  3.6  1.4  0.2\n",
              "..   ...  ...  ...  ...\n",
              "145  6.7  3.0  5.2  2.3\n",
              "146  6.3  2.5  5.0  1.9\n",
              "147  6.5  3.0  5.2  2.0\n",
              "148  6.2  3.4  5.4  2.3\n",
              "149  5.9  3.0  5.1  1.8\n",
              "\n",
              "[150 rows x 4 columns]"
            ]
          },
          "metadata": {},
          "execution_count": 43
        }
      ]
    },
    {
      "cell_type": "code",
      "metadata": {
        "colab": {
          "base_uri": "https://localhost:8080/",
          "height": 204
        },
        "id": "uVz_GFq1kyxp",
        "outputId": "6f5da637-d348-4aa5-c33e-8c358c3fc694"
      },
      "source": [
        "X.shape\n",
        "(150,4)\n",
        "X.columns=['Sepal_length','Sepal_width','petal_length','petal_width']\n",
        "X.head()"
      ],
      "execution_count": null,
      "outputs": [
        {
          "output_type": "execute_result",
          "data": {
            "text/html": [
              "<div>\n",
              "<style scoped>\n",
              "    .dataframe tbody tr th:only-of-type {\n",
              "        vertical-align: middle;\n",
              "    }\n",
              "\n",
              "    .dataframe tbody tr th {\n",
              "        vertical-align: top;\n",
              "    }\n",
              "\n",
              "    .dataframe thead th {\n",
              "        text-align: right;\n",
              "    }\n",
              "</style>\n",
              "<table border=\"1\" class=\"dataframe\">\n",
              "  <thead>\n",
              "    <tr style=\"text-align: right;\">\n",
              "      <th></th>\n",
              "      <th>Sepal_length</th>\n",
              "      <th>Sepal_width</th>\n",
              "      <th>petal_length</th>\n",
              "      <th>petal_width</th>\n",
              "    </tr>\n",
              "  </thead>\n",
              "  <tbody>\n",
              "    <tr>\n",
              "      <th>0</th>\n",
              "      <td>5.1</td>\n",
              "      <td>3.5</td>\n",
              "      <td>1.4</td>\n",
              "      <td>0.2</td>\n",
              "    </tr>\n",
              "    <tr>\n",
              "      <th>1</th>\n",
              "      <td>4.9</td>\n",
              "      <td>3.0</td>\n",
              "      <td>1.4</td>\n",
              "      <td>0.2</td>\n",
              "    </tr>\n",
              "    <tr>\n",
              "      <th>2</th>\n",
              "      <td>4.7</td>\n",
              "      <td>3.2</td>\n",
              "      <td>1.3</td>\n",
              "      <td>0.2</td>\n",
              "    </tr>\n",
              "    <tr>\n",
              "      <th>3</th>\n",
              "      <td>4.6</td>\n",
              "      <td>3.1</td>\n",
              "      <td>1.5</td>\n",
              "      <td>0.2</td>\n",
              "    </tr>\n",
              "    <tr>\n",
              "      <th>4</th>\n",
              "      <td>5.0</td>\n",
              "      <td>3.6</td>\n",
              "      <td>1.4</td>\n",
              "      <td>0.2</td>\n",
              "    </tr>\n",
              "  </tbody>\n",
              "</table>\n",
              "</div>"
            ],
            "text/plain": [
              "   Sepal_length  Sepal_width  petal_length  petal_width\n",
              "0           5.1          3.5           1.4          0.2\n",
              "1           4.9          3.0           1.4          0.2\n",
              "2           4.7          3.2           1.3          0.2\n",
              "3           4.6          3.1           1.5          0.2\n",
              "4           5.0          3.6           1.4          0.2"
            ]
          },
          "metadata": {},
          "execution_count": 44
        }
      ]
    },
    {
      "cell_type": "code",
      "metadata": {
        "colab": {
          "base_uri": "https://localhost:8080/",
          "height": 204
        },
        "id": "9iTcrtR6lc-J",
        "outputId": "f31111df-d023-4736-cea0-e639f55e153a"
      },
      "source": [
        "X.tail()"
      ],
      "execution_count": null,
      "outputs": [
        {
          "output_type": "execute_result",
          "data": {
            "text/html": [
              "<div>\n",
              "<style scoped>\n",
              "    .dataframe tbody tr th:only-of-type {\n",
              "        vertical-align: middle;\n",
              "    }\n",
              "\n",
              "    .dataframe tbody tr th {\n",
              "        vertical-align: top;\n",
              "    }\n",
              "\n",
              "    .dataframe thead th {\n",
              "        text-align: right;\n",
              "    }\n",
              "</style>\n",
              "<table border=\"1\" class=\"dataframe\">\n",
              "  <thead>\n",
              "    <tr style=\"text-align: right;\">\n",
              "      <th></th>\n",
              "      <th>Sepal_length</th>\n",
              "      <th>Sepal_width</th>\n",
              "      <th>petal_length</th>\n",
              "      <th>petal_width</th>\n",
              "    </tr>\n",
              "  </thead>\n",
              "  <tbody>\n",
              "    <tr>\n",
              "      <th>145</th>\n",
              "      <td>6.7</td>\n",
              "      <td>3.0</td>\n",
              "      <td>5.2</td>\n",
              "      <td>2.3</td>\n",
              "    </tr>\n",
              "    <tr>\n",
              "      <th>146</th>\n",
              "      <td>6.3</td>\n",
              "      <td>2.5</td>\n",
              "      <td>5.0</td>\n",
              "      <td>1.9</td>\n",
              "    </tr>\n",
              "    <tr>\n",
              "      <th>147</th>\n",
              "      <td>6.5</td>\n",
              "      <td>3.0</td>\n",
              "      <td>5.2</td>\n",
              "      <td>2.0</td>\n",
              "    </tr>\n",
              "    <tr>\n",
              "      <th>148</th>\n",
              "      <td>6.2</td>\n",
              "      <td>3.4</td>\n",
              "      <td>5.4</td>\n",
              "      <td>2.3</td>\n",
              "    </tr>\n",
              "    <tr>\n",
              "      <th>149</th>\n",
              "      <td>5.9</td>\n",
              "      <td>3.0</td>\n",
              "      <td>5.1</td>\n",
              "      <td>1.8</td>\n",
              "    </tr>\n",
              "  </tbody>\n",
              "</table>\n",
              "</div>"
            ],
            "text/plain": [
              "     Sepal_length  Sepal_width  petal_length  petal_width\n",
              "145           6.7          3.0           5.2          2.3\n",
              "146           6.3          2.5           5.0          1.9\n",
              "147           6.5          3.0           5.2          2.0\n",
              "148           6.2          3.4           5.4          2.3\n",
              "149           5.9          3.0           5.1          1.8"
            ]
          },
          "metadata": {},
          "execution_count": 45
        }
      ]
    },
    {
      "cell_type": "code",
      "metadata": {
        "colab": {
          "base_uri": "https://localhost:8080/",
          "height": 297
        },
        "id": "XSuAcp56lga0",
        "outputId": "b63b79bb-ae4a-4c91-922d-c2174dc00606"
      },
      "source": [
        "X.describe()"
      ],
      "execution_count": null,
      "outputs": [
        {
          "output_type": "execute_result",
          "data": {
            "text/html": [
              "<div>\n",
              "<style scoped>\n",
              "    .dataframe tbody tr th:only-of-type {\n",
              "        vertical-align: middle;\n",
              "    }\n",
              "\n",
              "    .dataframe tbody tr th {\n",
              "        vertical-align: top;\n",
              "    }\n",
              "\n",
              "    .dataframe thead th {\n",
              "        text-align: right;\n",
              "    }\n",
              "</style>\n",
              "<table border=\"1\" class=\"dataframe\">\n",
              "  <thead>\n",
              "    <tr style=\"text-align: right;\">\n",
              "      <th></th>\n",
              "      <th>Sepal_length</th>\n",
              "      <th>Sepal_width</th>\n",
              "      <th>petal_length</th>\n",
              "      <th>petal_width</th>\n",
              "    </tr>\n",
              "  </thead>\n",
              "  <tbody>\n",
              "    <tr>\n",
              "      <th>count</th>\n",
              "      <td>150.000000</td>\n",
              "      <td>150.000000</td>\n",
              "      <td>150.000000</td>\n",
              "      <td>150.000000</td>\n",
              "    </tr>\n",
              "    <tr>\n",
              "      <th>mean</th>\n",
              "      <td>5.843333</td>\n",
              "      <td>3.057333</td>\n",
              "      <td>3.758000</td>\n",
              "      <td>1.199333</td>\n",
              "    </tr>\n",
              "    <tr>\n",
              "      <th>std</th>\n",
              "      <td>0.828066</td>\n",
              "      <td>0.435866</td>\n",
              "      <td>1.765298</td>\n",
              "      <td>0.762238</td>\n",
              "    </tr>\n",
              "    <tr>\n",
              "      <th>min</th>\n",
              "      <td>4.300000</td>\n",
              "      <td>2.000000</td>\n",
              "      <td>1.000000</td>\n",
              "      <td>0.100000</td>\n",
              "    </tr>\n",
              "    <tr>\n",
              "      <th>25%</th>\n",
              "      <td>5.100000</td>\n",
              "      <td>2.800000</td>\n",
              "      <td>1.600000</td>\n",
              "      <td>0.300000</td>\n",
              "    </tr>\n",
              "    <tr>\n",
              "      <th>50%</th>\n",
              "      <td>5.800000</td>\n",
              "      <td>3.000000</td>\n",
              "      <td>4.350000</td>\n",
              "      <td>1.300000</td>\n",
              "    </tr>\n",
              "    <tr>\n",
              "      <th>75%</th>\n",
              "      <td>6.400000</td>\n",
              "      <td>3.300000</td>\n",
              "      <td>5.100000</td>\n",
              "      <td>1.800000</td>\n",
              "    </tr>\n",
              "    <tr>\n",
              "      <th>max</th>\n",
              "      <td>7.900000</td>\n",
              "      <td>4.400000</td>\n",
              "      <td>6.900000</td>\n",
              "      <td>2.500000</td>\n",
              "    </tr>\n",
              "  </tbody>\n",
              "</table>\n",
              "</div>"
            ],
            "text/plain": [
              "       Sepal_length  Sepal_width  petal_length  petal_width\n",
              "count    150.000000   150.000000    150.000000   150.000000\n",
              "mean       5.843333     3.057333      3.758000     1.199333\n",
              "std        0.828066     0.435866      1.765298     0.762238\n",
              "min        4.300000     2.000000      1.000000     0.100000\n",
              "25%        5.100000     2.800000      1.600000     0.300000\n",
              "50%        5.800000     3.000000      4.350000     1.300000\n",
              "75%        6.400000     3.300000      5.100000     1.800000\n",
              "max        7.900000     4.400000      6.900000     2.500000"
            ]
          },
          "metadata": {},
          "execution_count": 46
        }
      ]
    },
    {
      "cell_type": "code",
      "metadata": {
        "colab": {
          "base_uri": "https://localhost:8080/",
          "height": 173
        },
        "id": "vaiV5TKDltx8",
        "outputId": "364c42e5-14c1-4b9c-82f0-ed34553e0d1f"
      },
      "source": [
        "X.cov()"
      ],
      "execution_count": null,
      "outputs": [
        {
          "output_type": "execute_result",
          "data": {
            "text/html": [
              "<div>\n",
              "<style scoped>\n",
              "    .dataframe tbody tr th:only-of-type {\n",
              "        vertical-align: middle;\n",
              "    }\n",
              "\n",
              "    .dataframe tbody tr th {\n",
              "        vertical-align: top;\n",
              "    }\n",
              "\n",
              "    .dataframe thead th {\n",
              "        text-align: right;\n",
              "    }\n",
              "</style>\n",
              "<table border=\"1\" class=\"dataframe\">\n",
              "  <thead>\n",
              "    <tr style=\"text-align: right;\">\n",
              "      <th></th>\n",
              "      <th>Sepal_length</th>\n",
              "      <th>Sepal_width</th>\n",
              "      <th>petal_length</th>\n",
              "      <th>petal_width</th>\n",
              "    </tr>\n",
              "  </thead>\n",
              "  <tbody>\n",
              "    <tr>\n",
              "      <th>Sepal_length</th>\n",
              "      <td>0.685694</td>\n",
              "      <td>-0.042434</td>\n",
              "      <td>1.274315</td>\n",
              "      <td>0.516271</td>\n",
              "    </tr>\n",
              "    <tr>\n",
              "      <th>Sepal_width</th>\n",
              "      <td>-0.042434</td>\n",
              "      <td>0.189979</td>\n",
              "      <td>-0.329656</td>\n",
              "      <td>-0.121639</td>\n",
              "    </tr>\n",
              "    <tr>\n",
              "      <th>petal_length</th>\n",
              "      <td>1.274315</td>\n",
              "      <td>-0.329656</td>\n",
              "      <td>3.116278</td>\n",
              "      <td>1.295609</td>\n",
              "    </tr>\n",
              "    <tr>\n",
              "      <th>petal_width</th>\n",
              "      <td>0.516271</td>\n",
              "      <td>-0.121639</td>\n",
              "      <td>1.295609</td>\n",
              "      <td>0.581006</td>\n",
              "    </tr>\n",
              "  </tbody>\n",
              "</table>\n",
              "</div>"
            ],
            "text/plain": [
              "              Sepal_length  Sepal_width  petal_length  petal_width\n",
              "Sepal_length      0.685694    -0.042434      1.274315     0.516271\n",
              "Sepal_width      -0.042434     0.189979     -0.329656    -0.121639\n",
              "petal_length      1.274315    -0.329656      3.116278     1.295609\n",
              "petal_width       0.516271    -0.121639      1.295609     0.581006"
            ]
          },
          "metadata": {},
          "execution_count": 47
        }
      ]
    },
    {
      "cell_type": "code",
      "metadata": {
        "colab": {
          "base_uri": "https://localhost:8080/",
          "height": 173
        },
        "id": "OFavAnFWl2ex",
        "outputId": "955b73a6-e91a-4301-b130-8ace13dba09f"
      },
      "source": [
        "X.corr()"
      ],
      "execution_count": null,
      "outputs": [
        {
          "output_type": "execute_result",
          "data": {
            "text/html": [
              "<div>\n",
              "<style scoped>\n",
              "    .dataframe tbody tr th:only-of-type {\n",
              "        vertical-align: middle;\n",
              "    }\n",
              "\n",
              "    .dataframe tbody tr th {\n",
              "        vertical-align: top;\n",
              "    }\n",
              "\n",
              "    .dataframe thead th {\n",
              "        text-align: right;\n",
              "    }\n",
              "</style>\n",
              "<table border=\"1\" class=\"dataframe\">\n",
              "  <thead>\n",
              "    <tr style=\"text-align: right;\">\n",
              "      <th></th>\n",
              "      <th>Sepal_length</th>\n",
              "      <th>Sepal_width</th>\n",
              "      <th>petal_length</th>\n",
              "      <th>petal_width</th>\n",
              "    </tr>\n",
              "  </thead>\n",
              "  <tbody>\n",
              "    <tr>\n",
              "      <th>Sepal_length</th>\n",
              "      <td>1.000000</td>\n",
              "      <td>-0.117570</td>\n",
              "      <td>0.871754</td>\n",
              "      <td>0.817941</td>\n",
              "    </tr>\n",
              "    <tr>\n",
              "      <th>Sepal_width</th>\n",
              "      <td>-0.117570</td>\n",
              "      <td>1.000000</td>\n",
              "      <td>-0.428440</td>\n",
              "      <td>-0.366126</td>\n",
              "    </tr>\n",
              "    <tr>\n",
              "      <th>petal_length</th>\n",
              "      <td>0.871754</td>\n",
              "      <td>-0.428440</td>\n",
              "      <td>1.000000</td>\n",
              "      <td>0.962865</td>\n",
              "    </tr>\n",
              "    <tr>\n",
              "      <th>petal_width</th>\n",
              "      <td>0.817941</td>\n",
              "      <td>-0.366126</td>\n",
              "      <td>0.962865</td>\n",
              "      <td>1.000000</td>\n",
              "    </tr>\n",
              "  </tbody>\n",
              "</table>\n",
              "</div>"
            ],
            "text/plain": [
              "              Sepal_length  Sepal_width  petal_length  petal_width\n",
              "Sepal_length      1.000000    -0.117570      0.871754     0.817941\n",
              "Sepal_width      -0.117570     1.000000     -0.428440    -0.366126\n",
              "petal_length      0.871754    -0.428440      1.000000     0.962865\n",
              "petal_width       0.817941    -0.366126      0.962865     1.000000"
            ]
          },
          "metadata": {},
          "execution_count": 48
        }
      ]
    },
    {
      "cell_type": "code",
      "metadata": {
        "colab": {
          "base_uri": "https://localhost:8080/"
        },
        "id": "NBOfcSsrmCRW",
        "outputId": "fc982739-9fd6-4a50-8f9c-b2e4dde6ec4b"
      },
      "source": [
        "import numpy as np\n",
        "df=pd.DataFrame({'Name':['Mounika','Nani','Chinni','Chikki'],'state':['IND','USA','UK','USSR'],'Grade':['A','A','B','C'],'Age':np.random.uniform(24,35,size=4),'salary':np.random.uniform(3000,5000,size=4),})\n",
        "print(df)"
      ],
      "execution_count": null,
      "outputs": [
        {
          "output_type": "stream",
          "name": "stdout",
          "text": [
            "      Name state Grade        Age       salary\n",
            "0  Mounika   IND     A  27.274905  4120.866559\n",
            "1     Nani   USA     A  25.574968  4857.551484\n",
            "2   Chinni    UK     B  31.228928  3576.377258\n",
            "3   Chikki  USSR     C  27.545713  4995.222891\n"
          ]
        }
      ]
    },
    {
      "cell_type": "code",
      "metadata": {
        "colab": {
          "base_uri": "https://localhost:8080/",
          "height": 204
        },
        "id": "DA4t50OALR5X",
        "outputId": "1df1561e-2b59-4871-a9c0-a1dc79a69609"
      },
      "source": [
        "import numpy as np\n",
        "import pandas as pd\n",
        "df=pd.DataFrame({'Name':['Mounika','Nani','Chinni','Chikki'],'state':['IND','USA','UK','USSR'],'Grade':['A','A','B','C'],'Age':np.random.uniform(24,35,size=4),'salary':np.random.uniform(3000,5000,size=4),})\n",
        "df.groupby(['Name','state']).max()"
      ],
      "execution_count": null,
      "outputs": [
        {
          "output_type": "execute_result",
          "data": {
            "text/html": [
              "<div>\n",
              "<style scoped>\n",
              "    .dataframe tbody tr th:only-of-type {\n",
              "        vertical-align: middle;\n",
              "    }\n",
              "\n",
              "    .dataframe tbody tr th {\n",
              "        vertical-align: top;\n",
              "    }\n",
              "\n",
              "    .dataframe thead th {\n",
              "        text-align: right;\n",
              "    }\n",
              "</style>\n",
              "<table border=\"1\" class=\"dataframe\">\n",
              "  <thead>\n",
              "    <tr style=\"text-align: right;\">\n",
              "      <th></th>\n",
              "      <th></th>\n",
              "      <th>Grade</th>\n",
              "      <th>Age</th>\n",
              "      <th>salary</th>\n",
              "    </tr>\n",
              "    <tr>\n",
              "      <th>Name</th>\n",
              "      <th>state</th>\n",
              "      <th></th>\n",
              "      <th></th>\n",
              "      <th></th>\n",
              "    </tr>\n",
              "  </thead>\n",
              "  <tbody>\n",
              "    <tr>\n",
              "      <th>Chikki</th>\n",
              "      <th>USSR</th>\n",
              "      <td>C</td>\n",
              "      <td>31.667863</td>\n",
              "      <td>3547.660368</td>\n",
              "    </tr>\n",
              "    <tr>\n",
              "      <th>Chinni</th>\n",
              "      <th>UK</th>\n",
              "      <td>B</td>\n",
              "      <td>25.655130</td>\n",
              "      <td>3059.378711</td>\n",
              "    </tr>\n",
              "    <tr>\n",
              "      <th>Mounika</th>\n",
              "      <th>IND</th>\n",
              "      <td>A</td>\n",
              "      <td>29.175480</td>\n",
              "      <td>3418.655341</td>\n",
              "    </tr>\n",
              "    <tr>\n",
              "      <th>Nani</th>\n",
              "      <th>USA</th>\n",
              "      <td>A</td>\n",
              "      <td>26.882951</td>\n",
              "      <td>3032.361888</td>\n",
              "    </tr>\n",
              "  </tbody>\n",
              "</table>\n",
              "</div>"
            ],
            "text/plain": [
              "              Grade        Age       salary\n",
              "Name    state                              \n",
              "Chikki  USSR      C  31.667863  3547.660368\n",
              "Chinni  UK        B  25.655130  3059.378711\n",
              "Mounika IND       A  29.175480  3418.655341\n",
              "Nani    USA       A  26.882951  3032.361888"
            ]
          },
          "metadata": {},
          "execution_count": 71
        }
      ]
    },
    {
      "cell_type": "markdown",
      "metadata": {
        "id": "qiZ1laGtM_IJ"
      },
      "source": [
        "# **Scipy**"
      ]
    },
    {
      "cell_type": "code",
      "metadata": {
        "colab": {
          "base_uri": "https://localhost:8080/"
        },
        "id": "EPF3kTwkNFU0",
        "outputId": "1a401abb-29b9-4261-fa16-32d8356a7a72"
      },
      "source": [
        "import numpy as np\n",
        "np.linspace(1.,4.,6)"
      ],
      "execution_count": null,
      "outputs": [
        {
          "output_type": "execute_result",
          "data": {
            "text/plain": [
              "array([1. , 1.6, 2.2, 2.8, 3.4, 4. ])"
            ]
          },
          "metadata": {},
          "execution_count": 72
        }
      ]
    },
    {
      "cell_type": "code",
      "metadata": {
        "colab": {
          "base_uri": "https://localhost:8080/"
        },
        "id": "oSi5WqP-NnaS",
        "outputId": "603fdbcf-38f4-4eb3-a6a0-4737fca168c7"
      },
      "source": [
        "from scipy.cluster.vq import kmeans,vq,whiten\n",
        "from numpy import vstack,array\n",
        "from numpy.random import rand\n",
        "\n",
        "data=vstack((rand(100,3)+array([.5,.5,.5]),rand(100,3)))\n",
        "data"
      ],
      "execution_count": null,
      "outputs": [
        {
          "output_type": "execute_result",
          "data": {
            "text/plain": [
              "array([[1.20294171, 0.62539766, 1.00994976],\n",
              "       [1.22336315, 0.76797078, 0.62327924],\n",
              "       [0.70562406, 0.73281226, 1.19724065],\n",
              "       [0.638286  , 0.71676958, 1.48598472],\n",
              "       [1.25256635, 0.60615712, 1.31388877],\n",
              "       [1.26847096, 0.57005257, 1.29493478],\n",
              "       [1.46825679, 1.04379836, 0.58995126],\n",
              "       [0.55308596, 1.48251948, 1.0316935 ],\n",
              "       [0.86009925, 1.39579649, 0.874459  ],\n",
              "       [0.80909734, 0.52619006, 0.5414164 ],\n",
              "       [1.32701483, 0.96833796, 0.81582672],\n",
              "       [1.24878657, 1.25677385, 0.66764797],\n",
              "       [1.36805487, 0.9578647 , 1.22661851],\n",
              "       [1.30094772, 0.57412406, 0.7742484 ],\n",
              "       [0.7775885 , 0.7584315 , 0.79747689],\n",
              "       [0.90674907, 1.40529503, 0.56253662],\n",
              "       [0.674157  , 0.94228936, 1.35326568],\n",
              "       [1.12180866, 0.64780567, 0.97938191],\n",
              "       [1.38557532, 0.72579898, 0.50703784],\n",
              "       [1.30457315, 0.53688787, 0.80666713],\n",
              "       [0.92225605, 1.00637095, 1.42884477],\n",
              "       [0.80522143, 1.43696893, 0.60304414],\n",
              "       [1.0068172 , 0.75180141, 1.14161115],\n",
              "       [0.56805591, 1.08317866, 0.59495612],\n",
              "       [1.30308232, 1.0439099 , 0.8769144 ],\n",
              "       [0.65061679, 1.02492381, 1.34542069],\n",
              "       [1.46491528, 1.22044766, 0.95837661],\n",
              "       [1.42349089, 0.9374712 , 0.98572649],\n",
              "       [0.62505979, 0.99226281, 0.98741462],\n",
              "       [0.6932901 , 1.10205737, 1.13476503],\n",
              "       [1.30129746, 0.75853581, 1.26163973],\n",
              "       [0.54113568, 0.96658578, 0.88896655],\n",
              "       [0.88803473, 0.84579232, 0.60473966],\n",
              "       [1.2320702 , 0.84949215, 0.66825551],\n",
              "       [1.49723354, 1.23513323, 0.96785215],\n",
              "       [1.31558848, 1.07690237, 0.53900816],\n",
              "       [1.24425503, 0.59260579, 0.64405893],\n",
              "       [0.85593464, 0.76232855, 1.41995076],\n",
              "       [0.86320107, 0.93623757, 1.31986476],\n",
              "       [1.1499069 , 0.88711132, 1.42621354],\n",
              "       [1.42883374, 0.66797821, 0.65665808],\n",
              "       [1.3553306 , 0.84955684, 1.32034098],\n",
              "       [1.10589746, 1.24984582, 1.0300706 ],\n",
              "       [0.61632189, 1.45081961, 0.70094136],\n",
              "       [0.79683147, 0.65560061, 0.77207418],\n",
              "       [0.56586823, 1.23026317, 0.75493038],\n",
              "       [0.96690593, 1.04806315, 1.18003405],\n",
              "       [1.2144904 , 0.74982322, 0.50983347],\n",
              "       [1.33989364, 1.32666198, 1.44056211],\n",
              "       [0.83911615, 1.17945026, 1.23862814],\n",
              "       [1.02769125, 1.19329918, 0.87558108],\n",
              "       [0.9383435 , 0.74096764, 1.09093425],\n",
              "       [1.10575378, 1.36727043, 0.6280555 ],\n",
              "       [1.12832395, 0.72562672, 0.86725215],\n",
              "       [1.40869265, 0.96625833, 0.59659135],\n",
              "       [0.58410189, 0.68172797, 0.63131399],\n",
              "       [1.00604371, 1.05238209, 0.94567316],\n",
              "       [0.63350441, 1.44822804, 1.46184811],\n",
              "       [0.68631526, 1.20417022, 0.82541134],\n",
              "       [0.75834002, 0.7444551 , 1.13811345],\n",
              "       [0.70290496, 1.24590605, 1.07809498],\n",
              "       [1.04415236, 1.17732589, 1.38590379],\n",
              "       [0.91795103, 1.15682668, 1.36602653],\n",
              "       [0.68538388, 1.4207272 , 0.69357861],\n",
              "       [0.97191116, 0.88538665, 1.05292089],\n",
              "       [1.25229643, 1.03480026, 0.50468361],\n",
              "       [0.72155508, 1.34465274, 0.72180968],\n",
              "       [0.82243403, 1.06881335, 0.66996127],\n",
              "       [0.74563967, 1.45747935, 0.79843613],\n",
              "       [1.19819998, 0.59228368, 1.14614277],\n",
              "       [1.31046282, 0.95416392, 1.2260969 ],\n",
              "       [0.97243396, 0.52442811, 1.17114048],\n",
              "       [1.21597037, 0.901117  , 1.34368346],\n",
              "       [0.9860998 , 1.13626307, 0.53703699],\n",
              "       [1.44817662, 0.93594091, 0.51506885],\n",
              "       [0.60564573, 0.91894161, 1.25781754],\n",
              "       [0.59725498, 1.36430159, 0.70293805],\n",
              "       [1.21200564, 0.71409818, 0.73690097],\n",
              "       [0.66217709, 0.97906017, 0.82325345],\n",
              "       [1.29591477, 1.4676533 , 0.54404576],\n",
              "       [1.43752431, 0.88414523, 1.06991997],\n",
              "       [0.59905037, 1.47242496, 1.46879528],\n",
              "       [0.80824685, 0.75105155, 1.03925323],\n",
              "       [1.39741902, 1.24077501, 0.87281406],\n",
              "       [1.37763246, 0.94237223, 1.4423648 ],\n",
              "       [0.89182255, 0.84158493, 1.4966509 ],\n",
              "       [1.40189519, 1.49796086, 1.24905138],\n",
              "       [0.73198338, 1.40563363, 0.50304755],\n",
              "       [0.69320299, 1.3906703 , 1.17482436],\n",
              "       [0.71745498, 0.51128766, 0.56317705],\n",
              "       [1.01340188, 1.34967209, 0.82658601],\n",
              "       [0.6455991 , 1.39481439, 1.33750577],\n",
              "       [0.93039075, 1.32191076, 1.38332836],\n",
              "       [1.15250494, 0.63574662, 1.36482437],\n",
              "       [1.11103318, 0.71416907, 1.30212458],\n",
              "       [1.39528018, 0.89848406, 0.9695531 ],\n",
              "       [1.45471705, 0.51752643, 1.188211  ],\n",
              "       [1.39560122, 0.8936151 , 1.13909936],\n",
              "       [1.35177789, 1.11755858, 1.24619858],\n",
              "       [0.55461746, 0.69495111, 1.32440219],\n",
              "       [0.98859722, 0.60339827, 0.13051355],\n",
              "       [0.10266642, 0.58162615, 0.19922257],\n",
              "       [0.34555858, 0.77023268, 0.51069791],\n",
              "       [0.9573508 , 0.42675399, 0.62610773],\n",
              "       [0.42435508, 0.12115781, 0.21551487],\n",
              "       [0.60611756, 0.45374006, 0.10610666],\n",
              "       [0.80192962, 0.90409574, 0.95923236],\n",
              "       [0.17274985, 0.84234975, 0.13647284],\n",
              "       [0.35602096, 0.35214692, 0.90947655],\n",
              "       [0.26961853, 0.65467496, 0.221895  ],\n",
              "       [0.52774582, 0.29937011, 0.98176914],\n",
              "       [0.93700057, 0.03421723, 0.58715748],\n",
              "       [0.51115931, 0.16536212, 0.39291648],\n",
              "       [0.76319233, 0.13790664, 0.51349375],\n",
              "       [0.32401109, 0.40013527, 0.19759745],\n",
              "       [0.74009818, 0.55545305, 0.95943825],\n",
              "       [0.08744446, 0.18047547, 0.26600984],\n",
              "       [0.64855865, 0.52897514, 0.49072223],\n",
              "       [0.72005446, 0.12934183, 0.87882125],\n",
              "       [0.76739527, 0.55411178, 0.82592287],\n",
              "       [0.76845396, 0.14496806, 0.51101253],\n",
              "       [0.41771227, 0.03577042, 0.85336754],\n",
              "       [0.86709083, 0.08968616, 0.31404382],\n",
              "       [0.688412  , 0.25474737, 0.78356155],\n",
              "       [0.27288077, 0.03654388, 0.61183835],\n",
              "       [0.98447915, 0.0587636 , 0.33885265],\n",
              "       [0.72541491, 0.60871755, 0.39637151],\n",
              "       [0.74572833, 0.81054395, 0.78913663],\n",
              "       [0.73726122, 0.46619196, 0.7205664 ],\n",
              "       [0.51838252, 0.93204888, 0.77274172],\n",
              "       [0.24573596, 0.53967608, 0.89685103],\n",
              "       [0.07087819, 0.38764812, 0.03530688],\n",
              "       [0.21965985, 0.67552838, 0.9025074 ],\n",
              "       [0.22869581, 0.19415182, 0.10369545],\n",
              "       [0.89928616, 0.76349189, 0.22979831],\n",
              "       [0.27820062, 0.18112404, 0.49392543],\n",
              "       [0.29847229, 0.42883891, 0.11333251],\n",
              "       [0.83604496, 0.71721292, 0.39144585],\n",
              "       [0.69875459, 0.33945665, 0.08177385],\n",
              "       [0.00769581, 0.40920931, 0.10454218],\n",
              "       [0.5919506 , 0.3940478 , 0.07571434],\n",
              "       [0.88677385, 0.76103992, 0.25751462],\n",
              "       [0.81975978, 0.43328466, 0.16629999],\n",
              "       [0.34900871, 0.67051714, 0.58170051],\n",
              "       [0.78947165, 0.15878774, 0.82463609],\n",
              "       [0.39532569, 0.36776797, 0.68194815],\n",
              "       [0.37636254, 0.859119  , 0.91602411],\n",
              "       [0.62056495, 0.78062892, 0.44489451],\n",
              "       [0.32799349, 0.1549093 , 0.51714749],\n",
              "       [0.15101713, 0.35029603, 0.80928812],\n",
              "       [0.70737131, 0.6918777 , 0.22638807],\n",
              "       [0.26984798, 0.83652321, 0.49700026],\n",
              "       [0.48942122, 0.76932987, 0.42242646],\n",
              "       [0.38580618, 0.14778054, 0.75394506],\n",
              "       [0.24640535, 0.26773128, 0.23777157],\n",
              "       [0.39074892, 0.37362328, 0.87536592],\n",
              "       [0.09747377, 0.93248559, 0.02085361],\n",
              "       [0.96177686, 0.84470191, 0.07718105],\n",
              "       [0.70145642, 0.99785023, 0.59556308],\n",
              "       [0.29681475, 0.48443306, 0.30356858],\n",
              "       [0.22337265, 0.8685438 , 0.41253134],\n",
              "       [0.57563567, 0.0310272 , 0.02338279],\n",
              "       [0.84604323, 0.94440667, 0.32092538],\n",
              "       [0.89415272, 0.48944874, 0.45265549],\n",
              "       [0.87667222, 0.63784118, 0.75219612],\n",
              "       [0.10903225, 0.92819995, 0.74805057],\n",
              "       [0.2567656 , 0.13173234, 0.58159221],\n",
              "       [0.99590832, 0.68432849, 0.11780012],\n",
              "       [0.31855975, 0.11435337, 0.86116883],\n",
              "       [0.10966805, 0.26346591, 0.78639466],\n",
              "       [0.63344714, 0.52338017, 0.32038934],\n",
              "       [0.09087945, 0.85261369, 0.27468489],\n",
              "       [0.12607028, 0.42838902, 0.52021873],\n",
              "       [0.93074555, 0.37443542, 0.10699337],\n",
              "       [0.90948377, 0.13674011, 0.65149452],\n",
              "       [0.61951705, 0.86371259, 0.87976402],\n",
              "       [0.86576749, 0.12644992, 0.42547413],\n",
              "       [0.95777973, 0.61940062, 0.50707045],\n",
              "       [0.15980615, 0.00772143, 0.37808355],\n",
              "       [0.04397   , 0.37822987, 0.22490614],\n",
              "       [0.75765953, 0.79331971, 0.38843227],\n",
              "       [0.71454849, 0.90583155, 0.41150953],\n",
              "       [0.57784057, 0.53408661, 0.33624769],\n",
              "       [0.70317474, 0.37859395, 0.80988975],\n",
              "       [0.78309806, 0.33644042, 0.31882212],\n",
              "       [0.92506694, 0.56703843, 0.08719516],\n",
              "       [0.99386054, 0.89435153, 0.70737846],\n",
              "       [0.63615389, 0.05676935, 0.86605912],\n",
              "       [0.83750539, 0.24604146, 0.06784991],\n",
              "       [0.46591472, 0.51830868, 0.60255762],\n",
              "       [0.21893616, 0.8740952 , 0.85260154],\n",
              "       [0.40613215, 0.27596264, 0.65061524],\n",
              "       [0.33876877, 0.32025167, 0.56566378],\n",
              "       [0.39224593, 0.46409419, 0.87788062],\n",
              "       [0.96967778, 0.95013821, 0.21054408],\n",
              "       [0.66926872, 0.27817962, 0.27059897],\n",
              "       [0.24794753, 0.73601445, 0.46623499],\n",
              "       [0.37378726, 0.37562323, 0.89645701],\n",
              "       [0.20574885, 0.46099181, 0.71324201],\n",
              "       [0.81640494, 0.98438189, 0.31756655]])"
            ]
          },
          "metadata": {},
          "execution_count": 52
        }
      ]
    },
    {
      "cell_type": "code",
      "metadata": {
        "colab": {
          "base_uri": "https://localhost:8080/"
        },
        "id": "LjUMqIBBPmU7",
        "outputId": "992e4f0b-d855-41d8-9755-19c40d7608ee"
      },
      "source": [
        "data=whiten(data)\n",
        "data"
      ],
      "execution_count": null,
      "outputs": [
        {
          "output_type": "execute_result",
          "data": {
            "text/plain": [
              "array([[3.19504002, 1.6458945 , 2.63086677],\n",
              "       [3.24927982, 2.02111224, 1.62361011],\n",
              "       [1.87415324, 1.92858358, 3.11874986],\n",
              "       [1.69530186, 1.88636316, 3.87091317],\n",
              "       [3.32684416, 1.59525805, 3.42261216],\n",
              "       [3.36908718, 1.50023968, 3.37323798],\n",
              "       [3.89972278, 2.74702333, 1.53679245],\n",
              "       [1.46900864, 3.90163058, 2.68750809],\n",
              "       [2.2844428 , 3.67339677, 2.27792037],\n",
              "       [2.14898059, 1.38480421, 1.41036167],\n",
              "       [3.52458099, 2.54842991, 2.12518631],\n",
              "       [3.31680498, 3.307523  , 1.73918836],\n",
              "       [3.63358426, 2.52086683, 3.19527764],\n",
              "       [3.45534617, 1.51095485, 2.01687695],\n",
              "       [2.0652924 , 1.99600718, 2.07738596],\n",
              "       [2.40834576, 3.69839462, 1.46537874],\n",
              "       [1.79057604, 2.47987633, 3.52518695],\n",
              "       [2.97954882, 1.7048669 , 2.55123911],\n",
              "       [3.68011895, 1.91012634, 1.32080728],\n",
              "       [3.46497538, 1.41295826, 2.10132606],\n",
              "       [2.44953265, 2.6485235 , 3.72206659],\n",
              "       [2.13868607, 3.78175263, 1.57089872],\n",
              "       [2.67412895, 1.9785584 , 2.97383789],\n",
              "       [1.50876916, 2.85066271, 1.54982987],\n",
              "       [3.4610157 , 2.74731688, 2.28431656],\n",
              "       [1.72805271, 2.69735012, 3.50475118],\n",
              "       [3.89084765, 3.21192133, 2.4965214 ],\n",
              "       [3.78082356, 2.46719611, 2.56776642],\n",
              "       [1.66017275, 2.61139432, 2.57216392],\n",
              "       [1.84139396, 2.90034688, 2.95600408],\n",
              "       [3.45627509, 1.99628169, 3.28650612],\n",
              "       [1.43726844, 2.54381861, 2.31571178],\n",
              "       [2.35864004, 2.2259196 , 1.57531548],\n",
              "       [3.27240594, 2.23565667, 1.74077098],\n",
              "       [3.97668568, 3.25057017, 2.52120469],\n",
              "       [3.49423236, 2.83414504, 1.40408832],\n",
              "       [3.30476913, 1.55959427, 1.67774014],\n",
              "       [2.2733815 , 2.00626329, 3.69889815],\n",
              "       [2.29268129, 2.46394952, 3.43817929],\n",
              "       [3.05417839, 2.33466116, 3.71521236],\n",
              "       [3.79501428, 1.75795612, 1.71056026],\n",
              "       [3.59978831, 2.23582691, 3.43941982],\n",
              "       [2.93728833, 3.28929013, 2.68328052],\n",
              "       [1.63696468, 3.81820425, 1.82591591],\n",
              "       [2.11640217, 1.7253813 , 2.01121323],\n",
              "       [1.50295865, 3.23775334, 1.96655453],\n",
              "       [2.56812372, 2.75824721, 3.07392754],\n",
              "       [3.22571358, 1.97335229, 1.32808978],\n",
              "       [3.5587874 , 3.49145157, 3.75258965],\n",
              "       [2.22871121, 3.10402613, 3.22656212],\n",
              "       [2.72957088, 3.14047313, 2.28084334],\n",
              "       [2.49226126, 1.95004655, 2.84182719],\n",
              "       [2.93690671, 3.59832312, 1.63605203],\n",
              "       [2.99685358, 1.90967297, 2.2591469 ],\n",
              "       [3.7415191 , 2.54295683, 1.55408955],\n",
              "       [1.55138764, 1.79414214, 1.64454021],\n",
              "       [2.67207453, 2.76961363, 2.46342956],\n",
              "       [1.68260184, 3.81138385, 3.80803856],\n",
              "       [1.82286863, 3.16908306, 2.15015377],\n",
              "       [2.014168  , 1.95922469, 2.96472655],\n",
              "       [1.86693126, 3.2789216 , 2.80838156],\n",
              "       [2.77329196, 3.0984353 , 3.61020756],\n",
              "       [2.43809841, 3.04448636, 3.55842832],\n",
              "       [1.82039488, 3.73900834, 1.80673635],\n",
              "       [2.58141771, 2.33012225, 2.74280434],\n",
              "       [3.32612725, 2.72334251, 1.31467465],\n",
              "       [1.91646638, 3.53879887, 1.88027682],\n",
              "       [2.18440313, 2.81285669, 1.74521438],\n",
              "       [1.98043559, 3.83573105, 2.07988473],\n",
              "       [3.18244588, 1.55874655, 2.98564251],\n",
              "       [3.48061849, 2.5111273 , 3.19391887],\n",
              "       [2.58280629, 1.38016719, 3.05076025],\n",
              "       [3.22964443, 2.37152071, 3.50022577],\n",
              "       [2.61910306, 2.99036796, 1.39895353],\n",
              "       [3.84638941, 2.46316877, 1.34172765],\n",
              "       [1.60860857, 2.41843073, 3.27654951],\n",
              "       [1.58632255, 3.59050985, 1.83111719],\n",
              "       [3.21911402, 1.87933267, 1.91958883],\n",
              "       [1.75875711, 2.57664816, 2.14453258],\n",
              "       [3.44197853, 3.8625064 , 1.41721101],\n",
              "       [3.81809664, 2.32685515, 2.78708607],\n",
              "       [1.59109113, 3.87506426, 3.82613559],\n",
              "       [2.14672166, 1.97658495, 2.70720081],\n",
              "       [3.71157608, 3.26541795, 2.27363539],\n",
              "       [3.65902253, 2.48009443, 3.75728556],\n",
              "       [2.36870059, 2.21484678, 3.89869803],\n",
              "       [3.72346489, 3.94226854, 3.25371411],\n",
              "       [1.94416419, 3.69928572, 1.3104128 ],\n",
              "       [1.84116262, 3.65990589, 3.06035656],\n",
              "       [1.90557643, 1.34558472, 1.46704702],\n",
              "       [2.69161799, 3.55200857, 2.15321372],\n",
              "       [1.71472562, 3.67081212, 3.48413321],\n",
              "       [2.47113859, 3.4789475 , 3.60349867],\n",
              "       [3.06107884, 1.67313042, 3.55529675],\n",
              "       [2.95092891, 1.87951924, 3.39196703],\n",
              "       [3.70589528, 2.36459144, 2.52563557],\n",
              "       [3.86376094, 1.36200366, 3.09522808],\n",
              "       [3.70674796, 2.35177752, 2.96729479],\n",
              "       [3.59035222, 2.94114229, 3.24628271],\n",
              "       [1.47307634, 1.82894225, 3.44999907],\n",
              "       [2.62573626, 1.58799745, 0.33998103],\n",
              "       [0.27268431, 1.53069853, 0.51896446],\n",
              "       [0.9178113 , 2.02706501, 1.33034159],\n",
              "       [2.54274507, 1.12311268, 1.6309782 ],\n",
              "       [1.12709656, 0.31885788, 0.56140507],\n",
              "       [1.60986176, 1.19413345, 0.27640236],\n",
              "       [2.12994297, 2.37936002, 2.4987506 ],\n",
              "       [0.45882745, 2.21685961, 0.35550468],\n",
              "       [0.94559961, 0.92676502, 2.36913927],\n",
              "       [0.71611282, 1.72294522, 0.57802497],\n",
              "       [1.40170467, 0.78786928, 2.55745773],\n",
              "       [2.4886944 , 0.09005142, 1.52951481],\n",
              "       [1.35765053, 0.43519288, 1.02352706],\n",
              "       [2.02705585, 0.36293673, 1.3376246 ],\n",
              "       [0.8605807 , 1.05305868, 0.51473112],\n",
              "       [1.96571727, 1.46181729, 2.49928691],\n",
              "       [0.23225444, 0.47496753, 0.69294186],\n",
              "       [1.72258624, 1.39213388, 1.27830598],\n",
              "       [1.91248071, 0.34039622, 2.2892838 ],\n",
              "       [2.03821895, 1.45828739, 2.15148626],\n",
              "       [2.04103087, 0.38152066, 1.33116116],\n",
              "       [1.1094531 , 0.09413903, 2.22297821],\n",
              "       [2.30301259, 0.23603215, 0.81806788],\n",
              "       [1.82843764, 0.67043309, 2.04113723],\n",
              "       [0.72477741, 0.0961746 , 1.59380718],\n",
              "       [2.61479857, 0.15465151, 0.88269359],\n",
              "       [1.92671819, 1.60199648, 1.03252723],\n",
              "       [1.98067108, 2.13315447, 2.05566001],\n",
              "       [1.95818226, 1.2269038 , 1.87703814],\n",
              "       [1.37683553, 2.4529259 , 2.01295212],\n",
              "       [0.65268018, 1.42029614, 2.33625044],\n",
              "       [0.18825405, 1.02019554, 0.0919726 ],\n",
              "       [0.58342147, 1.77782634, 2.35098501],\n",
              "       [0.60742118, 0.51096036, 0.27012127],\n",
              "       [2.38852411, 2.00932489, 0.5986127 ],\n",
              "       [0.73890707, 0.4766744 , 1.28665014],\n",
              "       [0.79274907, 1.12859968, 0.29522531],\n",
              "       [2.22055406, 1.88752992, 1.01969616],\n",
              "       [1.85590778, 0.8933673 , 0.21301665],\n",
              "       [0.02044023, 1.07693935, 0.27232695],\n",
              "       [1.57223401, 1.03703795, 0.19723193],\n",
              "       [2.35529112, 2.00287191, 0.67081225],\n",
              "       [2.17730026, 1.14029982, 0.43320287],\n",
              "       [0.92697491, 1.76463799, 1.51529969],\n",
              "       [2.09685433, 0.41789069, 2.14813429],\n",
              "       [1.04999385, 0.96787582, 1.7764396 ],\n",
              "       [0.99962731, 2.26099219, 2.38619533],\n",
              "       [1.64823436, 2.0544254 , 1.15892714],\n",
              "       [0.87115802, 0.40768358, 1.34714241],\n",
              "       [0.40110486, 0.92189392, 2.10815362],\n",
              "       [1.87879398, 1.82085377, 0.58972918],\n",
              "       [0.71672227, 2.20152555, 1.29465993],\n",
              "       [1.29991368, 2.02468906, 1.10039905],\n",
              "       [1.02470981, 0.38892244, 1.9639878 ],\n",
              "       [0.65445811, 0.7046036 , 0.61938262],\n",
              "       [1.03783785, 0.98328556, 2.28028286],\n",
              "       [0.2588925 , 2.45407519, 0.05432257],\n",
              "       [2.55450079, 2.22304992, 0.20105263],\n",
              "       [1.86308389, 2.62609903, 1.55141097],\n",
              "       [0.7883466 , 1.27490995, 0.79078042],\n",
              "       [0.59328274, 2.28579598, 1.07462276],\n",
              "       [1.52890117, 0.08165603, 0.06091095],\n",
              "       [2.24710969, 2.48544859, 0.83599398],\n",
              "       [2.37488957, 1.28811002, 1.17914409],\n",
              "       [2.32846097, 1.6786428 , 1.95943191],\n",
              "       [0.28959209, 2.44279643, 1.94863297],\n",
              "       [0.68197515, 0.34668746, 1.51501755],\n",
              "       [2.64515472, 1.80098609, 0.30686321],\n",
              "       [0.84610181, 0.30095025, 2.24330016],\n",
              "       [0.29128078, 0.69337817, 2.04851733],\n",
              "       [1.68244973, 1.37740926, 0.83459764],\n",
              "       [0.24137785, 2.2438718 , 0.7155399 ],\n",
              "       [0.33484547, 1.12741568, 1.35514283],\n",
              "       [2.47208095, 0.98542293, 0.27871218],\n",
              "       [2.41560917, 0.35986671, 1.69710946],\n",
              "       [1.6454511 , 2.2730814 , 2.29173967],\n",
              "       [2.29949776, 0.33278542, 1.10833807],\n",
              "       [2.54388432, 1.63011174, 1.32089225],\n",
              "       [0.42444871, 0.02032093, 0.98488805],\n",
              "       [0.1167853 , 0.99540899, 0.58586885],\n",
              "       [2.01236062, 2.08782445, 1.01184593],\n",
              "       [1.89785672, 2.38392827, 1.071961  ],\n",
              "       [1.53475746, 1.40558602, 0.87590782],\n",
              "       [1.8676478 , 0.99636716, 2.10972082],\n",
              "       [2.07992591, 0.88542933, 0.83051511],\n",
              "       [2.45699842, 1.49230718, 0.22713886],\n",
              "       [2.63971576, 2.35371564, 1.84268422],\n",
              "       [1.68963892, 0.14940312, 2.25603913],\n",
              "       [2.22443301, 0.64752128, 0.1767455 ],\n",
              "       [1.23747989, 1.36406235, 1.56963137],\n",
              "       [0.58149932, 2.3004059 , 2.22098281],\n",
              "       [1.07869605, 0.72626654, 1.69481899],\n",
              "       [0.8997774 , 0.84282448, 1.47352483],\n",
              "       [1.04181393, 1.221383  , 2.28683353],\n",
              "       [2.57548581, 2.50053261, 0.54845641],\n",
              "       [1.77759265, 0.73210108, 0.70489631],\n",
              "       [0.65855417, 1.93701097, 1.21451799],\n",
              "       [0.9927873 , 0.98854894, 2.33522405],\n",
              "       [0.54647354, 1.21321829, 1.85795847],\n",
              "       [2.16838974, 2.59065363, 0.82724442]])"
            ]
          },
          "metadata": {},
          "execution_count": 53
        }
      ]
    },
    {
      "cell_type": "code",
      "metadata": {
        "colab": {
          "base_uri": "https://localhost:8080/"
        },
        "id": "dogGHcnKQTci",
        "outputId": "dcb8f177-65f2-4f23-af8d-4e050151b18d"
      },
      "source": [
        "centroids,_=kmeans(data,3)\n",
        "centroids"
      ],
      "execution_count": null,
      "outputs": [
        {
          "output_type": "execute_result",
          "data": {
            "text/plain": [
              "array([[3.38257408, 2.32424519, 2.52073308],\n",
              "       [1.44866486, 1.18324625, 1.2034752 ],\n",
              "       [1.94059206, 2.89836317, 2.58042403]])"
            ]
          },
          "metadata": {},
          "execution_count": 54
        }
      ]
    },
    {
      "cell_type": "code",
      "metadata": {
        "colab": {
          "base_uri": "https://localhost:8080/"
        },
        "id": "xRMzGsloQ5aF",
        "outputId": "a77bc4c3-a1bc-4e96-c502-b0bdc69f8ec0"
      },
      "source": [
        "clx,_=vq(data,centroids)\n",
        "clx"
      ],
      "execution_count": null,
      "outputs": [
        {
          "output_type": "execute_result",
          "data": {
            "text/plain": [
              "array([0, 0, 2, 2, 0, 0, 0, 2, 2, 1, 0, 0, 0, 0, 2, 2, 2, 0, 0, 0, 2, 2,\n",
              "       0, 2, 0, 2, 0, 0, 2, 2, 0, 2, 2, 0, 0, 0, 0, 2, 2, 0, 0, 0, 0, 2,\n",
              "       1, 2, 2, 0, 0, 2, 2, 0, 2, 0, 0, 1, 2, 2, 2, 2, 2, 2, 2, 2, 0, 0,\n",
              "       2, 2, 2, 0, 0, 0, 0, 2, 0, 2, 2, 0, 2, 0, 0, 2, 2, 0, 0, 2, 0, 2,\n",
              "       2, 1, 2, 2, 2, 0, 0, 0, 0, 0, 0, 2, 1, 1, 1, 1, 1, 1, 2, 1, 1, 1,\n",
              "       1, 1, 1, 1, 1, 1, 1, 1, 1, 1, 1, 1, 1, 1, 1, 1, 1, 2, 1, 2, 1, 1,\n",
              "       1, 1, 1, 1, 1, 1, 1, 1, 1, 1, 1, 1, 1, 1, 2, 1, 1, 1, 1, 1, 1, 1,\n",
              "       1, 1, 1, 1, 2, 1, 1, 1, 1, 1, 1, 2, 1, 1, 1, 1, 1, 1, 1, 1, 1, 2,\n",
              "       1, 1, 1, 1, 1, 1, 1, 1, 1, 1, 0, 1, 1, 1, 2, 1, 1, 1, 1, 1, 1, 1,\n",
              "       1, 1], dtype=int32)"
            ]
          },
          "metadata": {},
          "execution_count": 55
        }
      ]
    },
    {
      "cell_type": "code",
      "metadata": {
        "colab": {
          "base_uri": "https://localhost:8080/"
        },
        "id": "Z54eVHS7SWKC",
        "outputId": "87127566-3478-42dd-851b-2b2750923599"
      },
      "source": [
        "from scipy.fftpack import fft\n",
        "\n",
        "x=np.array([1.0,2.0,1.0,-1.0,1.5])\n",
        "\n",
        "y=fft(x)\n",
        "print(\"FFT :\\n\",y)"
      ],
      "execution_count": null,
      "outputs": [
        {
          "output_type": "stream",
          "name": "stdout",
          "text": [
            "FFT :\n",
            " [ 4.5       -0.j          2.08155948-1.65109876j -1.83155948+1.60822041j\n",
            " -1.83155948-1.60822041j  2.08155948+1.65109876j]\n"
          ]
        }
      ]
    },
    {
      "cell_type": "code",
      "metadata": {
        "colab": {
          "base_uri": "https://localhost:8080/"
        },
        "id": "lUXcTP94SnTt",
        "outputId": "b7f41798-42ac-4978-86ee-4b84e1fe9a12"
      },
      "source": [
        "from scipy.fftpack import ifft\n",
        "yinv=ifft(y)\n",
        "print(\"FFT Inverse:\\n\",yinv)"
      ],
      "execution_count": null,
      "outputs": [
        {
          "output_type": "stream",
          "name": "stdout",
          "text": [
            "FFT Inverse:\n",
            " [ 1. +0.j  2. +0.j  1. +0.j -1. +0.j  1.5+0.j]\n"
          ]
        }
      ]
    },
    {
      "cell_type": "code",
      "metadata": {
        "colab": {
          "base_uri": "https://localhost:8080/"
        },
        "id": "L_ofAokMTI8R",
        "outputId": "ed12fb1e-7a52-4d17-b1f4-324fccc6e3b7"
      },
      "source": [
        "from scipy.fftpack import dct\n",
        "print(\"DCT:\\n\",dct(np.array([4.,3.,5.,10.,5.,3.])))"
      ],
      "execution_count": null,
      "outputs": [
        {
          "output_type": "stream",
          "name": "stdout",
          "text": [
            "DCT:\n",
            " [ 60.          -3.48476592 -13.85640646  11.3137085    6.\n",
            "  -6.31319305]\n"
          ]
        }
      ]
    },
    {
      "cell_type": "code",
      "metadata": {
        "colab": {
          "base_uri": "https://localhost:8080/"
        },
        "id": "sFowjNxgTqvP",
        "outputId": "f77fcef5-a848-4f7a-e1e3-ce066a8bc7aa"
      },
      "source": [
        "from scipy.fftpack import idct\n",
        "print(\"IDCT:\\n\",idct(np.array([4.,3.,5.,10.,5.,3.])))"
      ],
      "execution_count": null,
      "outputs": [
        {
          "output_type": "stream",
          "name": "stdout",
          "text": [
            "IDCT:\n",
            " [ 39.15085889 -20.14213562  -6.45392043   7.13341236   8.14213562\n",
            "  -3.83035081]\n"
          ]
        }
      ]
    },
    {
      "cell_type": "markdown",
      "metadata": {
        "id": "pETcsUseUro-"
      },
      "source": [
        "# **SciPy-Integrated**"
      ]
    },
    {
      "cell_type": "markdown",
      "metadata": {
        "id": "ZBZO050EUyeJ"
      },
      "source": [
        "The general form of quad is scipy.integrate.quad(f,a,b), Where 'f' is the name of the function to be integrated. Whereas, 'a' and 'b' are the lower and upper limits, respectively. Let us see an example of the Gaussian function, integrated over a range of 0 and 1                                "
      ]
    },
    {
      "cell_type": "markdown",
      "metadata": {
        "id": "F2BoomdJV4jy"
      },
      "source": [
        "  # **∫f(x)dx**"
      ]
    },
    {
      "cell_type": "code",
      "metadata": {
        "colab": {
          "base_uri": "https://localhost:8080/"
        },
        "id": "mI9twu8HVZkn",
        "outputId": "0b4f822b-16d3-470e-e428-97e730f13023"
      },
      "source": [
        "import scipy.integrate\n",
        "from numpy import exp\n",
        "f=lambda x:exp(-x**2)\n",
        "i=scipy.integrate.quad(f,0,1)\n",
        "print(i)"
      ],
      "execution_count": null,
      "outputs": [
        {
          "output_type": "stream",
          "name": "stdout",
          "text": [
            "(0.7468241328124271, 8.291413475940725e-15)\n"
          ]
        }
      ]
    },
    {
      "cell_type": "markdown",
      "metadata": {
        "id": "50tbDAniXnNh"
      },
      "source": [
        "# **Linear Algebra**"
      ]
    },
    {
      "cell_type": "markdown",
      "metadata": {
        "id": "ROZZaVmgXuLr"
      },
      "source": [
        "**x+3y+5z=10**\n",
        "\n",
        "**2x+5y+z=8**\n",
        "\n",
        "**2x+3y+8z=3 ***"
      ]
    },
    {
      "cell_type": "code",
      "metadata": {
        "colab": {
          "base_uri": "https://localhost:8080/"
        },
        "id": "KmrcIGxFX54m",
        "outputId": "da9b780b-84ab-4c9e-f34b-a444ff80c60f"
      },
      "source": [
        "from scipy import linalg\n",
        "import numpy as np\n",
        "\n",
        "a=np.array([[1,3,5],[2,5,1],[2,3,8]])\n",
        "b=np.array([10,8,3])\n",
        "\n",
        "X=linalg.solve(a,b)\n",
        "\n",
        "print(X)"
      ],
      "execution_count": null,
      "outputs": [
        {
          "output_type": "stream",
          "name": "stdout",
          "text": [
            "[-9.28  5.16  0.76]\n"
          ]
        }
      ]
    },
    {
      "cell_type": "markdown",
      "metadata": {
        "id": "t6YtPTHqZEh6"
      },
      "source": [
        "# **Finding an Determinant**"
      ]
    },
    {
      "cell_type": "code",
      "metadata": {
        "colab": {
          "base_uri": "https://localhost:8080/"
        },
        "id": "6u1LW8LIZsbS",
        "outputId": "96a04e62-5972-4e6e-e2f1-4c9d3d86790d"
      },
      "source": [
        "from scipy import linalg\n",
        "import numpy as np\n",
        "\n",
        "A=np.array([[1,2],[3,4]])\n",
        "\n",
        "x=linalg.det(A)\n",
        "\n",
        "print(x)"
      ],
      "execution_count": null,
      "outputs": [
        {
          "output_type": "stream",
          "name": "stdout",
          "text": [
            "-2.0\n"
          ]
        }
      ]
    },
    {
      "cell_type": "markdown",
      "metadata": {
        "id": "U3D62DUhZzpZ"
      },
      "source": [
        "# **Eigen values and Eigen Vectors**"
      ]
    },
    {
      "cell_type": "code",
      "metadata": {
        "colab": {
          "base_uri": "https://localhost:8080/"
        },
        "id": "EXWGR67taXv5",
        "outputId": "4a339acf-5cdc-425b-dc95-e596e6074dbd"
      },
      "source": [
        "from scipy import linalg\n",
        "import numpy as np\n",
        "\n",
        "A=np.array([[1,2],[3,4]])\n",
        "\n",
        "l,v=linalg.eig(A)\n",
        "\n",
        "print(\"Eigen Values :\\n\",l)\n",
        "\n",
        "print(\"Eigen Vectors:\\n\",v)"
      ],
      "execution_count": null,
      "outputs": [
        {
          "output_type": "stream",
          "name": "stdout",
          "text": [
            "Eigen Values :\n",
            " [-0.37228132+0.j  5.37228132+0.j]\n",
            "Eigen Vectors:\n",
            " [[-0.82456484 -0.41597356]\n",
            " [ 0.56576746 -0.90937671]]\n"
          ]
        }
      ]
    },
    {
      "cell_type": "markdown",
      "metadata": {
        "id": "aCdxaRvka0R7"
      },
      "source": [
        "# **Matplot Library**"
      ]
    },
    {
      "cell_type": "code",
      "metadata": {
        "colab": {
          "base_uri": "https://localhost:8080/",
          "height": 265
        },
        "id": "wCle2YgubEiJ",
        "outputId": "1229b5fa-aa0c-4df0-9d40-2a52a27fbfa5"
      },
      "source": [
        "import matplotlib.pyplot as plt\n",
        "import numpy as np\n",
        "\n",
        "x=np.arange(5)\n",
        "y=(35,45,23,27,60)\n",
        "\n",
        "plt.bar(x,y)\n",
        "plt.show()"
      ],
      "execution_count": null,
      "outputs": [
        {
          "output_type": "display_data",
          "data": {
            "image/png": "[encoded data removed]",
            "text/plain": [
              "<Figure size 432x288 with 1 Axes>"
            ]
          },
          "metadata": {
            "needs_background": "light"
          }
        }
      ]
    },
    {
      "cell_type": "code",
      "metadata": {
        "colab": {
          "base_uri": "https://localhost:8080/",
          "height": 265
        },
        "id": "T2IBEY17bjUC",
        "outputId": "c32aaa87-4a55-4708-b1fe-ee3472dea7c9"
      },
      "source": [
        "plt.scatter(x,y)\n",
        "plt.show()"
      ],
      "execution_count": null,
      "outputs": [
        {
          "output_type": "display_data",
          "data": {
            "image/png": "[encoded data removed]",
            "text/plain": [
              "<Figure size 432x288 with 1 Axes>"
            ]
          },
          "metadata": {
            "needs_background": "light"
          }
        }
      ]
    },
    {
      "cell_type": "code",
      "metadata": {
        "colab": {
          "base_uri": "https://localhost:8080/",
          "height": 204
        },
        "id": "kaIBiuDfdBQn",
        "outputId": "77f6893e-63fb-44b4-fd72-824d4dc96dd9"
      },
      "source": [
        "import pandas as pd\n",
        "from sklearn.datasets import load_iris\n",
        "iris=load_iris()\n",
        "df=pd.DataFrame(iris.data)\n",
        "\n",
        "df.columns=['sepal_Length','sepal_Width','petal_Length','petal_Width']\n",
        "df.head()"
      ],
      "execution_count": null,
      "outputs": [
        {
          "output_type": "execute_result",
          "data": {
            "text/html": [
              "<div>\n",
              "<style scoped>\n",
              "    .dataframe tbody tr th:only-of-type {\n",
              "        vertical-align: middle;\n",
              "    }\n",
              "\n",
              "    .dataframe tbody tr th {\n",
              "        vertical-align: top;\n",
              "    }\n",
              "\n",
              "    .dataframe thead th {\n",
              "        text-align: right;\n",
              "    }\n",
              "</style>\n",
              "<table border=\"1\" class=\"dataframe\">\n",
              "  <thead>\n",
              "    <tr style=\"text-align: right;\">\n",
              "      <th></th>\n",
              "      <th>sepal_Length</th>\n",
              "      <th>sepal_Width</th>\n",
              "      <th>petal_Length</th>\n",
              "      <th>petal_Width</th>\n",
              "    </tr>\n",
              "  </thead>\n",
              "  <tbody>\n",
              "    <tr>\n",
              "      <th>0</th>\n",
              "      <td>5.1</td>\n",
              "      <td>3.5</td>\n",
              "      <td>1.4</td>\n",
              "      <td>0.2</td>\n",
              "    </tr>\n",
              "    <tr>\n",
              "      <th>1</th>\n",
              "      <td>4.9</td>\n",
              "      <td>3.0</td>\n",
              "      <td>1.4</td>\n",
              "      <td>0.2</td>\n",
              "    </tr>\n",
              "    <tr>\n",
              "      <th>2</th>\n",
              "      <td>4.7</td>\n",
              "      <td>3.2</td>\n",
              "      <td>1.3</td>\n",
              "      <td>0.2</td>\n",
              "    </tr>\n",
              "    <tr>\n",
              "      <th>3</th>\n",
              "      <td>4.6</td>\n",
              "      <td>3.1</td>\n",
              "      <td>1.5</td>\n",
              "      <td>0.2</td>\n",
              "    </tr>\n",
              "    <tr>\n",
              "      <th>4</th>\n",
              "      <td>5.0</td>\n",
              "      <td>3.6</td>\n",
              "      <td>1.4</td>\n",
              "      <td>0.2</td>\n",
              "    </tr>\n",
              "  </tbody>\n",
              "</table>\n",
              "</div>"
            ],
            "text/plain": [
              "   sepal_Length  sepal_Width  petal_Length  petal_Width\n",
              "0           5.1          3.5           1.4          0.2\n",
              "1           4.9          3.0           1.4          0.2\n",
              "2           4.7          3.2           1.3          0.2\n",
              "3           4.6          3.1           1.5          0.2\n",
              "4           5.0          3.6           1.4          0.2"
            ]
          },
          "metadata": {},
          "execution_count": 66
        }
      ]
    },
    {
      "cell_type": "code",
      "metadata": {
        "colab": {
          "base_uri": "https://localhost:8080/",
          "height": 281
        },
        "id": "KNg6efEadJ0-",
        "outputId": "9feb0f58-5a82-4079-c582-1389322a561c"
      },
      "source": [
        "df.hist()\n",
        "plt.show()"
      ],
      "execution_count": null,
      "outputs": [
        {
          "output_type": "display_data",
          "data": {
            "image/png": "[encoded data removed]",
            "text/plain": [
              "<Figure size 432x288 with 4 Axes>"
            ]
          },
          "metadata": {
            "needs_background": "light"
          }
        }
      ]
    },
    {
      "cell_type": "code",
      "metadata": {
        "colab": {
          "base_uri": "https://localhost:8080/",
          "height": 265
        },
        "id": "m2CI6wFDdYlF",
        "outputId": "3a98fe1d-8a03-41bf-f231-d44737c350d6"
      },
      "source": [
        "df.plot()\n",
        "plt.show()"
      ],
      "execution_count": null,
      "outputs": [
        {
          "output_type": "display_data",
          "data": {
            "image/png": "[encoded data removed]",
            "text/plain": [
              "<Figure size 432x288 with 1 Axes>"
            ]
          },
          "metadata": {
            "needs_background": "light"
          }
        }
      ]
    },
    {
      "cell_type": "code",
      "metadata": {
        "id": "WMflw8TnfgGM",
        "colab": {
          "base_uri": "https://localhost:8080/",
          "height": 266
        },
        "outputId": "153ad5ae-7bf9-45f4-ec5c-78ba5d3024f3"
      },
      "source": [
        "df.boxplot()\n",
        "plt.show()"
      ],
      "execution_count": null,
      "outputs": [
        {
          "output_type": "display_data",
          "data": {
            "image/png": "[encoded data removed]",
            "text/plain": [
              "<Figure size 432x288 with 1 Axes>"
            ]
          },
          "metadata": {
            "needs_background": "light"
          }
        }
      ]
    },
    {
      "cell_type": "code",
      "metadata": {
        "colab": {
          "base_uri": "https://localhost:8080/",
          "height": 306
        },
        "id": "vie11hUzm2Wb",
        "outputId": "23cc7ac4-f6e5-40ff-87ca-902dbb74f9d4"
      },
      "source": [
        "import numpy as np\n",
        "x=np.linspace(0,20,1000)\n",
        "y=np.sin(x)\n",
        "\n",
        "plt.plot(x,y,label='sample Label')\n",
        "plt.title('sample plot title')\n",
        "plt.xlabel('x axis label')\n",
        "plt.ylabel('y axis label')\n",
        "plt.grid(True)\n",
        "\n",
        "plt.figtext(0.5,0.01,'Fig1:Sinusodial', ha='right',va='bottom')\n",
        "\n",
        "plt.legend(loc='best',framealpha=0.5,prop={'size':'small'})\n",
        "\n",
        "plt.tight_layout(pad=1)\n",
        "\n",
        "plt.show()"
      ],
      "execution_count": null,
      "outputs": [
        {
          "output_type": "display_data",
          "data": {
            "image/png": "[encoded data removed]",
            "text/plain": [
              "<Figure size 432x288 with 1 Axes>"
            ]
          },
          "metadata": {
            "needs_background": "light"
          }
        }
      ]
    },
    {
      "cell_type": "code",
      "metadata": {
        "id": "WE2AGhvSfpB5"
      },
      "source": [
        ""
      ],
      "execution_count": null,
      "outputs": []
    },
    {
      "cell_type": "code",
      "metadata": {
        "id": "qazG-IIkfha8"
      },
      "source": [
        ""
      ],
      "execution_count": null,
      "outputs": []
    }
  ]
}