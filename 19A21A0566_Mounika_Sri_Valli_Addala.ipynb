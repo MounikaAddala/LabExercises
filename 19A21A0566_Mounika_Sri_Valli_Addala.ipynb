{
  "nbformat": 4,
  "nbformat_minor": 0,
  "metadata": {
    "colab": {
      "name": "19A21A0566-Mounika Sri Valli Addala.ipynb",
      "provenance": [],
      "collapsed_sections": [],
      "authorship_tag": "ABX9TyP+mtcpIdSpryBy4cjfyD8Q",
      "include_colab_link": true
    },
    "kernelspec": {
      "name": "python3",
      "display_name": "Python 3"
    },
    "language_info": {
      "name": "python"
    }
  },
  "cells": [
    {
      "cell_type": "markdown",
      "metadata": {
        "id": "view-in-github",
        "colab_type": "text"
      },
      "source": [
        "<a href=\"https://colab.research.google.com/github/MounikaAddala/LabExercises/blob/main/19A21A0566_Mounika_Sri_Valli_Addala.ipynb\" target=\"_parent\"><img src=\"https://colab.research.google.com/assets/colab-badge.svg\" alt=\"Open In Colab\"/></a>"
      ]
    },
    {
      "cell_type": "code",
      "metadata": {
        "id": "hcxVvQoW--h4"
      },
      "source": [
        ""
      ],
      "execution_count": null,
      "outputs": []
    },
    {
      "cell_type": "markdown",
      "metadata": {
        "id": "GiwsFuk8_RFw"
      },
      "source": [
        "# EXERCISE 1-Basics\n",
        "\n",
        "# a)Running instructions in Interactive interpreter and a python script\n",
        "\n",
        "\n",
        "\n",
        "\n"
      ]
    },
    {
      "cell_type": "code",
      "metadata": {
        "colab": {
          "base_uri": "https://localhost:8080/"
        },
        "id": "HT6IXLGgDxS-",
        "outputId": "4142926f-57e1-4ab9-867f-fcdb266b9109"
      },
      "source": [
        "print(\"Hello,Mounika\")"
      ],
      "execution_count": null,
      "outputs": [
        {
          "output_type": "stream",
          "text": [
            "Hello,Mounika\n"
          ],
          "name": "stdout"
        }
      ]
    },
    {
      "cell_type": "markdown",
      "metadata": {
        "id": "sME0in5JEGtP"
      },
      "source": [
        "# b)Write a program to purposefully raise indentation error and correct it\n"
      ]
    },
    {
      "cell_type": "code",
      "metadata": {
        "colab": {
          "base_uri": "https://localhost:8080/",
          "height": 129
        },
        "id": "buH0Yl7DEWdm",
        "outputId": "113b3f9e-5386-45ad-fa52-08c5d88cd57a"
      },
      "source": [
        "if True:\n",
        "print(\"True\")\n",
        "else:\n",
        "  print(\"False\")"
      ],
      "execution_count": null,
      "outputs": [
        {
          "output_type": "error",
          "ename": "IndentationError",
          "evalue": "ignored",
          "traceback": [
            "\u001b[0;36m  File \u001b[0;32m\"<ipython-input-2-0f41a9d4bf14>\"\u001b[0;36m, line \u001b[0;32m2\u001b[0m\n\u001b[0;31m    print(\"True\")\u001b[0m\n\u001b[0m        ^\u001b[0m\n\u001b[0;31mIndentationError\u001b[0m\u001b[0;31m:\u001b[0m expected an indented block\n"
          ]
        }
      ]
    },
    {
      "cell_type": "code",
      "metadata": {
        "colab": {
          "base_uri": "https://localhost:8080/"
        },
        "id": "5LIo0q60Em0l",
        "outputId": "ccae043b-5f71-4e85-8ed3-667971a718da"
      },
      "source": [
        "if True:\n",
        "  print(\"True\")\n",
        "else:\n",
        "  print(\"False\")"
      ],
      "execution_count": null,
      "outputs": [
        {
          "output_type": "stream",
          "text": [
            "True\n"
          ],
          "name": "stdout"
        }
      ]
    },
    {
      "cell_type": "code",
      "metadata": {
        "colab": {
          "base_uri": "https://localhost:8080/"
        },
        "id": "MjRy4rH_Ezw1",
        "outputId": "8d7fc017-1e81-4bc7-d8d7-160c2d121299"
      },
      "source": [
        "if True:\n",
        "  print(\"True1\")\n",
        "  print(\"True2\")\n",
        "else:\n",
        "  print(\"False\")"
      ],
      "execution_count": null,
      "outputs": [
        {
          "output_type": "stream",
          "text": [
            "True1\n",
            "True2\n"
          ],
          "name": "stdout"
        }
      ]
    },
    {
      "cell_type": "markdown",
      "metadata": {
        "id": "sKcpXRcnFn_k"
      },
      "source": [
        "\n",
        "# EXERCISE 2-Operations\n",
        "\n",
        "# a)Write a program to compute distance between two points taking input from the user.\n",
        "\n"
      ]
    },
    {
      "cell_type": "code",
      "metadata": {
        "colab": {
          "base_uri": "https://localhost:8080/"
        },
        "id": "XdbTunSzGS5q",
        "outputId": "d5f72004-3558-40d5-e62b-acbe7f4bce26"
      },
      "source": [
        "import math\n",
        "x1=int(input(\"Enter x1 value:\"))\n",
        "x2=int(input(\"Enter x2 value:\"))\n",
        "y1=int(input(\"Enter y1 value:\"))\n",
        "y2=int(input(\"Enter y2 value:\"))\n",
        "\n",
        "d=math.sqrt((x2-x1)**2+((y2-y1)**2))\n",
        "print(\"Distance of two points:\",d)"
      ],
      "execution_count": null,
      "outputs": [
        {
          "output_type": "stream",
          "text": [
            "Enter x1 value:10\n",
            "Enter x2 value:3\n",
            "Enter y1 value:4\n",
            "Enter y2 value:5\n",
            "Distance of two points: 7.0710678118654755\n"
          ],
          "name": "stdout"
        }
      ]
    },
    {
      "cell_type": "markdown",
      "metadata": {
        "id": "NQdvzPr6HCD8"
      },
      "source": [
        "# b)Write a program add.py that takes 2 numbers as command line arguments and print its sum\n"
      ]
    },
    {
      "cell_type": "code",
      "metadata": {
        "colab": {
          "base_uri": "https://localhost:8080/"
        },
        "id": "najlQNkdHuuX",
        "outputId": "241b565b-d360-46af-aee0-516277b720f9"
      },
      "source": [
        "!bash"
      ],
      "execution_count": null,
      "outputs": [
        {
          "output_type": "stream",
          "text": [
            "bash: cannot set terminal process group (62): Inappropriate ioctl for device\n",
            "bash: no job control in this shell\n",
            "\u001b[01;34m/content\u001b[00m# python add.py 10 20\n",
            "python3: can't open file 'add.py': [Errno 2] No such file or directory\n",
            "\u001b[01;34m/content\u001b[00m# python add.py 10 20\n",
            "python3: can't open file 'add.py': [Errno 2] No such file or directory\n",
            "\u001b[01;34m/content\u001b[00m# \n",
            "\u001b[01;34m/content\u001b[00m# python add.py 10 20\n",
            "sum is: 30\n",
            "\u001b[01;34m/content\u001b[00m# \n",
            "\u001b[01;34m/content\u001b[00m# exit\n"
          ],
          "name": "stdout"
        }
      ]
    },
    {
      "cell_type": "markdown",
      "metadata": {
        "id": "JGNsIqrgLmak"
      },
      "source": [
        "# EXERCISE 3- Control flow\n",
        "\n",
        "# a)Write a program for checking whether the given number is an even number or not.\n"
      ]
    },
    {
      "cell_type": "code",
      "metadata": {
        "colab": {
          "base_uri": "https://localhost:8080/"
        },
        "id": "sZNTinkhMFUL",
        "outputId": "df7e150a-76b5-49d0-a38b-c603d6a3c136"
      },
      "source": [
        "#To check given number is even or odd\n",
        "n=int(input(\"Enter a number\"))\n",
        "if n%2==0:\n",
        "  print(\"Given number is even\")\n",
        "else:\n",
        "  print(\"Given number is odd\")"
      ],
      "execution_count": null,
      "outputs": [
        {
          "output_type": "stream",
          "text": [
            "Enter a number5\n",
            "Given number is odd\n"
          ],
          "name": "stdout"
        }
      ]
    },
    {
      "cell_type": "markdown",
      "metadata": {
        "id": "VQGTjyMyVCJk"
      },
      "source": [
        "# b)Using a for loop, write a program that prints out the decimal equivalents of 1/2,1/3,1/4,....1/10.\n",
        " "
      ]
    },
    {
      "cell_type": "code",
      "metadata": {
        "colab": {
          "base_uri": "https://localhost:8080/"
        },
        "id": "pWpLgd-4VazL",
        "outputId": "4def0bcd-1bc5-4cd9-fff1-c511029c986f"
      },
      "source": [
        "#prints out the decimal equivalents of 1/2,1/3,1/4,....1/10\n",
        "n=int(input(\"Enter a number:\"))\n",
        "for i in range(2,n):\n",
        "  de=1/i\n",
        "  print(\"1/\"+str(i)+\"=\",de)"
      ],
      "execution_count": null,
      "outputs": [
        {
          "output_type": "stream",
          "text": [
            "Enter a number:10\n",
            "1/2= 0.5\n",
            "1/3= 0.3333333333333333\n",
            "1/4= 0.25\n",
            "1/5= 0.2\n",
            "1/6= 0.16666666666666666\n",
            "1/7= 0.14285714285714285\n",
            "1/8= 0.125\n",
            "1/9= 0.1111111111111111\n"
          ],
          "name": "stdout"
        }
      ]
    },
    {
      "cell_type": "markdown",
      "metadata": {
        "id": "J90lQcHWWUOe"
      },
      "source": [
        "# c)Write a program using a for loop that loops over a sequence.What is sequence.\n"
      ]
    },
    {
      "cell_type": "code",
      "metadata": {
        "colab": {
          "base_uri": "https://localhost:8080/"
        },
        "id": "cCOBOf2lWrJO",
        "outputId": "75c84245-117c-414c-dbf3-de0f873e677c"
      },
      "source": [
        "arr=[4,\"abc\",-45,'C',10.5,True,5,10.6,'xyz']\n",
        "print(\"Given Array:\",arr)\n",
        "for x in arr:\n",
        "  print(x)"
      ],
      "execution_count": null,
      "outputs": [
        {
          "output_type": "stream",
          "text": [
            "Given Array: [4, 'abc', -45, 'C', 10.5, True, 5, 10.6, 'xyz']\n",
            "4\n",
            "abc\n",
            "-45\n",
            "C\n",
            "10.5\n",
            "True\n",
            "5\n",
            "10.6\n",
            "xyz\n"
          ],
          "name": "stdout"
        }
      ]
    },
    {
      "cell_type": "markdown",
      "metadata": {
        "id": "-0SZMESSXspC"
      },
      "source": [
        "# d)Write a program using a while loop that asks the user for a number,and prints a countdown from that number to zero\n"
      ]
    },
    {
      "cell_type": "code",
      "metadata": {
        "colab": {
          "base_uri": "https://localhost:8080/"
        },
        "id": "lIfhDFSQX_uC",
        "outputId": "e69e8a47-e199-4cee-9fcb-e6b865f9ae6f"
      },
      "source": [
        "n=int(input(\"ENter value of n:\"))\n",
        "while n>=0:\n",
        "  print(n)\n",
        "  n=n-1"
      ],
      "execution_count": null,
      "outputs": [
        {
          "output_type": "stream",
          "text": [
            "ENter value of n:10\n",
            "10\n",
            "9\n",
            "8\n",
            "7\n",
            "6\n",
            "5\n",
            "4\n",
            "3\n",
            "2\n",
            "1\n",
            "0\n"
          ],
          "name": "stdout"
        }
      ]
    },
    {
      "cell_type": "markdown",
      "metadata": {
        "id": "nu1RbbDhYaqd"
      },
      "source": [
        "## EXERCISE 4-Control Flow-Continued\n",
        "\n",
        "# a)Find the sum of all the primes below two million\n"
      ]
    },
    {
      "cell_type": "code",
      "metadata": {
        "colab": {
          "base_uri": "https://localhost:8080/"
        },
        "id": "wx7S1t6VY2Kn",
        "outputId": "c0c7c94a-3f0d-40b4-aa3d-369499d4dbc4"
      },
      "source": [
        "#sum of all the primes of given number below two million\n",
        "n=int(input(\"Enter an ending number:\"))\n",
        "st=\"\"\n",
        "sum=0\n",
        "for i in range(2,n):\n",
        "  state=True\n",
        "  for j in range(2,i):\n",
        "    if(i%j)==0:\n",
        "      state=False\n",
        "      break;\n",
        "  if state==True:\n",
        "    st+=\" \"+str(i)\n",
        "    sum+=i\n",
        "print(\"Prime numbers:\")\n",
        "print(st)\n",
        "print(\"Sum of the prime numbes:\",sum)"
      ],
      "execution_count": null,
      "outputs": [
        {
          "output_type": "stream",
          "text": [
            "Enter an ending number:100\n",
            "Prime numbers:\n",
            " 2 3 5 7 11 13 17 19 23 29 31 37 41 43 47 53 59 61 67 71 73 79 83 89 97\n",
            "Sum of the prime numbes: 1060\n"
          ],
          "name": "stdout"
        }
      ]
    },
    {
      "cell_type": "markdown",
      "metadata": {
        "id": "iHMY-4X_aifc"
      },
      "source": [
        "# b)Each new term in the fibonacci sequence is generated by adding the previous two terms.By starting with1 and 2 ,th first 10 terms will be :1,2,3,5,8,13,21,34,55,89,...\n"
      ]
    },
    {
      "cell_type": "code",
      "metadata": {
        "colab": {
          "base_uri": "https://localhost:8080/"
        },
        "id": "a5GQ7OCfbUDj",
        "outputId": "fddcf993-c679-48f2-884c-8458c7a33b87"
      },
      "source": [
        "#Fibonacci series\n",
        "n=int(input(\"Enter value of n:\"))\n",
        "a=0\n",
        "b=1\n",
        "c=a+b\n",
        "while c<n:\n",
        "  print(c,end=\" \")\n",
        "  a=b\n",
        "  b=c\n",
        "  c=a+b\n"
      ],
      "execution_count": null,
      "outputs": [
        {
          "output_type": "stream",
          "text": [
            "Enter value of n:100\n",
            "1 2 3 5 8 13 21 34 55 89 "
          ],
          "name": "stdout"
        }
      ]
    },
    {
      "cell_type": "markdown",
      "metadata": {
        "id": "B3wGLA-OcSj2"
      },
      "source": [
        "# c)By considering the terms in the fibonacci sequence whose values do not exceed four million, find the sum of the even-valued terms.\n"
      ]
    },
    {
      "cell_type": "code",
      "metadata": {
        "colab": {
          "base_uri": "https://localhost:8080/"
        },
        "id": "U0-1KVdwehNY",
        "outputId": "eff00f3e-d63e-4713-eca9-de6ec077e540"
      },
      "source": [
        "n=int(input(\"Enter value of n:\"))\n",
        "a=0\n",
        "b=1\n",
        "c=a+b\n",
        "sum=0\n",
        "print(\"Even numbers in Fibonacci series:\",end=\" \")\n",
        "while c<=n:\n",
        "  if c%2==0:\n",
        "    print(c,end=' ')\n",
        "    sum+=c\n",
        "  a=b\n",
        "  b=c\n",
        "  c=a+b\n",
        "print(\"\\nSum of Fibonacci series is:\",sum)"
      ],
      "execution_count": null,
      "outputs": [
        {
          "output_type": "stream",
          "text": [
            "Enter value of n:200000\n",
            "Even numbers in Fibonacci series: 2 8 34 144 610 2584 10946 46368 196418 \n",
            "Sum of Fibonacci series is: 257114\n"
          ],
          "name": "stdout"
        }
      ]
    },
    {
      "cell_type": "markdown",
      "metadata": {
        "id": "tY9sjFKHfpKe"
      },
      "source": [
        "# EXERCISE 5-DS\n",
        "\n",
        "# a)Write a program to count the numbers of characters in the string and store them in a dictionary data structure.\n"
      ]
    },
    {
      "cell_type": "code",
      "metadata": {
        "id": "OeZ0I6AVgG58",
        "colab": {
          "base_uri": "https://localhost:8080/"
        },
        "outputId": "c324a471-83e3-4b21-c174-56745fd0e900"
      },
      "source": [
        "name=input(\"Enter a name:\")\n",
        "dic={}\n",
        "\n",
        "for ch in name:\n",
        "  keys=dic.keys()\n",
        "\n",
        "  if(ch in keys):\n",
        "    dic[ch]=dic[ch]+1\n",
        "  else:\n",
        "    dic[ch]=1\n",
        "print(\"Dictionary is :\",dic)\n",
        "\n"
      ],
      "execution_count": null,
      "outputs": [
        {
          "output_type": "stream",
          "text": [
            "Enter a name:mounikasrivalli\n",
            "Dictionary is : {'m': 1, 'o': 1, 'u': 1, 'n': 1, 'i': 3, 'k': 1, 'a': 2, 's': 1, 'r': 1, 'v': 1, 'l': 2}\n"
          ],
          "name": "stdout"
        }
      ]
    },
    {
      "cell_type": "markdown",
      "metadata": {
        "id": "barKfIc1YijQ"
      },
      "source": [
        "# b)Write a program to use split and join methods in the string and trace a birthday with a dictionary data structure.\n"
      ]
    },
    {
      "cell_type": "code",
      "metadata": {
        "colab": {
          "base_uri": "https://localhost:8080/"
        },
        "id": "5mPCoYeGZlZM",
        "outputId": "0c0d3107-5015-48c9-abd4-b61914dd4ac4"
      },
      "source": [
        "dob={\"Mounika\":\"20-May-2002\",\"Navya\":\"20-Sep-2002\"}\n",
        "\n",
        "name=input(\"Which person DOB you want:\")\n",
        "l=name.split()\n",
        "birth=\"\"\n",
        "\n",
        "for i in l:\n",
        "  if i in dob.keys():\n",
        "    pers=i\n",
        "print(\" \".join([pers,\"Birthday is\",dob[pers]]) )"
      ],
      "execution_count": null,
      "outputs": [
        {
          "output_type": "stream",
          "text": [
            "Which person DOB you want:Navya\n",
            "Navya Birthday is 20-Sep-2002\n"
          ],
          "name": "stdout"
        }
      ]
    },
    {
      "cell_type": "markdown",
      "metadata": {
        "id": "UTfwzDvybw64"
      },
      "source": [
        "# EXERCISE 6-DS (CONTINUED)\n",
        "\n",
        "# a)Write a program combine lists that combines these lists into a directory.\n"
      ]
    },
    {
      "cell_type": "code",
      "metadata": {
        "colab": {
          "base_uri": "https://localhost:8080/"
        },
        "id": "eyhRqjSr6R0g",
        "outputId": "20adfbc0-f4e6-4d98-db4e-bf6fcf28aacb"
      },
      "source": [
        "subj=[\"DAA\",\"OS\",\"DBMS\",\"P&S\",\"PPL\",\"SE\"]\n",
        "marks=[85,96,78,68,98,56]\n",
        "print(\"Given lists are:\")\n",
        "print(\"Subject Names:\",subj)\n",
        "print(\"Marks values:\",marks)\n",
        "\n",
        "dic=dict(zip(subj,marks))\n",
        "print(\"\\n Dictionary:\",dic)"
      ],
      "execution_count": null,
      "outputs": [
        {
          "output_type": "stream",
          "text": [
            "Given lists are:\n",
            "Subject Names: ['DAA', 'OS', 'DBMS', 'P&S', 'PPL', 'SE']\n",
            "Marks values: [85, 96, 78, 68, 98, 56]\n",
            "\n",
            " Dictionary: {'DAA': 85, 'OS': 96, 'DBMS': 78, 'P&S': 68, 'PPL': 98, 'SE': 56}\n"
          ],
          "name": "stdout"
        }
      ]
    },
    {
      "cell_type": "markdown",
      "metadata": {
        "id": "6_SnzANt7LeK"
      },
      "source": [
        "# b) Write a program to count frequency of characters in a given file.Can you use character frequency to tell whether the given file is a Python program file,C program file or a text file? \n"
      ]
    },
    {
      "cell_type": "code",
      "metadata": {
        "id": "p499y_fE7uFV",
        "colab": {
          "base_uri": "https://localhost:8080/"
        },
        "outputId": "545253e6-22f4-4624-a00b-6aa6131c5677"
      },
      "source": [
        "filetypes=['.py','.c','.txt']\n",
        "fn=input(\"Enter the file name:\")\n",
        "f=open(fn,\"r\")\n",
        "count=dict()\n",
        "\n",
        "print(\"Given file is\",end=\"\")\n",
        "for ft in filetypes:\n",
        "  if(ft in fn):\n",
        "    if(ft=='.py'):\n",
        "      print(\"Python file\")\n",
        "    elif(ft=='.c'):\n",
        "      print(\"C File\")\n",
        "    elif(ft=='.txt'):\n",
        "       print(\"Text File\")\n",
        "for line in f:\n",
        "  for ch in line:\n",
        "    if ch in count:\n",
        "      count[ch]=count[ch]+1\n",
        "    else:\n",
        "      count[ch]=1\n",
        "print(count)\n",
        "f.close()\n",
        "\n",
        "    "
      ],
      "execution_count": null,
      "outputs": [
        {
          "output_type": "stream",
          "text": [
            "Enter the file name:data.txt\n",
            "Given file isText File\n",
            "{'M': 2, 'y': 1, ' ': 5, 'n': 2, 'a': 3, 'm': 1, 'e': 1, 'i': 4, 's': 1, 'o': 1, 'u': 1, 'k': 1, 'S': 1, 'r': 1, 'V': 1, 'l': 2}\n"
          ],
          "name": "stdout"
        }
      ]
    },
    {
      "cell_type": "markdown",
      "metadata": {
        "id": "rR2-38nojb-T"
      },
      "source": [
        "# EXERCISE 7-Files\n",
        "\n",
        "# a) Write a program to print each line of a file in reverse order.\n"
      ]
    },
    {
      "cell_type": "code",
      "metadata": {
        "colab": {
          "base_uri": "https://localhost:8080/"
        },
        "id": "V_V5j7kLjyNx",
        "outputId": "5885c39a-48ff-40f3-fb23-c2841158c68b"
      },
      "source": [
        "obj=open(\"data.txt\",\"r\")\n",
        "if obj:\n",
        "  st=obj.read()\n",
        "  print(\"File content is:\\n\",st)\n",
        "obj.close()\n",
        "print()\n",
        "lines=st.split('\\n')\n",
        "\n",
        "for ln in lines:\n",
        "  i=len(ln)-1\n",
        "  while(i>=0):\n",
        "    print(ln[i],end=\"\")\n",
        "    i=i-1\n",
        "  print()\n"
      ],
      "execution_count": null,
      "outputs": [
        {
          "output_type": "stream",
          "text": [
            "File content is:\n",
            " My name is Mounika Sri Valli\n",
            "\n",
            "illaV irS akinuoM si eman yM\n"
          ],
          "name": "stdout"
        }
      ]
    },
    {
      "cell_type": "markdown",
      "metadata": {
        "id": "2dPfoPD6ksMx"
      },
      "source": [
        "\n",
        "# b) Write a program to compute the number of characters,words and lines in a file.\n"
      ]
    },
    {
      "cell_type": "code",
      "metadata": {
        "colab": {
          "base_uri": "https://localhost:8080/"
        },
        "id": "WwYIOKVwk6Rx",
        "outputId": "bef1a8c4-27b6-4c52-f41e-1fd41f02ec15"
      },
      "source": [
        "nc=nw=nl=0\n",
        "file=open(\"data.txt\",\"r\")\n",
        "\n",
        "nl=nw=nc=0\n",
        "print(\"File Content:\\n\")\n",
        "for line in file:\n",
        "  ln=line.strip(\"\\n\")\n",
        "  print(ln)\n",
        "  words=ln.split()\n",
        "  nl+=1\n",
        "  nw+=len(words)\n",
        "  nc+=len(line)\n",
        "file.close()\n",
        "print(\"\\n No.of lines:\",nl,\"words:\",nw,\"characters:\",nc)"
      ],
      "execution_count": null,
      "outputs": [
        {
          "output_type": "stream",
          "text": [
            "File Content:\n",
            "\n",
            "My name is Mounika Sri Valli\n",
            "\n",
            " No.of lines: 1 words: 6 characters: 28\n"
          ],
          "name": "stdout"
        }
      ]
    },
    {
      "cell_type": "markdown",
      "metadata": {
        "id": "V_JcTrijmWll"
      },
      "source": [
        "# EXERCISE 8-Functions\n",
        "\n",
        "# a) Write a function ball collide that takes two balls as parameters and computes if they are colliding.Your function should return a Boolean representing whether or not the balls are colliding.\n",
        "Hint: Represent a ball on a plane as a tuple of (x,y,r),r being the radius.If (distance betweem two balls centers)<=(sum of their radii) then (they are colliding)."
      ]
    },
    {
      "cell_type": "code",
      "metadata": {
        "colab": {
          "base_uri": "https://localhost:8080/"
        },
        "id": "Rv9OizqGm70f",
        "outputId": "dcbc4fed-ce89-42c7-8f70-0c71d930b823"
      },
      "source": [
        "import math\n",
        "def collide(ball_tup1,ball_tup2):\n",
        "  x1,y1,r1=ball_tup1\n",
        "  x2,y2,r2=ball_tup2\n",
        "\n",
        "  print(\"Ball-01:\",ball_tup1)\n",
        "  print(\"Ball-02:\",ball_tup2)\n",
        "\n",
        "  d=math.sqrt((x2-x1)**2+(y2-y1)**2)\n",
        "  print(\"Centroid Distance of two balls:\",d)\n",
        "  print(\"Sum of Radius Ball-01 & Ball-02 is:{}+{}={}\".format(r1,r2,r1+r2))\n",
        "\n",
        "  if d<=r1+r2:\n",
        "    return True\n",
        "  else:\n",
        "    return False\n",
        "\n",
        "b1=(-2,-4,3)\n",
        "b2=(4,6,3)\n",
        "\n",
        "if collide(b1,b2):\n",
        "  print(\"Balls are Collide...!\")\n",
        "else:\n",
        "  print(\"Balls are not Collide...!\")"
      ],
      "execution_count": null,
      "outputs": [
        {
          "output_type": "stream",
          "text": [
            "Ball-01: (-2, -4, 3)\n",
            "Ball-02: (4, 6, 3)\n",
            "Centroid Distance of two balls: 11.661903789690601\n",
            "Sum of Radius Ball-01 & Ball-02 is:3+3=6\n",
            "Balls are not Collide...!\n"
          ],
          "name": "stdout"
        }
      ]
    },
    {
      "cell_type": "markdown",
      "metadata": {
        "id": "ee-WNbeXm-3t"
      },
      "source": [
        "\n",
        "# b) Find mean,median,mode for the given set of numbers in a list.\n",
        "\n"
      ]
    },
    {
      "cell_type": "code",
      "metadata": {
        "colab": {
          "base_uri": "https://localhost:8080/"
        },
        "id": "6hrQMtONqTtO",
        "outputId": "1bae2d47-4a2f-4ed9-a0c2-9401b7b997b6"
      },
      "source": [
        "def list_mean(num_list):\n",
        "  return sum(num_list)/len(num_list)\n",
        "def list_median(num_list):\n",
        "  num_list.sort()\n",
        "  \n",
        "  n=len(num_list)\n",
        "  mid=n//2\n",
        "  if(n%2==1):\n",
        "    return num_list[mid]\n",
        "  else:\n",
        "    mid\n",
        "    return(num_list[mid-1]+num_list[mid])/2\n",
        "\n",
        "def list_mode(num_list):\n",
        "  num_list.sort()\n",
        "  temp=[]\n",
        "\n",
        "  i=0\n",
        "  while i<len(num_list):\n",
        "    temp.append(num_list.count(num_list[i]))\n",
        "    i+=1\n",
        "\n",
        "  dic=dict(zip(num_list,temp))\n",
        "  mode={k for(k,v) in dic.items()if v==max(temp)}\n",
        "  return mode\n",
        "  \n",
        "lst=[1,1,2,2,2,3,4,5,3]\n",
        "\n",
        "print(\"Given list is:\",lst)\n",
        "print(\"Mean of the given list:\",list_mean(lst))\n",
        "print(\"Median of the givem list:\",list_median(lst))\n",
        "print(\"Mode of the given list:\",list_mode(lst))"
      ],
      "execution_count": null,
      "outputs": [
        {
          "output_type": "stream",
          "text": [
            "Given list is: [1, 1, 2, 2, 2, 3, 4, 5, 3]\n",
            "Mean of the given list: 2.5555555555555554\n",
            "Median of the givem list: 2\n",
            "Mode of the given list: {2}\n"
          ],
          "name": "stdout"
        }
      ]
    },
    {
      "cell_type": "markdown",
      "metadata": {
        "id": "G_005BCJzCLa"
      },
      "source": [
        "# EXERCISE 9-Functions-Continued\n",
        "\n",
        "# a) Write a function nearly equal to test whether two strings are nearly equal.Two strings a and b are nearly equal when a can be generated by a single mutuation on b.\n"
      ]
    },
    {
      "cell_type": "code",
      "metadata": {
        "colab": {
          "base_uri": "https://localhost:8080/"
        },
        "id": "CtxLezX4z_zp",
        "outputId": "ff71fd27-223f-49f9-b17f-e32ea83fbaad"
      },
      "source": [
        "def nearly_eq(str1,str2):\n",
        "  count=0\n",
        "  i=j=0\n",
        "  while(i<len(str1)and j<len(str2)):\n",
        "    if(str1[i]!=str2[j]):\n",
        "      count+=1\n",
        "      if(len(str1)>len(str2)):\n",
        "        i+=1\n",
        "      elif(len(str1)==len(str2)):\n",
        "        pass\n",
        "      else:\n",
        "        i-=1\n",
        "    if(count>1):\n",
        "      return False\n",
        "    i+=1\n",
        "    j+=1\n",
        "  if(count<2):\n",
        "    return True\n",
        "s1=input(\"Enter String1:\")\n",
        "s2=input(\"Enter String2:\")\n",
        "bln=nearly_eq(s1,s2)\n",
        "if(bln):\n",
        "  print(\"Strings are nearly equal\")\n",
        "else:\n",
        "  print(\"Strings are not equal\")"
      ],
      "execution_count": null,
      "outputs": [
        {
          "output_type": "stream",
          "text": [
            "Enter String1:Mounika\n",
            "Enter String2:Mounika\n",
            "Strings are nearly equal\n"
          ],
          "name": "stdout"
        }
      ]
    },
    {
      "cell_type": "markdown",
      "metadata": {
        "id": "j05TMapj1tS8"
      },
      "source": [
        "# b) Write a function dup to find all duplicates in the list.\n"
      ]
    },
    {
      "cell_type": "code",
      "metadata": {
        "colab": {
          "base_uri": "https://localhost:8080/"
        },
        "id": "bbQZyuRJ2qj9",
        "outputId": "6848e998-af28-418a-d4e3-52f948fdc5e2"
      },
      "source": [
        "def dups(numlist):\n",
        "  temp=[]\n",
        "  for i in numlist:\n",
        "    cnt=numlist.count(i)\n",
        "    if(cnt>1 and (i not in temp)):\n",
        "      temp.append(i)\n",
        "  print(\"Duplicates in the list:\",temp)\n",
        "lst=[1,2,6,9,1,3,5,2,1]\n",
        "print(\"Given elements in the list:\",lst)\n",
        "dups(lst)"
      ],
      "execution_count": null,
      "outputs": [
        {
          "output_type": "stream",
          "text": [
            "Given elements in the list: [1, 2, 6, 9, 1, 3, 5, 2, 1]\n",
            "Duplicates in the list: [1, 2]\n"
          ],
          "name": "stdout"
        }
      ]
    },
    {
      "cell_type": "markdown",
      "metadata": {
        "id": "seyRHf3S3niW"
      },
      "source": [
        "# c) Write a function unique to find all the unique elements of a list.\n"
      ]
    },
    {
      "cell_type": "code",
      "metadata": {
        "colab": {
          "base_uri": "https://localhost:8080/"
        },
        "id": "gl7wKbIZ3xs6",
        "outputId": "96078fac-3581-4469-8e36-967db7a0772b"
      },
      "source": [
        "def unique(numlist):\n",
        "  temp=[]\n",
        "  for i in numlist:\n",
        "    cnt=numlist.count(i)\n",
        "    if cnt==1:\n",
        "      temp.append(i)\n",
        "  print(\"Unique ELements in the list:\",temp)\n",
        "\n",
        "lst=[1,2,6,9,1,3,5,2,1]\n",
        "print(\"Given elements in the list:\",lst)\n",
        "unique(lst)"
      ],
      "execution_count": null,
      "outputs": [
        {
          "output_type": "stream",
          "text": [
            "Given elements in the list: [1, 2, 6, 9, 1, 3, 5, 2, 1]\n",
            "Unique ELements in the list: [6, 9, 3, 5]\n"
          ],
          "name": "stdout"
        }
      ]
    },
    {
      "cell_type": "markdown",
      "metadata": {
        "id": "7W88xpFc4oIN"
      },
      "source": [
        "# EXERCISE 10-Functions-Problem Solving\n",
        "\n",
        "# a) Write a function cumulative product to compute cumulative product of a list of numbers.\n"
      ]
    },
    {
      "cell_type": "code",
      "metadata": {
        "colab": {
          "base_uri": "https://localhost:8080/"
        },
        "id": "x6q1kGEw5ZmG",
        "outputId": "469d9e47-ff58-4452-c014-9f11a5125458"
      },
      "source": [
        "def cum_prod(numlist):\n",
        "  prod=1\n",
        "  temp=[]\n",
        "  for i in numlist:\n",
        "    prod*=i\n",
        "    temp.append(prod)\n",
        "  return temp\n",
        "\n",
        "lst=[1,2,4,5,3]\n",
        "print(\"Given list is:\",lst)\n",
        "print(\"Cumulative Product list is:\",cum_prod(lst))"
      ],
      "execution_count": null,
      "outputs": [
        {
          "output_type": "stream",
          "text": [
            "Given list is: [1, 2, 4, 5, 3]\n",
            "Cumulative Product list is: [1, 2, 8, 40, 120]\n"
          ],
          "name": "stdout"
        }
      ]
    },
    {
      "cell_type": "markdown",
      "metadata": {
        "id": "u5jqp12t6VjW"
      },
      "source": [
        "# b) Write a function reverse to reverse a list. Without using the reverse function.\n"
      ]
    },
    {
      "cell_type": "code",
      "metadata": {
        "colab": {
          "base_uri": "https://localhost:8080/"
        },
        "id": "Y_ZnZXIC6iKD",
        "outputId": "dd43e736-332a-4099-d88c-72235b27f0c0"
      },
      "source": [
        "def reverse_list(numlist):\n",
        "  i=0\n",
        "  j=len(numlist)-1\n",
        "  while(i<=j):\n",
        "    temp=numlist[i]\n",
        "    numlist[i]=numlist[j]\n",
        "    numlist[j]=temp\n",
        "    j-=1\n",
        "    i+=1\n",
        "  return numlist\n",
        "lst=[1,2,3,4]\n",
        "print(\"Given list is:\",lst)\n",
        "reverse_list(lst)\n",
        "print(\"Reverse of the given list is:\",lst)"
      ],
      "execution_count": null,
      "outputs": [
        {
          "output_type": "stream",
          "text": [
            "Given list is: [1, 2, 3, 4]\n",
            "Reverse of the given list is: [4, 3, 2, 1]\n"
          ],
          "name": "stdout"
        }
      ]
    },
    {
      "cell_type": "markdown",
      "metadata": {
        "id": "-3D47fE77cHB"
      },
      "source": [
        "# c) Write function to compute gcd, lcm of two numbers.Each function shouldn't exceed one line.\n"
      ]
    },
    {
      "cell_type": "code",
      "metadata": {
        "colab": {
          "base_uri": "https://localhost:8080/"
        },
        "id": "LyJmML4x7qlu",
        "outputId": "24bbc192-cb00-4a6b-b6c1-3490d566b20b"
      },
      "source": [
        "gcd=lambda a,b:a if b==0 else gcd(a,a%b)\n",
        "lcm=lambda a,b:(a*b)/gcd(a,b)\n",
        "\n",
        "x=4\n",
        "y=24\n",
        "print(\"The Given numbers:\",x,y)\n",
        "print(\"GCD is :\",gcd(x,y))\n",
        "print(\"LCM is :\",lcm(x,y))"
      ],
      "execution_count": null,
      "outputs": [
        {
          "output_type": "stream",
          "text": [
            "The Given numbers: 4 24\n",
            "GCD is : 4\n",
            "LCM is : 24.0\n"
          ],
          "name": "stdout"
        }
      ]
    },
    {
      "cell_type": "markdown",
      "metadata": {
        "id": "v8MxaLJfl4Fb"
      },
      "source": [
        "\n",
        "# EXERCISE 11-Multi-D Lists\n",
        "\n",
        "# a)Write a program that defines a matrix and prints.\n"
      ]
    },
    {
      "cell_type": "code",
      "metadata": {
        "colab": {
          "base_uri": "https://localhost:8080/"
        },
        "id": "JUMZr1_6miUZ",
        "outputId": "827f9374-f1ae-4fd8-bd28-baa172783cac"
      },
      "source": [
        "matA=[[]]\n",
        "rows=int(input(\"Enter row size of matrix:\"))\n",
        "cols=int(input(\"Enter column size of matrix:\"))\n",
        "matA=[[int(input(\"Enter [%d,%d] value:\"%(i,j)))for j in range(cols)]for i in range(rows)]\n",
        "print(\"Matrix is:\")\n",
        "for i in range(rows):\n",
        "  for j in range(cols):\n",
        "    print(matA[i][j],end='\\t')\n",
        "  print()"
      ],
      "execution_count": null,
      "outputs": [
        {
          "output_type": "stream",
          "text": [
            "Enter row size of matrix:3\n",
            "Enter column size of matrix:2\n",
            "Enter [0,0] value:7\n",
            "Enter [0,1] value:2\n",
            "Enter [1,0] value:1\n",
            "Enter [1,1] value:6\n",
            "Enter [2,0] value:3\n",
            "Enter [2,1] value:5\n",
            "Matrix is:\n",
            "7\t2\t\n",
            "1\t6\t\n",
            "3\t5\t\n"
          ],
          "name": "stdout"
        }
      ]
    },
    {
      "cell_type": "markdown",
      "metadata": {
        "id": "zImZrwvkoYwz"
      },
      "source": [
        "\n",
        "# b) Write a program to perform addition of two square matrices.\n"
      ]
    },
    {
      "cell_type": "code",
      "metadata": {
        "colab": {
          "base_uri": "https://localhost:8080/"
        },
        "id": "0Qz7tS1mojPq",
        "outputId": "c3c60645-ac15-4c96-a721-52edafc70391"
      },
      "source": [
        "def matRead(r,c):\n",
        "  return [[int(input(\"[%d,%d]value:\"%(i,j)))for j in range(c)]for i in range(r)]\n",
        "          \n",
        "def matDisp(mat,r,c):\n",
        "  for i in range(r):\n",
        "    for j in range(c):\n",
        "      print(mat[i][j],end='\\t')\n",
        "    print()\n",
        "\n",
        "matA=[[]]\n",
        "matB=[[]]\n",
        "matSum=[[]]\n",
        "rows=int(input(\"Enter row size of the matrix:\"))\n",
        "cols=int(input(\"Enter column size of the matrix:\"))\n",
        "\n",
        "if rows==cols:\n",
        "   print(\"Enter matrix-A elements:\")\n",
        "   matA=matRead(rows,cols)\n",
        "\n",
        "   print(\"Enter matrix-B elements:\")\n",
        "   matB=matRead(rows,cols)\n",
        "   \n",
        "   print(\"Matrix-A is:\")\n",
        "   matDisp(matA,rows,cols)\n",
        "\n",
        "   print(\"Matrix-B is:\")\n",
        "   matDisp(matB,rows,cols)\n",
        "\n",
        "   matSum=[[matA[i][j]+matB[i][j]for j in range(cols)]for i in range(rows)]\n",
        "   print(\"Sum of Matrices is:\")\n",
        "   matDisp(matSum,rows,cols)\n",
        "else:\n",
        "  print(\"Matrices Addition is Not Possible\")"
      ],
      "execution_count": null,
      "outputs": [
        {
          "output_type": "stream",
          "text": [
            "Enter row size of the matrix:2\n",
            "Enter column size of the matrix:2\n",
            "Enter matrix-A elements:\n",
            "[0,0]value:1\n",
            "[0,1]value:2\n",
            "[1,0]value:3\n",
            "[1,1]value:4\n",
            "Enter matrix-B elements:\n",
            "[0,0]value:9\n",
            "[0,1]value:6\n",
            "[1,0]value:5\n",
            "[1,1]value:4\n",
            "Matrix-A is:\n",
            "1\t2\t\n",
            "3\t4\t\n",
            "Matrix-B is:\n",
            "9\t6\t\n",
            "5\t4\t\n",
            "Sum of Matrices is:\n",
            "10\t8\t\n",
            "8\t8\t\n"
          ],
          "name": "stdout"
        }
      ]
    },
    {
      "cell_type": "markdown",
      "metadata": {
        "id": "rulTEvpMrBqA"
      },
      "source": [
        "# c)Write a program to perform multiplication of two square matrices.\n"
      ]
    },
    {
      "cell_type": "code",
      "metadata": {
        "colab": {
          "base_uri": "https://localhost:8080/"
        },
        "id": "wHd_zxturEYk",
        "outputId": "f9ab97f3-dcb1-49ba-ae46-35d8de7ee834"
      },
      "source": [
        "def matRead(r,c):\n",
        "   return[[int(input(\"[%d,%d]value: \"%(i,j)))for j in range(c)] for i in range(r)]\n",
        "\n",
        "def matDisp(mat,r,c):\n",
        "    for i in range(r):\n",
        "        for j in range(c):\n",
        "            print(mat[i][j],end='\\t')\n",
        "        print()\n",
        "\n",
        "matA=[[]]\n",
        "matB=[[]]\n",
        "matMul=[[]]\n",
        "rows=int(input(\"Enter Row Size of the Matrix: \"))\n",
        "cols=int(input(\"Enter column size of the Matrix: \"))\n",
        "if rows==cols:\n",
        "    print(\"Enter Matrix-A: \")\n",
        "    matA=matRead(rows,cols)\n",
        "\n",
        "    print(\"Enter Matrix-B: \")\n",
        "    matB=matRead(rows,cols)\n",
        "\n",
        "    matMul=[[0 for j in range(cols)] for i in range(rows)]\n",
        "\n",
        "    for i in range(rows):\n",
        "        for j in range(cols):\n",
        "            for k in range(cols):\n",
        "                matMul[i][j]+=matA[i][k]*matB[k][j]\n",
        "                \n",
        "    print(\"Matrix-A is: \")\n",
        "    matDisp(matA,rows,cols)\n",
        "\n",
        "    print(\"Matrix-B is: \")\n",
        "    matDisp(matB,rows,cols)\n",
        "\n",
        "    print(\"Multiplication of Matrices is: \")\n",
        "    matDisp(matMul,rows,cols)\n",
        "else:\n",
        "    print(\"Matrices Multiplication is not possible\")"
      ],
      "execution_count": null,
      "outputs": [
        {
          "output_type": "stream",
          "text": [
            "Enter Row Size of the Matrix: 2\n",
            "Enter column size of the Matrix: 2\n",
            "Enter Matrix-A: \n",
            "[0,0]value: 4\n",
            "[0,1]value: 3\n",
            "[1,0]value: 2\n",
            "[1,1]value: 4\n",
            "Enter Matrix-B: \n",
            "[0,0]value: 1\n",
            "[0,1]value: 5\n",
            "[1,0]value: 6\n",
            "[1,1]value: 4\n",
            "Matrix-A is: \n",
            "4\t3\t\n",
            "2\t4\t\n",
            "Matrix-B is: \n",
            "1\t5\t\n",
            "6\t4\t\n",
            "Multiplication of Matrices is: \n",
            "22\t32\t\n",
            "26\t26\t\n"
          ],
          "name": "stdout"
        }
      ]
    },
    {
      "cell_type": "markdown",
      "metadata": {
        "id": "kRkWgC_vrXOs"
      },
      "source": [
        ""
      ]
    }
  ]
}